{
 "cells": [
  {
   "cell_type": "markdown",
   "id": "95afc41a-372e-448b-9807-2ba6af47624d",
   "metadata": {
    "tags": []
   },
   "source": [
    "# Exploratory data analysis of the Maternal Health Risk Data Set"
   ]
  },
  {
   "cell_type": "code",
   "execution_count": 17,
   "id": "af201ed2-d6c7-4ca3-962c-414f69c73337",
   "metadata": {},
   "outputs": [],
   "source": [
    "#import the required packages\n",
    "import pandas as pd\n",
    "from sklearn.model_selection import train_test_split"
   ]
  },
  {
   "cell_type": "markdown",
   "id": "b3407529-48a8-4a9c-bf39-acdbc8b666ab",
   "metadata": {},
   "source": [
    "# Summary of the data set"
   ]
  },
  {
   "cell_type": "markdown",
   "id": "b23cabb8-7fa0-42f4-b020-67835e7ca40e",
   "metadata": {},
   "source": [
    "The data set used in...."
   ]
  },
  {
   "cell_type": "code",
   "execution_count": 19,
   "id": "e53fda91-32d5-4087-84ed-a979d88d19db",
   "metadata": {},
   "outputs": [],
   "source": [
    "#loading the data set\n",
    "maternal_risk_df = pd.read_csv('../data/raw/maternal_risk.csv',header=1)"
   ]
  },
  {
   "cell_type": "markdown",
   "id": "ad22326b-ebf9-4caf-8f32-47b9536f3514",
   "metadata": {},
   "source": [
    "Before proceeding further, we will split the data such that 80% of observations are in the training and 20% of observations are in the test set."
   ]
  },
  {
   "cell_type": "code",
   "execution_count": 20,
   "id": "1cf94f49-3206-4843-a0b3-0b2c31512987",
   "metadata": {},
   "outputs": [],
   "source": [
    "#train_test_split\n",
    "train_df, test_df = train_test_split(maternal_risk_df, test_size=0.20, random_state=123)"
   ]
  },
  {
   "cell_type": "markdown",
   "id": "4165684d-8151-4fa4-bf52-9aa5dc42230c",
   "metadata": {},
   "source": [
    "We also need to check that there are no null values in the data set."
   ]
  },
  {
   "cell_type": "code",
   "execution_count": 21,
   "id": "da2e536c-3e95-4766-93f8-e4980c953d80",
   "metadata": {},
   "outputs": [
    {
     "name": "stdout",
     "output_type": "stream",
     "text": [
      "<class 'pandas.core.frame.DataFrame'>\n",
      "Int64Index: 811 entries, 375 to 510\n",
      "Data columns (total 7 columns):\n",
      " #   Column       Non-Null Count  Dtype  \n",
      "---  ------       --------------  -----  \n",
      " 0   Age          811 non-null    int64  \n",
      " 1   SystolicBP   811 non-null    int64  \n",
      " 2   DiastolicBP  811 non-null    int64  \n",
      " 3   BS           811 non-null    float64\n",
      " 4   BodyTemp     811 non-null    float64\n",
      " 5   HeartRate    811 non-null    int64  \n",
      " 6   RiskLevel    811 non-null    object \n",
      "dtypes: float64(2), int64(4), object(1)\n",
      "memory usage: 50.7+ KB\n"
     ]
    }
   ],
   "source": [
    "train_df.info()"
   ]
  },
  {
   "cell_type": "code",
   "execution_count": 22,
   "id": "a8436ac8-8e76-443b-bfa1-bbaa6e725ad2",
   "metadata": {},
   "outputs": [
    {
     "data": {
      "text/html": [
       "<div>\n",
       "<style scoped>\n",
       "    .dataframe tbody tr th:only-of-type {\n",
       "        vertical-align: middle;\n",
       "    }\n",
       "\n",
       "    .dataframe tbody tr th {\n",
       "        vertical-align: top;\n",
       "    }\n",
       "\n",
       "    .dataframe thead th {\n",
       "        text-align: right;\n",
       "    }\n",
       "</style>\n",
       "<table border=\"1\" class=\"dataframe\">\n",
       "  <thead>\n",
       "    <tr style=\"text-align: right;\">\n",
       "      <th></th>\n",
       "      <th>Age</th>\n",
       "      <th>SystolicBP</th>\n",
       "      <th>DiastolicBP</th>\n",
       "      <th>BS</th>\n",
       "      <th>BodyTemp</th>\n",
       "      <th>HeartRate</th>\n",
       "    </tr>\n",
       "  </thead>\n",
       "  <tbody>\n",
       "    <tr>\n",
       "      <th>count</th>\n",
       "      <td>811.000000</td>\n",
       "      <td>811.000000</td>\n",
       "      <td>811.000000</td>\n",
       "      <td>811.000000</td>\n",
       "      <td>811.000000</td>\n",
       "      <td>811.000000</td>\n",
       "    </tr>\n",
       "    <tr>\n",
       "      <th>mean</th>\n",
       "      <td>29.574599</td>\n",
       "      <td>112.933416</td>\n",
       "      <td>76.262639</td>\n",
       "      <td>8.659211</td>\n",
       "      <td>98.680641</td>\n",
       "      <td>74.373613</td>\n",
       "    </tr>\n",
       "    <tr>\n",
       "      <th>std</th>\n",
       "      <td>13.287246</td>\n",
       "      <td>18.334896</td>\n",
       "      <td>13.764557</td>\n",
       "      <td>3.223935</td>\n",
       "      <td>1.379661</td>\n",
       "      <td>7.908723</td>\n",
       "    </tr>\n",
       "    <tr>\n",
       "      <th>min</th>\n",
       "      <td>10.000000</td>\n",
       "      <td>70.000000</td>\n",
       "      <td>49.000000</td>\n",
       "      <td>6.000000</td>\n",
       "      <td>98.000000</td>\n",
       "      <td>7.000000</td>\n",
       "    </tr>\n",
       "    <tr>\n",
       "      <th>25%</th>\n",
       "      <td>19.000000</td>\n",
       "      <td>95.000000</td>\n",
       "      <td>65.000000</td>\n",
       "      <td>6.900000</td>\n",
       "      <td>98.000000</td>\n",
       "      <td>70.000000</td>\n",
       "    </tr>\n",
       "    <tr>\n",
       "      <th>50%</th>\n",
       "      <td>25.000000</td>\n",
       "      <td>120.000000</td>\n",
       "      <td>80.000000</td>\n",
       "      <td>7.500000</td>\n",
       "      <td>98.000000</td>\n",
       "      <td>76.000000</td>\n",
       "    </tr>\n",
       "    <tr>\n",
       "      <th>75%</th>\n",
       "      <td>37.500000</td>\n",
       "      <td>120.000000</td>\n",
       "      <td>90.000000</td>\n",
       "      <td>7.950000</td>\n",
       "      <td>98.000000</td>\n",
       "      <td>80.000000</td>\n",
       "    </tr>\n",
       "    <tr>\n",
       "      <th>max</th>\n",
       "      <td>66.000000</td>\n",
       "      <td>160.000000</td>\n",
       "      <td>100.000000</td>\n",
       "      <td>19.000000</td>\n",
       "      <td>103.000000</td>\n",
       "      <td>90.000000</td>\n",
       "    </tr>\n",
       "  </tbody>\n",
       "</table>\n",
       "</div>"
      ],
      "text/plain": [
       "              Age  SystolicBP  DiastolicBP          BS    BodyTemp   HeartRate\n",
       "count  811.000000  811.000000   811.000000  811.000000  811.000000  811.000000\n",
       "mean    29.574599  112.933416    76.262639    8.659211   98.680641   74.373613\n",
       "std     13.287246   18.334896    13.764557    3.223935    1.379661    7.908723\n",
       "min     10.000000   70.000000    49.000000    6.000000   98.000000    7.000000\n",
       "25%     19.000000   95.000000    65.000000    6.900000   98.000000   70.000000\n",
       "50%     25.000000  120.000000    80.000000    7.500000   98.000000   76.000000\n",
       "75%     37.500000  120.000000    90.000000    7.950000   98.000000   80.000000\n",
       "max     66.000000  160.000000   100.000000   19.000000  103.000000   90.000000"
      ]
     },
     "execution_count": 22,
     "metadata": {},
     "output_type": "execute_result"
    }
   ],
   "source": [
    "train_df.describe()"
   ]
  },
  {
   "cell_type": "code",
   "execution_count": null,
   "id": "953baea5-e33e-47f4-a449-56fc4a965cd5",
   "metadata": {},
   "outputs": [],
   "source": []
  },
  {
   "cell_type": "code",
   "execution_count": null,
   "id": "6e03f7e1-0e17-4aa3-82c2-cffebfab1ac0",
   "metadata": {},
   "outputs": [],
   "source": []
  }
 ],
 "metadata": {
  "kernelspec": {
   "display_name": "Python 3 (ipykernel)",
   "language": "python",
   "name": "python3"
  },
  "language_info": {
   "codemirror_mode": {
    "name": "ipython",
    "version": 3
   },
   "file_extension": ".py",
   "mimetype": "text/x-python",
   "name": "python",
   "nbconvert_exporter": "python",
   "pygments_lexer": "ipython3",
   "version": "3.10.6"
  }
 },
 "nbformat": 4,
 "nbformat_minor": 5
}
