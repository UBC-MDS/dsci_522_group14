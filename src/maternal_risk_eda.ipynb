{
 "cells": [
  {
   "cell_type": "markdown",
   "id": "95afc41a-372e-448b-9807-2ba6af47624d",
   "metadata": {
    "tags": []
   },
   "source": [
    "# Exploratory data analysis of the Maternal Health Risk Data Set"
   ]
  },
  {
   "cell_type": "markdown",
   "id": "04922246-1d2b-4e44-b30c-c578c32c6a2d",
   "metadata": {},
   "source": [
    "Team: 14\n",
    "\n",
    "Team members: Lennon Au-Yeung, Chenyang Wang, Shirley Zhang"
   ]
  },
  {
   "cell_type": "code",
   "execution_count": 1,
   "id": "af201ed2-d6c7-4ca3-962c-414f69c73337",
   "metadata": {},
   "outputs": [
    {
     "data": {
      "text/plain": [
       "RendererRegistry.enable('mimetype')"
      ]
     },
     "execution_count": 1,
     "metadata": {},
     "output_type": "execute_result"
    }
   ],
   "source": [
    "#import the required packages\n",
    "import pandas as pd\n",
    "from sklearn.model_selection import train_test_split\n",
    "import altair as alt\n",
    "alt.renderers.enable('mimetype')\n",
    "alt.data_transformers.enable('data_server')"
   ]
  },
  {
   "cell_type": "markdown",
   "id": "b3407529-48a8-4a9c-bf39-acdbc8b666ab",
   "metadata": {},
   "source": [
    "# Summary of the data set"
   ]
  },
  {
   "cell_type": "markdown",
   "id": "b23cabb8-7fa0-42f4-b020-67835e7ca40e",
   "metadata": {},
   "source": [
    "The data set used in this project consists of health information collected from the rural areas of Bangladesh created by Dr. Marzia Ahmed at the Daffodil International University. It was sourced from the UCI Machine Learning Repository and can be found [here](https://archive.ics.uci.edu/ml/datasets/Maternal+Health+Risk+Data+Set), specifically [this file](https://archive.ics.uci.edu/ml/machine-learning-databases/00639/Maternal%20Health%20Risk%20Data%20Set.csv). Each row in the data set consists of responsible and significant risk factors for maternal mortality (e.g., blood glucose levels, blood sugar and body temperature) and maternity risk level (high, mid, or low). Information was extracted through an IoT (Internet of Things) based risk monitoring system. There are 1014 observations in the data set, and 6 features. There are 0 observations with missing values in the data set."
   ]
  },
  {
   "cell_type": "code",
   "execution_count": 2,
   "id": "e53fda91-32d5-4087-84ed-a979d88d19db",
   "metadata": {},
   "outputs": [],
   "source": [
    "#loading the data set\n",
    "maternal_risk_df = pd.read_csv('../data/raw/maternal_risk.csv',header=1)"
   ]
  },
  {
   "cell_type": "code",
   "execution_count": 3,
   "id": "0ebdb7b0-c697-4800-85f9-e6a4cf8b6f17",
   "metadata": {},
   "outputs": [
    {
     "data": {
      "text/html": [
       "<div>\n",
       "<style scoped>\n",
       "    .dataframe tbody tr th:only-of-type {\n",
       "        vertical-align: middle;\n",
       "    }\n",
       "\n",
       "    .dataframe tbody tr th {\n",
       "        vertical-align: top;\n",
       "    }\n",
       "\n",
       "    .dataframe thead th {\n",
       "        text-align: right;\n",
       "    }\n",
       "</style>\n",
       "<table border=\"1\" class=\"dataframe\">\n",
       "  <thead>\n",
       "    <tr style=\"text-align: right;\">\n",
       "      <th></th>\n",
       "      <th>low risk</th>\n",
       "      <th>mid risk</th>\n",
       "      <th>high risk</th>\n",
       "    </tr>\n",
       "  </thead>\n",
       "  <tbody>\n",
       "    <tr>\n",
       "      <th></th>\n",
       "      <td>406</td>\n",
       "      <td>336</td>\n",
       "      <td>272</td>\n",
       "    </tr>\n",
       "  </tbody>\n",
       "</table>\n",
       "</div>"
      ],
      "text/plain": [
       "  low risk  mid risk  high risk\n",
       "       406       336        272"
      ]
     },
     "execution_count": 3,
     "metadata": {},
     "output_type": "execute_result"
    }
   ],
   "source": [
    "summary_df = pd.DataFrame(maternal_risk_df['RiskLevel'].value_counts()).rename(columns={'RiskLevel':''}).T\n",
    "summary_df"
   ]
  },
  {
   "cell_type": "markdown",
   "id": "dc98d631-3911-4028-b934-3674053bef6f",
   "metadata": {},
   "source": [
    "# Split data set into training and test splits"
   ]
  },
  {
   "cell_type": "markdown",
   "id": "ad22326b-ebf9-4caf-8f32-47b9536f3514",
   "metadata": {},
   "source": [
    "Before proceeding further, we will split the data such that 80% of observations are in the training and 20% of observations are in the test set."
   ]
  },
  {
   "cell_type": "code",
   "execution_count": 4,
   "id": "1cf94f49-3206-4843-a0b3-0b2c31512987",
   "metadata": {},
   "outputs": [],
   "source": [
    "#train_test_split\n",
    "train_df, test_df = train_test_split(maternal_risk_df, test_size=0.20, random_state=123)"
   ]
  },
  {
   "cell_type": "markdown",
   "id": "4165684d-8151-4fa4-bf52-9aa5dc42230c",
   "metadata": {},
   "source": [
    "We also need to check that there are no null values in the data set."
   ]
  },
  {
   "cell_type": "code",
   "execution_count": 5,
   "id": "da2e536c-3e95-4766-93f8-e4980c953d80",
   "metadata": {},
   "outputs": [
    {
     "name": "stdout",
     "output_type": "stream",
     "text": [
      "<class 'pandas.core.frame.DataFrame'>\n",
      "Int64Index: 811 entries, 375 to 510\n",
      "Data columns (total 7 columns):\n",
      " #   Column       Non-Null Count  Dtype  \n",
      "---  ------       --------------  -----  \n",
      " 0   Age          811 non-null    int64  \n",
      " 1   SystolicBP   811 non-null    int64  \n",
      " 2   DiastolicBP  811 non-null    int64  \n",
      " 3   BS           811 non-null    float64\n",
      " 4   BodyTemp     811 non-null    float64\n",
      " 5   HeartRate    811 non-null    int64  \n",
      " 6   RiskLevel    811 non-null    object \n",
      "dtypes: float64(2), int64(4), object(1)\n",
      "memory usage: 50.7+ KB\n"
     ]
    }
   ],
   "source": [
    "train_df.info()"
   ]
  },
  {
   "cell_type": "markdown",
   "id": "b0ea0844-9d7a-4270-87ef-738d6898782c",
   "metadata": {},
   "source": [
    "Table 1. Number of non-null values for each column."
   ]
  },
  {
   "cell_type": "code",
   "execution_count": 6,
   "id": "a8436ac8-8e76-443b-bfa1-bbaa6e725ad2",
   "metadata": {},
   "outputs": [
    {
     "data": {
      "text/html": [
       "<div>\n",
       "<style scoped>\n",
       "    .dataframe tbody tr th:only-of-type {\n",
       "        vertical-align: middle;\n",
       "    }\n",
       "\n",
       "    .dataframe tbody tr th {\n",
       "        vertical-align: top;\n",
       "    }\n",
       "\n",
       "    .dataframe thead th {\n",
       "        text-align: right;\n",
       "    }\n",
       "</style>\n",
       "<table border=\"1\" class=\"dataframe\">\n",
       "  <thead>\n",
       "    <tr style=\"text-align: right;\">\n",
       "      <th></th>\n",
       "      <th>Age</th>\n",
       "      <th>SystolicBP</th>\n",
       "      <th>DiastolicBP</th>\n",
       "      <th>BS</th>\n",
       "      <th>BodyTemp</th>\n",
       "      <th>HeartRate</th>\n",
       "    </tr>\n",
       "  </thead>\n",
       "  <tbody>\n",
       "    <tr>\n",
       "      <th>count</th>\n",
       "      <td>811.000000</td>\n",
       "      <td>811.000000</td>\n",
       "      <td>811.000000</td>\n",
       "      <td>811.000000</td>\n",
       "      <td>811.000000</td>\n",
       "      <td>811.000000</td>\n",
       "    </tr>\n",
       "    <tr>\n",
       "      <th>mean</th>\n",
       "      <td>29.574599</td>\n",
       "      <td>112.933416</td>\n",
       "      <td>76.262639</td>\n",
       "      <td>8.659211</td>\n",
       "      <td>98.680641</td>\n",
       "      <td>74.373613</td>\n",
       "    </tr>\n",
       "    <tr>\n",
       "      <th>std</th>\n",
       "      <td>13.287246</td>\n",
       "      <td>18.334896</td>\n",
       "      <td>13.764557</td>\n",
       "      <td>3.223935</td>\n",
       "      <td>1.379661</td>\n",
       "      <td>7.908723</td>\n",
       "    </tr>\n",
       "    <tr>\n",
       "      <th>min</th>\n",
       "      <td>10.000000</td>\n",
       "      <td>70.000000</td>\n",
       "      <td>49.000000</td>\n",
       "      <td>6.000000</td>\n",
       "      <td>98.000000</td>\n",
       "      <td>7.000000</td>\n",
       "    </tr>\n",
       "    <tr>\n",
       "      <th>25%</th>\n",
       "      <td>19.000000</td>\n",
       "      <td>95.000000</td>\n",
       "      <td>65.000000</td>\n",
       "      <td>6.900000</td>\n",
       "      <td>98.000000</td>\n",
       "      <td>70.000000</td>\n",
       "    </tr>\n",
       "    <tr>\n",
       "      <th>50%</th>\n",
       "      <td>25.000000</td>\n",
       "      <td>120.000000</td>\n",
       "      <td>80.000000</td>\n",
       "      <td>7.500000</td>\n",
       "      <td>98.000000</td>\n",
       "      <td>76.000000</td>\n",
       "    </tr>\n",
       "    <tr>\n",
       "      <th>75%</th>\n",
       "      <td>37.500000</td>\n",
       "      <td>120.000000</td>\n",
       "      <td>90.000000</td>\n",
       "      <td>7.950000</td>\n",
       "      <td>98.000000</td>\n",
       "      <td>80.000000</td>\n",
       "    </tr>\n",
       "    <tr>\n",
       "      <th>max</th>\n",
       "      <td>66.000000</td>\n",
       "      <td>160.000000</td>\n",
       "      <td>100.000000</td>\n",
       "      <td>19.000000</td>\n",
       "      <td>103.000000</td>\n",
       "      <td>90.000000</td>\n",
       "    </tr>\n",
       "  </tbody>\n",
       "</table>\n",
       "</div>"
      ],
      "text/plain": [
       "              Age  SystolicBP  DiastolicBP          BS    BodyTemp   HeartRate\n",
       "count  811.000000  811.000000   811.000000  811.000000  811.000000  811.000000\n",
       "mean    29.574599  112.933416    76.262639    8.659211   98.680641   74.373613\n",
       "std     13.287246   18.334896    13.764557    3.223935    1.379661    7.908723\n",
       "min     10.000000   70.000000    49.000000    6.000000   98.000000    7.000000\n",
       "25%     19.000000   95.000000    65.000000    6.900000   98.000000   70.000000\n",
       "50%     25.000000  120.000000    80.000000    7.500000   98.000000   76.000000\n",
       "75%     37.500000  120.000000    90.000000    7.950000   98.000000   80.000000\n",
       "max     66.000000  160.000000   100.000000   19.000000  103.000000   90.000000"
      ]
     },
     "execution_count": 6,
     "metadata": {},
     "output_type": "execute_result"
    }
   ],
   "source": [
    "train_df.describe()"
   ]
  },
  {
   "cell_type": "markdown",
   "id": "7ad9870a-fe7f-4472-add2-74505855feb3",
   "metadata": {},
   "source": [
    "Table 2. Statistics of each numeric columns."
   ]
  },
  {
   "cell_type": "markdown",
   "id": "70b4e8d1-e5cb-4870-bc79-9a5706e1e1eb",
   "metadata": {},
   "source": [
    "Now we will explore the distribution of the classes (low risk, mid risk, high risk):"
   ]
  },
  {
   "cell_type": "code",
   "execution_count": 7,
   "id": "953baea5-e33e-47f4-a449-56fc4a965cd5",
   "metadata": {},
   "outputs": [
    {
     "data": {
      "text/html": [
       "<div>\n",
       "<style scoped>\n",
       "    .dataframe tbody tr th:only-of-type {\n",
       "        vertical-align: middle;\n",
       "    }\n",
       "\n",
       "    .dataframe tbody tr th {\n",
       "        vertical-align: top;\n",
       "    }\n",
       "\n",
       "    .dataframe thead th {\n",
       "        text-align: right;\n",
       "    }\n",
       "</style>\n",
       "<table border=\"1\" class=\"dataframe\">\n",
       "  <thead>\n",
       "    <tr style=\"text-align: right;\">\n",
       "      <th></th>\n",
       "      <th>train</th>\n",
       "      <th>test</th>\n",
       "    </tr>\n",
       "  </thead>\n",
       "  <tbody>\n",
       "    <tr>\n",
       "      <th>low risk</th>\n",
       "      <td>325</td>\n",
       "      <td>81</td>\n",
       "    </tr>\n",
       "    <tr>\n",
       "      <th>mid risk</th>\n",
       "      <td>274</td>\n",
       "      <td>62</td>\n",
       "    </tr>\n",
       "    <tr>\n",
       "      <th>high risk</th>\n",
       "      <td>212</td>\n",
       "      <td>60</td>\n",
       "    </tr>\n",
       "  </tbody>\n",
       "</table>\n",
       "</div>"
      ],
      "text/plain": [
       "           train  test\n",
       "low risk     325    81\n",
       "mid risk     274    62\n",
       "high risk    212    60"
      ]
     },
     "execution_count": 7,
     "metadata": {},
     "output_type": "execute_result"
    }
   ],
   "source": [
    "train_class_counts = pd.DataFrame(train_df['RiskLevel'].value_counts()).rename(columns={'RiskLevel':'train'})\n",
    "test_class_counts = pd.DataFrame(test_df['RiskLevel'].value_counts()).rename(columns={'RiskLevel':'test'})\n",
    "\n",
    "train_test_class_counts = pd.concat([train_class_counts, test_class_counts], axis=1)\n",
    "train_test_class_counts"
   ]
  },
  {
   "cell_type": "markdown",
   "id": "0aa148be-fa8b-43b1-b11b-6534df340c31",
   "metadata": {},
   "source": [
    "Table 3. Counts of observation for each class in both test and train."
   ]
  },
  {
   "cell_type": "code",
   "execution_count": 8,
   "id": "6e03f7e1-0e17-4aa3-82c2-cffebfab1ac0",
   "metadata": {},
   "outputs": [
    {
     "data": {
      "text/plain": [
       "<AxesSubplot:>"
      ]
     },
     "execution_count": 8,
     "metadata": {},
     "output_type": "execute_result"
    },
    {
     "data": {
      "image/png": "[encoded data removed]",
      "text/plain": [
       "<Figure size 640x480 with 1 Axes>"
      ]
     },
     "metadata": {},
     "output_type": "display_data"
    }
   ],
   "source": [
    "train_df['RiskLevel'].value_counts().plot(kind='bar')"
   ]
  },
  {
   "cell_type": "markdown",
   "id": "e82210d9-7bb8-45ee-b95d-889b15bf1e8f",
   "metadata": {},
   "source": [
    "Figure 1. Counts of observation for each class in train data set."
   ]
  },
  {
   "cell_type": "markdown",
   "id": "fc5baafc-d66c-4367-99ec-a790487b0f8a",
   "metadata": {},
   "source": [
    "From the figure, we can see that there is a minor class imbalance, but it is not so great that immediate action needs to be taken. During hyperparameter optimization for improving model performance, we can further evaluate whether a balanced class weight will improve model performance or not."
   ]
  },
  {
   "cell_type": "markdown",
   "id": "f66a1cdb-dfd3-468b-9daf-f45a4b20f16f",
   "metadata": {
    "tags": []
   },
   "source": [
    "# Exploratory analysis on the training data set"
   ]
  },
  {
   "cell_type": "code",
   "execution_count": 9,
   "id": "8e48440c-210d-4ecf-bb26-f2c318ce7861",
   "metadata": {},
   "outputs": [],
   "source": [
    "X_columns = ['Age', 'SystolicBP', 'DiastolicBP', 'BS', 'BodyTemp', 'HeartRate']"
   ]
  },
  {
   "cell_type": "code",
   "execution_count": 10,
   "id": "aef56849-180a-4126-b4fe-1341eae8d49d",
   "metadata": {},
   "outputs": [],
   "source": [
    "def display(i):\n",
    "    graph = alt.Chart(train_df).transform_density(\n",
    "    i,groupby=['RiskLevel'],\n",
    "    as_=[ i, 'density']).mark_line().encode(\n",
    "    x = (i),\n",
    "    y='density:Q',color = 'RiskLevel').properties(width=200,height=200)\n",
    "    return graph"
   ]
  },
  {
   "cell_type": "code",
   "execution_count": 11,
   "id": "2e43ab77-52c8-4a4d-b756-70869bf802bb",
   "metadata": {},
   "outputs": [],
   "source": [
    "Age = display('Age')\n",
    "SystolicBP = display('SystolicBP')\n",
    "DiastolicBP = display('DiastolicBP')\n",
    "BS = display('BS')\n",
    "BodyTemp = display('BodyTemp')\n",
    "HeartRate = display('HeartRate')"
   ]
  },
  {
   "cell_type": "markdown",
   "id": "d8d4225f-b306-4ccb-bff7-cc04265a157c",
   "metadata": {},
   "source": [
    "To see whether the predictors might be useful to predict the risk level, we plotted the distributions of each predictor from the training data and coloured the distribution by class (high risk: blue, mid risk: red and low risk: orange). "
   ]
  },
  {
   "cell_type": "code",
   "execution_count": 12,
   "id": "6f83e6ff-0d50-4a44-8f44-589ea4e098d3",
   "metadata": {},
   "outputs": [
    {
     "data": {
      "application/vnd.vegalite.v4+json": {
       "$schema": "https://vega.github.io/schema/vega-lite/v4.17.0.json",
       "config": {
        "view": {
         "continuousHeight": 300,
         "continuousWidth": 400
        }
       },
       "data": {
        "name": "data-7e8bbd2fbc54621a767bfe5b6ae44e13"
       },
       "datasets": {
        "data-7e8bbd2fbc54621a767bfe5b6ae44e13": [
         {
          "Age": 60,
          "BS": 7.8,
          "BodyTemp": 98,
          "DiastolicBP": 80,
          "HeartRate": 75,
          "RiskLevel": "high risk",
          "SystolicBP": 120
         },
         {
          "Age": 39,
          "BS": 7.9,
          "BodyTemp": 98,
          "DiastolicBP": 70,
          "HeartRate": 80,
          "RiskLevel": "mid risk",
          "SystolicBP": 110
         },
         {
          "Age": 19,
          "BS": 7,
          "BodyTemp": 98,
          "DiastolicBP": 80,
          "HeartRate": 70,
          "RiskLevel": "mid risk",
          "SystolicBP": 120
         },
         {
          "Age": 22,
          "BS": 15,
          "BodyTemp": 98,
          "DiastolicBP": 60,
          "HeartRate": 80,
          "RiskLevel": "high risk",
          "SystolicBP": 120
         },
         {
          "Age": 19,
          "BS": 7,
          "BodyTemp": 98,
          "DiastolicBP": 80,
          "HeartRate": 70,
          "RiskLevel": "low risk",
          "SystolicBP": 120
         },
         {
          "Age": 19,
          "BS": 7,
          "BodyTemp": 98,
          "DiastolicBP": 80,
          "HeartRate": 70,
          "RiskLevel": "mid risk",
          "SystolicBP": 120
         },
         {
          "Age": 29,
          "BS": 6.7,
          "BodyTemp": 98,
          "DiastolicBP": 70,
          "HeartRate": 78,
          "RiskLevel": "mid risk",
          "SystolicBP": 130
         },
         {
          "Age": 21,
          "BS": 7.5,
          "BodyTemp": 98,
          "DiastolicBP": 80,
          "HeartRate": 77,
          "RiskLevel": "low risk",
          "SystolicBP": 120
         },
         {
          "Age": 34,
          "BS": 8,
          "BodyTemp": 98,
          "DiastolicBP": 75,
          "HeartRate": 70,
          "RiskLevel": "low risk",
          "SystolicBP": 120
         },
         {
          "Age": 23,
          "BS": 7,
          "BodyTemp": 98,
          "DiastolicBP": 85,
          "HeartRate": 66,
          "RiskLevel": "low risk",
          "SystolicBP": 100
         },
         {
          "Age": 60,
          "BS": 15,
          "BodyTemp": 98,
          "DiastolicBP": 85,
          "HeartRate": 60,
          "RiskLevel": "mid risk",
          "SystolicBP": 120
         },
         {
          "Age": 28,
          "BS": 7.2,
          "BodyTemp": 98,
          "DiastolicBP": 60,
          "HeartRate": 82,
          "RiskLevel": "low risk",
          "SystolicBP": 90
         },
         {
          "Age": 21,
          "BS": 6.9,
          "BodyTemp": 98,
          "DiastolicBP": 50,
          "HeartRate": 60,
          "RiskLevel": "low risk",
          "SystolicBP": 90
         },
         {
          "Age": 22,
          "BS": 7.8,
          "BodyTemp": 98,
          "DiastolicBP": 90,
          "HeartRate": 82,
          "RiskLevel": "mid risk",
          "SystolicBP": 120
         },
         {
          "Age": 23,
          "BS": 6.9,
          "BodyTemp": 98,
          "DiastolicBP": 70,
          "HeartRate": 70,
          "RiskLevel": "mid risk",
          "SystolicBP": 130
         },
         {
          "Age": 56,
          "BS": 13,
          "BodyTemp": 98,
          "DiastolicBP": 80,
          "HeartRate": 70,
          "RiskLevel": "high risk",
          "SystolicBP": 120
         },
         {
          "Age": 40,
          "BS": 18,
          "BodyTemp": 98,
          "DiastolicBP": 100,
          "HeartRate": 77,
          "RiskLevel": "high risk",
          "SystolicBP": 140
         },
         {
          "Age": 23,
          "BS": 7.8,
          "BodyTemp": 98,
          "DiastolicBP": 90,
          "HeartRate": 60,
          "RiskLevel": "mid risk",
          "SystolicBP": 120
         },
         {
          "Age": 15,
          "BS": 7.9,
          "BodyTemp": 98,
          "DiastolicBP": 49,
          "HeartRate": 77,
          "RiskLevel": "low risk",
          "SystolicBP": 76
         },
         {
          "Age": 22,
          "BS": 6.8,
          "BodyTemp": 98,
          "DiastolicBP": 65,
          "HeartRate": 88,
          "RiskLevel": "low risk",
          "SystolicBP": 100
         },
         {
          "Age": 40,
          "BS": 11,
          "BodyTemp": 98,
          "DiastolicBP": 95,
          "HeartRate": 80,
          "RiskLevel": "high risk",
          "SystolicBP": 120
         },
         {
          "Age": 19,
          "BS": 7,
          "BodyTemp": 98,
          "DiastolicBP": 80,
          "HeartRate": 70,
          "RiskLevel": "mid risk",
          "SystolicBP": 120
         },
         {
          "Age": 17,
          "BS": 7.5,
          "BodyTemp": 101,
          "DiastolicBP": 60,
          "HeartRate": 76,
          "RiskLevel": "low risk",
          "SystolicBP": 90
         },
         {
          "Age": 55,
          "BS": 6.9,
          "BodyTemp": 98,
          "DiastolicBP": 90,
          "HeartRate": 76,
          "RiskLevel": "low risk",
          "SystolicBP": 120
         },
         {
          "Age": 48,
          "BS": 11,
          "BodyTemp": 98,
          "DiastolicBP": 80,
          "HeartRate": 88,
          "RiskLevel": "low risk",
          "SystolicBP": 120
         },
         {
          "Age": 22,
          "BS": 6.8,
          "BodyTemp": 98,
          "DiastolicBP": 60,
          "HeartRate": 77,
          "RiskLevel": "mid risk",
          "SystolicBP": 90
         },
         {
          "Age": 21,
          "BS": 7.7,
          "BodyTemp": 98,
          "DiastolicBP": 50,
          "HeartRate": 60,
          "RiskLevel": "low risk",
          "SystolicBP": 75
         },
         {
          "Age": 29,
          "BS": 6.1,
          "BodyTemp": 98,
          "DiastolicBP": 70,
          "HeartRate": 78,
          "RiskLevel": "mid risk",
          "SystolicBP": 130
         },
         {
          "Age": 19,
          "BS": 7.5,
          "BodyTemp": 98,
          "DiastolicBP": 70,
          "HeartRate": 80,
          "RiskLevel": "low risk",
          "SystolicBP": 90
         },
         {
          "Age": 23,
          "BS": 8,
          "BodyTemp": 98,
          "DiastolicBP": 75,
          "HeartRate": 70,
          "RiskLevel": "mid risk",
          "SystolicBP": 120
         },
         {
          "Age": 22,
          "BS": 7.5,
          "BodyTemp": 98,
          "DiastolicBP": 65,
          "HeartRate": 70,
          "RiskLevel": "mid risk",
          "SystolicBP": 100
         },
         {
          "Age": 22,
          "BS": 7.5,
          "BodyTemp": 98,
          "DiastolicBP": 65,
          "HeartRate": 70,
          "RiskLevel": "low risk",
          "SystolicBP": 100
         },
         {
          "Age": 50,
          "BS": 16,
          "BodyTemp": 98,
          "DiastolicBP": 100,
          "HeartRate": 76,
          "RiskLevel": "high risk",
          "SystolicBP": 130
         },
         {
          "Age": 28,
          "BS": 7.5,
          "BodyTemp": 101,
          "DiastolicBP": 60,
          "HeartRate": 86,
          "RiskLevel": "mid risk",
          "SystolicBP": 115
         },
         {
          "Age": 66,
          "BS": 6.9,
          "BodyTemp": 98,
          "DiastolicBP": 60,
          "HeartRate": 86,
          "RiskLevel": "low risk",
          "SystolicBP": 85
         },
         {
          "Age": 20,
          "BS": 7.01,
          "BodyTemp": 100,
          "DiastolicBP": 75,
          "HeartRate": 70,
          "RiskLevel": "mid risk",
          "SystolicBP": 120
         },
         {
          "Age": 22,
          "BS": 7.5,
          "BodyTemp": 102,
          "DiastolicBP": 60,
          "HeartRate": 60,
          "RiskLevel": "high risk",
          "SystolicBP": 90
         },
         {
          "Age": 60,
          "BS": 15,
          "BodyTemp": 98,
          "DiastolicBP": 85,
          "HeartRate": 60,
          "RiskLevel": "mid risk",
          "SystolicBP": 120
         },
         {
          "Age": 23,
          "BS": 6.8,
          "BodyTemp": 98,
          "DiastolicBP": 60,
          "HeartRate": 76,
          "RiskLevel": "low risk",
          "SystolicBP": 99
         },
         {
          "Age": 44,
          "BS": 16,
          "BodyTemp": 98,
          "DiastolicBP": 90,
          "HeartRate": 80,
          "RiskLevel": "mid risk",
          "SystolicBP": 120
         },
         {
          "Age": 31,
          "BS": 6.1,
          "BodyTemp": 98,
          "DiastolicBP": 60,
          "HeartRate": 76,
          "RiskLevel": "mid risk",
          "SystolicBP": 120
         },
         {
          "Age": 60,
          "BS": 7.7,
          "BodyTemp": 98,
          "DiastolicBP": 80,
          "HeartRate": 75,
          "RiskLevel": "low risk",
          "SystolicBP": 120
         },
         {
          "Age": 50,
          "BS": 7.5,
          "BodyTemp": 98,
          "DiastolicBP": 80,
          "HeartRate": 70,
          "RiskLevel": "low risk",
          "SystolicBP": 120
         },
         {
          "Age": 32,
          "BS": 8,
          "BodyTemp": 98,
          "DiastolicBP": 100,
          "HeartRate": 70,
          "RiskLevel": "high risk",
          "SystolicBP": 140
         },
         {
          "Age": 15,
          "BS": 6.4,
          "BodyTemp": 98,
          "DiastolicBP": 49,
          "HeartRate": 77,
          "RiskLevel": "low risk",
          "SystolicBP": 76
         },
         {
          "Age": 40,
          "BS": 18,
          "BodyTemp": 98,
          "DiastolicBP": 100,
          "HeartRate": 90,
          "RiskLevel": "high risk",
          "SystolicBP": 140
         },
         {
          "Age": 23,
          "BS": 6.7,
          "BodyTemp": 98,
          "DiastolicBP": 60,
          "HeartRate": 76,
          "RiskLevel": "low risk",
          "SystolicBP": 90
         },
         {
          "Age": 25,
          "BS": 7.8,
          "BodyTemp": 98,
          "DiastolicBP": 80,
          "HeartRate": 66,
          "RiskLevel": "low risk",
          "SystolicBP": 120
         },
         {
          "Age": 21,
          "BS": 6.7,
          "BodyTemp": 98,
          "DiastolicBP": 85,
          "HeartRate": 70,
          "RiskLevel": "low risk",
          "SystolicBP": 100
         },
         {
          "Age": 19,
          "BS": 7,
          "BodyTemp": 98,
          "DiastolicBP": 80,
          "HeartRate": 70,
          "RiskLevel": "mid risk",
          "SystolicBP": 120
         },
         {
          "Age": 15,
          "BS": 6.6,
          "BodyTemp": 99,
          "DiastolicBP": 80,
          "HeartRate": 70,
          "RiskLevel": "low risk",
          "SystolicBP": 120
         },
         {
          "Age": 19,
          "BS": 7,
          "BodyTemp": 98,
          "DiastolicBP": 80,
          "HeartRate": 70,
          "RiskLevel": "mid risk",
          "SystolicBP": 120
         },
         {
          "Age": 21,
          "BS": 6.9,
          "BodyTemp": 98,
          "DiastolicBP": 60,
          "HeartRate": 86,
          "RiskLevel": "mid risk",
          "SystolicBP": 90
         },
         {
          "Age": 55,
          "BS": 18,
          "BodyTemp": 98,
          "DiastolicBP": 90,
          "HeartRate": 60,
          "RiskLevel": "high risk",
          "SystolicBP": 120
         },
         {
          "Age": 29,
          "BS": 7.2,
          "BodyTemp": 100,
          "DiastolicBP": 75,
          "HeartRate": 70,
          "RiskLevel": "high risk",
          "SystolicBP": 120
         },
         {
          "Age": 48,
          "BS": 11,
          "BodyTemp": 98,
          "DiastolicBP": 80,
          "HeartRate": 88,
          "RiskLevel": "low risk",
          "SystolicBP": 120
         },
         {
          "Age": 17,
          "BS": 6.9,
          "BodyTemp": 101,
          "DiastolicBP": 60,
          "HeartRate": 76,
          "RiskLevel": "mid risk",
          "SystolicBP": 90
         },
         {
          "Age": 22,
          "BS": 7.8,
          "BodyTemp": 98,
          "DiastolicBP": 85,
          "HeartRate": 88,
          "RiskLevel": "low risk",
          "SystolicBP": 120
         },
         {
          "Age": 40,
          "BS": 11,
          "BodyTemp": 98,
          "DiastolicBP": 95,
          "HeartRate": 80,
          "RiskLevel": "high risk",
          "SystolicBP": 120
         },
         {
          "Age": 40,
          "BS": 13,
          "BodyTemp": 101,
          "DiastolicBP": 100,
          "HeartRate": 66,
          "RiskLevel": "high risk",
          "SystolicBP": 140
         },
         {
          "Age": 19,
          "BS": 7,
          "BodyTemp": 98,
          "DiastolicBP": 80,
          "HeartRate": 70,
          "RiskLevel": "mid risk",
          "SystolicBP": 120
         },
         {
          "Age": 13,
          "BS": 7.5,
          "BodyTemp": 101,
          "DiastolicBP": 65,
          "HeartRate": 80,
          "RiskLevel": "high risk",
          "SystolicBP": 90
         },
         {
          "Age": 15,
          "BS": 6.8,
          "BodyTemp": 98,
          "DiastolicBP": 49,
          "HeartRate": 77,
          "RiskLevel": "low risk",
          "SystolicBP": 76
         },
         {
          "Age": 42,
          "BS": 7.5,
          "BodyTemp": 98,
          "DiastolicBP": 80,
          "HeartRate": 70,
          "RiskLevel": "low risk",
          "SystolicBP": 120
         },
         {
          "Age": 28,
          "BS": 7.5,
          "BodyTemp": 98,
          "DiastolicBP": 60,
          "HeartRate": 82,
          "RiskLevel": "low risk",
          "SystolicBP": 90
         },
         {
          "Age": 29,
          "BS": 7.7,
          "BodyTemp": 98,
          "DiastolicBP": 70,
          "HeartRate": 78,
          "RiskLevel": "mid risk",
          "SystolicBP": 130
         },
         {
          "Age": 13,
          "BS": 9,
          "BodyTemp": 101,
          "DiastolicBP": 65,
          "HeartRate": 80,
          "RiskLevel": "high risk",
          "SystolicBP": 90
         },
         {
          "Age": 40,
          "BS": 11,
          "BodyTemp": 98,
          "DiastolicBP": 95,
          "HeartRate": 80,
          "RiskLevel": "high risk",
          "SystolicBP": 120
         },
         {
          "Age": 35,
          "BS": 19,
          "BodyTemp": 98,
          "DiastolicBP": 60,
          "HeartRate": 86,
          "RiskLevel": "high risk",
          "SystolicBP": 85
         },
         {
          "Age": 32,
          "BS": 18,
          "BodyTemp": 98,
          "DiastolicBP": 90,
          "HeartRate": 88,
          "RiskLevel": "high risk",
          "SystolicBP": 140
         },
         {
          "Age": 23,
          "BS": 7.5,
          "BodyTemp": 98,
          "DiastolicBP": 80,
          "HeartRate": 70,
          "RiskLevel": "low risk",
          "SystolicBP": 120
         },
         {
          "Age": 23,
          "BS": 7.5,
          "BodyTemp": 98,
          "DiastolicBP": 85,
          "HeartRate": 66,
          "RiskLevel": "low risk",
          "SystolicBP": 100
         },
         {
          "Age": 25,
          "BS": 6.8,
          "BodyTemp": 98,
          "DiastolicBP": 100,
          "HeartRate": 80,
          "RiskLevel": "high risk",
          "SystolicBP": 140
         },
         {
          "Age": 30,
          "BS": 6.8,
          "BodyTemp": 98,
          "DiastolicBP": 75,
          "HeartRate": 70,
          "RiskLevel": "mid risk",
          "SystolicBP": 120
         },
         {
          "Age": 48,
          "BS": 11,
          "BodyTemp": 98,
          "DiastolicBP": 80,
          "HeartRate": 88,
          "RiskLevel": "mid risk",
          "SystolicBP": 120
         },
         {
          "Age": 29,
          "BS": 8,
          "BodyTemp": 100,
          "DiastolicBP": 70,
          "HeartRate": 80,
          "RiskLevel": "high risk",
          "SystolicBP": 90
         },
         {
          "Age": 16,
          "BS": 6.9,
          "BodyTemp": 98,
          "DiastolicBP": 65,
          "HeartRate": 76,
          "RiskLevel": "mid risk",
          "SystolicBP": 90
         },
         {
          "Age": 25,
          "BS": 6.8,
          "BodyTemp": 98,
          "DiastolicBP": 80,
          "HeartRate": 66,
          "RiskLevel": "mid risk",
          "SystolicBP": 120
         },
         {
          "Age": 48,
          "BS": 11,
          "BodyTemp": 98,
          "DiastolicBP": 80,
          "HeartRate": 88,
          "RiskLevel": "high risk",
          "SystolicBP": 120
         },
         {
          "Age": 19,
          "BS": 7,
          "BodyTemp": 98,
          "DiastolicBP": 80,
          "HeartRate": 70,
          "RiskLevel": "mid risk",
          "SystolicBP": 120
         },
         {
          "Age": 19,
          "BS": 7,
          "BodyTemp": 98,
          "DiastolicBP": 80,
          "HeartRate": 70,
          "RiskLevel": "mid risk",
          "SystolicBP": 120
         },
         {
          "Age": 15,
          "BS": 7.5,
          "BodyTemp": 98,
          "DiastolicBP": 80,
          "HeartRate": 70,
          "RiskLevel": "low risk",
          "SystolicBP": 120
         },
         {
          "Age": 25,
          "BS": 7.01,
          "BodyTemp": 98,
          "DiastolicBP": 100,
          "HeartRate": 80,
          "RiskLevel": "high risk",
          "SystolicBP": 140
         },
         {
          "Age": 29,
          "BS": 7.8,
          "BodyTemp": 98,
          "DiastolicBP": 70,
          "HeartRate": 78,
          "RiskLevel": "mid risk",
          "SystolicBP": 130
         },
         {
          "Age": 28,
          "BS": 8,
          "BodyTemp": 101,
          "DiastolicBP": 60,
          "HeartRate": 86,
          "RiskLevel": "high risk",
          "SystolicBP": 83
         },
         {
          "Age": 25,
          "BS": 6.9,
          "BodyTemp": 98,
          "DiastolicBP": 70,
          "HeartRate": 66,
          "RiskLevel": "low risk",
          "SystolicBP": 90
         },
         {
          "Age": 22,
          "BS": 7.5,
          "BodyTemp": 98,
          "DiastolicBP": 90,
          "HeartRate": 82,
          "RiskLevel": "low risk",
          "SystolicBP": 120
         },
         {
          "Age": 32,
          "BS": 6.9,
          "BodyTemp": 98,
          "DiastolicBP": 90,
          "HeartRate": 70,
          "RiskLevel": "mid risk",
          "SystolicBP": 120
         },
         {
          "Age": 17,
          "BS": 11,
          "BodyTemp": 101,
          "DiastolicBP": 60,
          "HeartRate": 78,
          "RiskLevel": "high risk",
          "SystolicBP": 90
         },
         {
          "Age": 43,
          "BS": 18,
          "BodyTemp": 98,
          "DiastolicBP": 80,
          "HeartRate": 70,
          "RiskLevel": "mid risk",
          "SystolicBP": 130
         },
         {
          "Age": 60,
          "BS": 7.5,
          "BodyTemp": 98,
          "DiastolicBP": 80,
          "HeartRate": 75,
          "RiskLevel": "low risk",
          "SystolicBP": 120
         },
         {
          "Age": 15,
          "BS": 6.7,
          "BodyTemp": 99,
          "DiastolicBP": 49,
          "HeartRate": 77,
          "RiskLevel": "low risk",
          "SystolicBP": 90
         },
         {
          "Age": 16,
          "BS": 7.5,
          "BodyTemp": 100,
          "DiastolicBP": 50,
          "HeartRate": 70,
          "RiskLevel": "low risk",
          "SystolicBP": 70
         },
         {
          "Age": 50,
          "BS": 7.9,
          "BodyTemp": 98,
          "DiastolicBP": 80,
          "HeartRate": 70,
          "RiskLevel": "low risk",
          "SystolicBP": 120
         },
         {
          "Age": 20,
          "BS": 7,
          "BodyTemp": 100,
          "DiastolicBP": 60,
          "HeartRate": 70,
          "RiskLevel": "mid risk",
          "SystolicBP": 110
         },
         {
          "Age": 17,
          "BS": 6.9,
          "BodyTemp": 101,
          "DiastolicBP": 60,
          "HeartRate": 76,
          "RiskLevel": "mid risk",
          "SystolicBP": 90
         },
         {
          "Age": 17,
          "BS": 7,
          "BodyTemp": 102,
          "DiastolicBP": 80,
          "HeartRate": 76,
          "RiskLevel": "high risk",
          "SystolicBP": 120
         },
         {
          "Age": 29,
          "BS": 7.5,
          "BodyTemp": 98,
          "DiastolicBP": 70,
          "HeartRate": 78,
          "RiskLevel": "mid risk",
          "SystolicBP": 130
         },
         {
          "Age": 45,
          "BS": 7.5,
          "BodyTemp": 98,
          "DiastolicBP": 95,
          "HeartRate": 66,
          "RiskLevel": "low risk",
          "SystolicBP": 120
         },
         {
          "Age": 15,
          "BS": 6.6,
          "BodyTemp": 99,
          "DiastolicBP": 80,
          "HeartRate": 70,
          "RiskLevel": "low risk",
          "SystolicBP": 120
         },
         {
          "Age": 17,
          "BS": 7.7,
          "BodyTemp": 103,
          "DiastolicBP": 65,
          "HeartRate": 67,
          "RiskLevel": "high risk",
          "SystolicBP": 90
         },
         {
          "Age": 40,
          "BS": 11,
          "BodyTemp": 98,
          "DiastolicBP": 95,
          "HeartRate": 80,
          "RiskLevel": "high risk",
          "SystolicBP": 120
         },
         {
          "Age": 50,
          "BS": 16,
          "BodyTemp": 98,
          "DiastolicBP": 100,
          "HeartRate": 76,
          "RiskLevel": "high risk",
          "SystolicBP": 130
         },
         {
          "Age": 32,
          "BS": 6,
          "BodyTemp": 101,
          "DiastolicBP": 65,
          "HeartRate": 76,
          "RiskLevel": "mid risk",
          "SystolicBP": 120
         },
         {
          "Age": 15,
          "BS": 6,
          "BodyTemp": 98,
          "DiastolicBP": 50,
          "HeartRate": 70,
          "RiskLevel": "mid risk",
          "SystolicBP": 70
         },
         {
          "Age": 23,
          "BS": 7.5,
          "BodyTemp": 98,
          "DiastolicBP": 60,
          "HeartRate": 76,
          "RiskLevel": "low risk",
          "SystolicBP": 90
         },
         {
          "Age": 15,
          "BS": 7.7,
          "BodyTemp": 98,
          "DiastolicBP": 49,
          "HeartRate": 77,
          "RiskLevel": "low risk",
          "SystolicBP": 75
         },
         {
          "Age": 48,
          "BS": 11,
          "BodyTemp": 98,
          "DiastolicBP": 80,
          "HeartRate": 88,
          "RiskLevel": "high risk",
          "SystolicBP": 120
         },
         {
          "Age": 50,
          "BS": 15,
          "BodyTemp": 98,
          "DiastolicBP": 90,
          "HeartRate": 77,
          "RiskLevel": "high risk",
          "SystolicBP": 140
         },
         {
          "Age": 12,
          "BS": 6.9,
          "BodyTemp": 98,
          "DiastolicBP": 95,
          "HeartRate": 60,
          "RiskLevel": "low risk",
          "SystolicBP": 120
         },
         {
          "Age": 40,
          "BS": 19,
          "BodyTemp": 98,
          "DiastolicBP": 100,
          "HeartRate": 77,
          "RiskLevel": "high risk",
          "SystolicBP": 160
         },
         {
          "Age": 15,
          "BS": 6,
          "BodyTemp": 99,
          "DiastolicBP": 49,
          "HeartRate": 77,
          "RiskLevel": "low risk",
          "SystolicBP": 90
         },
         {
          "Age": 20,
          "BS": 7.5,
          "BodyTemp": 98,
          "DiastolicBP": 76,
          "HeartRate": 70,
          "RiskLevel": "low risk",
          "SystolicBP": 120
         },
         {
          "Age": 32,
          "BS": 18,
          "BodyTemp": 98,
          "DiastolicBP": 90,
          "HeartRate": 88,
          "RiskLevel": "high risk",
          "SystolicBP": 140
         },
         {
          "Age": 12,
          "BS": 6.9,
          "BodyTemp": 98,
          "DiastolicBP": 60,
          "HeartRate": 65,
          "RiskLevel": "mid risk",
          "SystolicBP": 95
         },
         {
          "Age": 55,
          "BS": 7.2,
          "BodyTemp": 101,
          "DiastolicBP": 80,
          "HeartRate": 76,
          "RiskLevel": "high risk",
          "SystolicBP": 140
         },
         {
          "Age": 18,
          "BS": 6.7,
          "BodyTemp": 98,
          "DiastolicBP": 70,
          "HeartRate": 76,
          "RiskLevel": "low risk",
          "SystolicBP": 100
         },
         {
          "Age": 20,
          "BS": 7.01,
          "BodyTemp": 100,
          "DiastolicBP": 75,
          "HeartRate": 70,
          "RiskLevel": "mid risk",
          "SystolicBP": 120
         },
         {
          "Age": 35,
          "BS": 7.5,
          "BodyTemp": 98,
          "DiastolicBP": 100,
          "HeartRate": 66,
          "RiskLevel": "high risk",
          "SystolicBP": 140
         },
         {
          "Age": 42,
          "BS": 18,
          "BodyTemp": 98,
          "DiastolicBP": 80,
          "HeartRate": 70,
          "RiskLevel": "high risk",
          "SystolicBP": 130
         },
         {
          "Age": 55,
          "BS": 6.9,
          "BodyTemp": 98,
          "DiastolicBP": 85,
          "HeartRate": 88,
          "RiskLevel": "low risk",
          "SystolicBP": 110
         },
         {
          "Age": 17,
          "BS": 9,
          "BodyTemp": 102,
          "DiastolicBP": 60,
          "HeartRate": 86,
          "RiskLevel": "mid risk",
          "SystolicBP": 85
         },
         {
          "Age": 23,
          "BS": 7.8,
          "BodyTemp": 98,
          "DiastolicBP": 70,
          "HeartRate": 70,
          "RiskLevel": "low risk",
          "SystolicBP": 120
         },
         {
          "Age": 23,
          "BS": 7.5,
          "BodyTemp": 98,
          "DiastolicBP": 85,
          "HeartRate": 66,
          "RiskLevel": "mid risk",
          "SystolicBP": 100
         },
         {
          "Age": 12,
          "BS": 6.9,
          "BodyTemp": 98,
          "DiastolicBP": 60,
          "HeartRate": 65,
          "RiskLevel": "mid risk",
          "SystolicBP": 95
         },
         {
          "Age": 31,
          "BS": 6.1,
          "BodyTemp": 98,
          "DiastolicBP": 60,
          "HeartRate": 76,
          "RiskLevel": "mid risk",
          "SystolicBP": 120
         },
         {
          "Age": 17,
          "BS": 7.5,
          "BodyTemp": 101,
          "DiastolicBP": 60,
          "HeartRate": 86,
          "RiskLevel": "high risk",
          "SystolicBP": 85
         },
         {
          "Age": 55,
          "BS": 7.8,
          "BodyTemp": 98,
          "DiastolicBP": 65,
          "HeartRate": 66,
          "RiskLevel": "low risk",
          "SystolicBP": 100
         },
         {
          "Age": 20,
          "BS": 7.5,
          "BodyTemp": 98,
          "DiastolicBP": 90,
          "HeartRate": 88,
          "RiskLevel": "mid risk",
          "SystolicBP": 100
         },
         {
          "Age": 16,
          "BS": 7.5,
          "BodyTemp": 98,
          "DiastolicBP": 70,
          "HeartRate": 80,
          "RiskLevel": "low risk",
          "SystolicBP": 100
         },
         {
          "Age": 23,
          "BS": 6.8,
          "BodyTemp": 98,
          "DiastolicBP": 60,
          "HeartRate": 76,
          "RiskLevel": "low risk",
          "SystolicBP": 90
         },
         {
          "Age": 30,
          "BS": 15,
          "BodyTemp": 98,
          "DiastolicBP": 100,
          "HeartRate": 70,
          "RiskLevel": "high risk",
          "SystolicBP": 140
         },
         {
          "Age": 60,
          "BS": 16,
          "BodyTemp": 98,
          "DiastolicBP": 80,
          "HeartRate": 66,
          "RiskLevel": "high risk",
          "SystolicBP": 140
         },
         {
          "Age": 17,
          "BS": 7.5,
          "BodyTemp": 102,
          "DiastolicBP": 60,
          "HeartRate": 86,
          "RiskLevel": "low risk",
          "SystolicBP": 85
         },
         {
          "Age": 35,
          "BS": 13,
          "BodyTemp": 98,
          "DiastolicBP": 90,
          "HeartRate": 70,
          "RiskLevel": "high risk",
          "SystolicBP": 140
         },
         {
          "Age": 32,
          "BS": 7.5,
          "BodyTemp": 98,
          "DiastolicBP": 80,
          "HeartRate": 70,
          "RiskLevel": "low risk",
          "SystolicBP": 120
         },
         {
          "Age": 50,
          "BS": 17,
          "BodyTemp": 98,
          "DiastolicBP": 95,
          "HeartRate": 60,
          "RiskLevel": "high risk",
          "SystolicBP": 140
         },
         {
          "Age": 40,
          "BS": 19,
          "BodyTemp": 98,
          "DiastolicBP": 100,
          "HeartRate": 77,
          "RiskLevel": "high risk",
          "SystolicBP": 160
         },
         {
          "Age": 23,
          "BS": 7.5,
          "BodyTemp": 98,
          "DiastolicBP": 80,
          "HeartRate": 70,
          "RiskLevel": "low risk",
          "SystolicBP": 120
         },
         {
          "Age": 30,
          "BS": 6.8,
          "BodyTemp": 98,
          "DiastolicBP": 75,
          "HeartRate": 70,
          "RiskLevel": "mid risk",
          "SystolicBP": 120
         },
         {
          "Age": 37,
          "BS": 11,
          "BodyTemp": 98,
          "DiastolicBP": 90,
          "HeartRate": 88,
          "RiskLevel": "high risk",
          "SystolicBP": 120
         },
         {
          "Age": 49,
          "BS": 15,
          "BodyTemp": 98,
          "DiastolicBP": 90,
          "HeartRate": 90,
          "RiskLevel": "high risk",
          "SystolicBP": 140
         },
         {
          "Age": 27,
          "BS": 7.5,
          "BodyTemp": 101,
          "DiastolicBP": 60,
          "HeartRate": 86,
          "RiskLevel": "high risk",
          "SystolicBP": 135
         },
         {
          "Age": 15,
          "BS": 7.5,
          "BodyTemp": 98,
          "DiastolicBP": 49,
          "HeartRate": 77,
          "RiskLevel": "low risk",
          "SystolicBP": 78
         },
         {
          "Age": 59,
          "BS": 7.5,
          "BodyTemp": 98,
          "DiastolicBP": 80,
          "HeartRate": 70,
          "RiskLevel": "low risk",
          "SystolicBP": 120
         },
         {
          "Age": 15,
          "BS": 6,
          "BodyTemp": 98,
          "DiastolicBP": 49,
          "HeartRate": 77,
          "RiskLevel": "low risk",
          "SystolicBP": 90
         },
         {
          "Age": 19,
          "BS": 7.5,
          "BodyTemp": 98,
          "DiastolicBP": 70,
          "HeartRate": 80,
          "RiskLevel": "low risk",
          "SystolicBP": 90
         },
         {
          "Age": 32,
          "BS": 6.9,
          "BodyTemp": 98,
          "DiastolicBP": 100,
          "HeartRate": 78,
          "RiskLevel": "high risk",
          "SystolicBP": 140
         },
         {
          "Age": 50,
          "BS": 15,
          "BodyTemp": 98,
          "DiastolicBP": 90,
          "HeartRate": 77,
          "RiskLevel": "high risk",
          "SystolicBP": 140
         },
         {
          "Age": 31,
          "BS": 6.1,
          "BodyTemp": 98,
          "DiastolicBP": 60,
          "HeartRate": 76,
          "RiskLevel": "mid risk",
          "SystolicBP": 120
         },
         {
          "Age": 50,
          "BS": 6.7,
          "BodyTemp": 98,
          "DiastolicBP": 80,
          "HeartRate": 70,
          "RiskLevel": "mid risk",
          "SystolicBP": 140
         },
         {
          "Age": 22,
          "BS": 6.1,
          "BodyTemp": 98,
          "DiastolicBP": 85,
          "HeartRate": 88,
          "RiskLevel": "low risk",
          "SystolicBP": 120
         },
         {
          "Age": 40,
          "BS": 7.7,
          "BodyTemp": 98,
          "DiastolicBP": 75,
          "HeartRate": 70,
          "RiskLevel": "high risk",
          "SystolicBP": 120
         },
         {
          "Age": 28,
          "BS": 9,
          "BodyTemp": 101,
          "DiastolicBP": 60,
          "HeartRate": 86,
          "RiskLevel": "mid risk",
          "SystolicBP": 85
         },
         {
          "Age": 30,
          "BS": 15,
          "BodyTemp": 98,
          "DiastolicBP": 100,
          "HeartRate": 70,
          "RiskLevel": "high risk",
          "SystolicBP": 140
         },
         {
          "Age": 35,
          "BS": 6.9,
          "BodyTemp": 98,
          "DiastolicBP": 70,
          "HeartRate": 60,
          "RiskLevel": "low risk",
          "SystolicBP": 100
         },
         {
          "Age": 15,
          "BS": 7.5,
          "BodyTemp": 98,
          "DiastolicBP": 80,
          "HeartRate": 70,
          "RiskLevel": "mid risk",
          "SystolicBP": 120
         },
         {
          "Age": 21,
          "BS": 7.5,
          "BodyTemp": 98,
          "DiastolicBP": 80,
          "HeartRate": 77,
          "RiskLevel": "mid risk",
          "SystolicBP": 120
         },
         {
          "Age": 40,
          "BS": 12,
          "BodyTemp": 98,
          "DiastolicBP": 90,
          "HeartRate": 80,
          "RiskLevel": "high risk",
          "SystolicBP": 120
         },
         {
          "Age": 10,
          "BS": 6.9,
          "BodyTemp": 98,
          "DiastolicBP": 65,
          "HeartRate": 70,
          "RiskLevel": "low risk",
          "SystolicBP": 85
         },
         {
          "Age": 32,
          "BS": 18,
          "BodyTemp": 98,
          "DiastolicBP": 90,
          "HeartRate": 88,
          "RiskLevel": "high risk",
          "SystolicBP": 140
         },
         {
          "Age": 19,
          "BS": 7,
          "BodyTemp": 98,
          "DiastolicBP": 80,
          "HeartRate": 70,
          "RiskLevel": "mid risk",
          "SystolicBP": 120
         },
         {
          "Age": 43,
          "BS": 15,
          "BodyTemp": 98,
          "DiastolicBP": 80,
          "HeartRate": 76,
          "RiskLevel": "high risk",
          "SystolicBP": 120
         },
         {
          "Age": 25,
          "BS": 6.9,
          "BodyTemp": 98,
          "DiastolicBP": 90,
          "HeartRate": 80,
          "RiskLevel": "low risk",
          "SystolicBP": 120
         },
         {
          "Age": 15,
          "BS": 7.6,
          "BodyTemp": 98,
          "DiastolicBP": 49,
          "HeartRate": 77,
          "RiskLevel": "low risk",
          "SystolicBP": 100
         },
         {
          "Age": 35,
          "BS": 7.8,
          "BodyTemp": 98,
          "DiastolicBP": 70,
          "HeartRate": 66,
          "RiskLevel": "low risk",
          "SystolicBP": 100
         },
         {
          "Age": 49,
          "BS": 7.2,
          "BodyTemp": 98,
          "DiastolicBP": 90,
          "HeartRate": 77,
          "RiskLevel": "low risk",
          "SystolicBP": 120
         },
         {
          "Age": 12,
          "BS": 7.5,
          "BodyTemp": 102,
          "DiastolicBP": 60,
          "HeartRate": 66,
          "RiskLevel": "low risk",
          "SystolicBP": 90
         },
         {
          "Age": 25,
          "BS": 7.5,
          "BodyTemp": 101,
          "DiastolicBP": 90,
          "HeartRate": 80,
          "RiskLevel": "low risk",
          "SystolicBP": 120
         },
         {
          "Age": 49,
          "BS": 15,
          "BodyTemp": 98,
          "DiastolicBP": 90,
          "HeartRate": 90,
          "RiskLevel": "high risk",
          "SystolicBP": 140
         },
         {
          "Age": 21,
          "BS": 6.1,
          "BodyTemp": 98,
          "DiastolicBP": 50,
          "HeartRate": 70,
          "RiskLevel": "low risk",
          "SystolicBP": 75
         },
         {
          "Age": 35,
          "BS": 11,
          "BodyTemp": 98,
          "DiastolicBP": 70,
          "HeartRate": 60,
          "RiskLevel": "high risk",
          "SystolicBP": 100
         },
         {
          "Age": 60,
          "BS": 6.9,
          "BodyTemp": 98,
          "DiastolicBP": 65,
          "HeartRate": 77,
          "RiskLevel": "low risk",
          "SystolicBP": 90
         },
         {
          "Age": 22,
          "BS": 7.8,
          "BodyTemp": 98,
          "DiastolicBP": 90,
          "HeartRate": 82,
          "RiskLevel": "mid risk",
          "SystolicBP": 120
         },
         {
          "Age": 21,
          "BS": 7.5,
          "BodyTemp": 98,
          "DiastolicBP": 80,
          "HeartRate": 76,
          "RiskLevel": "low risk",
          "SystolicBP": 120
         },
         {
          "Age": 21,
          "BS": 7.8,
          "BodyTemp": 98,
          "DiastolicBP": 50,
          "HeartRate": 60,
          "RiskLevel": "low risk",
          "SystolicBP": 75
         },
         {
          "Age": 25,
          "BS": 7.5,
          "BodyTemp": 98,
          "DiastolicBP": 90,
          "HeartRate": 76,
          "RiskLevel": "low risk",
          "SystolicBP": 100
         },
         {
          "Age": 17,
          "BS": 7.7,
          "BodyTemp": 103,
          "DiastolicBP": 65,
          "HeartRate": 67,
          "RiskLevel": "high risk",
          "SystolicBP": 90
         },
         {
          "Age": 50,
          "BS": 16,
          "BodyTemp": 98,
          "DiastolicBP": 100,
          "HeartRate": 75,
          "RiskLevel": "high risk",
          "SystolicBP": 130
         },
         {
          "Age": 50,
          "BS": 15,
          "BodyTemp": 98,
          "DiastolicBP": 80,
          "HeartRate": 70,
          "RiskLevel": "high risk",
          "SystolicBP": 120
         },
         {
          "Age": 30,
          "BS": 6.8,
          "BodyTemp": 101,
          "DiastolicBP": 80,
          "HeartRate": 76,
          "RiskLevel": "low risk",
          "SystolicBP": 120
         },
         {
          "Age": 29,
          "BS": 7.5,
          "BodyTemp": 98,
          "DiastolicBP": 70,
          "HeartRate": 78,
          "RiskLevel": "mid risk",
          "SystolicBP": 130
         },
         {
          "Age": 50,
          "BS": 6.7,
          "BodyTemp": 98,
          "DiastolicBP": 80,
          "HeartRate": 70,
          "RiskLevel": "mid risk",
          "SystolicBP": 140
         },
         {
          "Age": 29,
          "BS": 6.7,
          "BodyTemp": 98,
          "DiastolicBP": 70,
          "HeartRate": 78,
          "RiskLevel": "mid risk",
          "SystolicBP": 130
         },
         {
          "Age": 29,
          "BS": 7.9,
          "BodyTemp": 98,
          "DiastolicBP": 70,
          "HeartRate": 78,
          "RiskLevel": "mid risk",
          "SystolicBP": 130
         },
         {
          "Age": 35,
          "BS": 7.7,
          "BodyTemp": 98,
          "DiastolicBP": 70,
          "HeartRate": 66,
          "RiskLevel": "low risk",
          "SystolicBP": 100
         },
         {
          "Age": 19,
          "BS": 7,
          "BodyTemp": 98,
          "DiastolicBP": 80,
          "HeartRate": 70,
          "RiskLevel": "mid risk",
          "SystolicBP": 120
         },
         {
          "Age": 28,
          "BS": 9,
          "BodyTemp": 102,
          "DiastolicBP": 80,
          "HeartRate": 76,
          "RiskLevel": "high risk",
          "SystolicBP": 120
         },
         {
          "Age": 30,
          "BS": 6.9,
          "BodyTemp": 101,
          "DiastolicBP": 80,
          "HeartRate": 76,
          "RiskLevel": "mid risk",
          "SystolicBP": 120
         },
         {
          "Age": 40,
          "BS": 19,
          "BodyTemp": 98,
          "DiastolicBP": 100,
          "HeartRate": 77,
          "RiskLevel": "high risk",
          "SystolicBP": 160
         },
         {
          "Age": 35,
          "BS": 7.5,
          "BodyTemp": 98,
          "DiastolicBP": 80,
          "HeartRate": 80,
          "RiskLevel": "low risk",
          "SystolicBP": 120
         },
         {
          "Age": 29,
          "BS": 10,
          "BodyTemp": 98,
          "DiastolicBP": 70,
          "HeartRate": 80,
          "RiskLevel": "high risk",
          "SystolicBP": 90
         },
         {
          "Age": 48,
          "BS": 11,
          "BodyTemp": 98,
          "DiastolicBP": 80,
          "HeartRate": 88,
          "RiskLevel": "high risk",
          "SystolicBP": 120
         },
         {
          "Age": 21,
          "BS": 7.5,
          "BodyTemp": 98,
          "DiastolicBP": 80,
          "HeartRate": 77,
          "RiskLevel": "low risk",
          "SystolicBP": 120
         },
         {
          "Age": 55,
          "BS": 19,
          "BodyTemp": 98,
          "DiastolicBP": 95,
          "HeartRate": 77,
          "RiskLevel": "high risk",
          "SystolicBP": 140
         },
         {
          "Age": 20,
          "BS": 7,
          "BodyTemp": 100,
          "DiastolicBP": 60,
          "HeartRate": 70,
          "RiskLevel": "mid risk",
          "SystolicBP": 110
         },
         {
          "Age": 28,
          "BS": 6.9,
          "BodyTemp": 98,
          "DiastolicBP": 90,
          "HeartRate": 70,
          "RiskLevel": "mid risk",
          "SystolicBP": 120
         },
         {
          "Age": 16,
          "BS": 6.9,
          "BodyTemp": 98,
          "DiastolicBP": 65,
          "HeartRate": 76,
          "RiskLevel": "mid risk",
          "SystolicBP": 90
         },
         {
          "Age": 42,
          "BS": 7.8,
          "BodyTemp": 98,
          "DiastolicBP": 80,
          "HeartRate": 70,
          "RiskLevel": "low risk",
          "SystolicBP": 120
         },
         {
          "Age": 19,
          "BS": 6.8,
          "BodyTemp": 98,
          "DiastolicBP": 90,
          "HeartRate": 60,
          "RiskLevel": "mid risk",
          "SystolicBP": 120
         },
         {
          "Age": 42,
          "BS": 7.5,
          "BodyTemp": 98,
          "DiastolicBP": 80,
          "HeartRate": 70,
          "RiskLevel": "low risk",
          "SystolicBP": 120
         },
         {
          "Age": 36,
          "BS": 7,
          "BodyTemp": 98,
          "DiastolicBP": 90,
          "HeartRate": 82,
          "RiskLevel": "mid risk",
          "SystolicBP": 120
         },
         {
          "Age": 10,
          "BS": 6,
          "BodyTemp": 99,
          "DiastolicBP": 50,
          "HeartRate": 70,
          "RiskLevel": "mid risk",
          "SystolicBP": 100
         },
         {
          "Age": 12,
          "BS": 6.7,
          "BodyTemp": 98,
          "DiastolicBP": 60,
          "HeartRate": 77,
          "RiskLevel": "low risk",
          "SystolicBP": 95
         },
         {
          "Age": 28,
          "BS": 8,
          "BodyTemp": 101,
          "DiastolicBP": 60,
          "HeartRate": 86,
          "RiskLevel": "high risk",
          "SystolicBP": 83
         },
         {
          "Age": 21,
          "BS": 7.5,
          "BodyTemp": 98,
          "DiastolicBP": 65,
          "HeartRate": 76,
          "RiskLevel": "low risk",
          "SystolicBP": 90
         },
         {
          "Age": 60,
          "BS": 15,
          "BodyTemp": 98,
          "DiastolicBP": 85,
          "HeartRate": 60,
          "RiskLevel": "high risk",
          "SystolicBP": 120
         },
         {
          "Age": 49,
          "BS": 7.5,
          "BodyTemp": 98,
          "DiastolicBP": 90,
          "HeartRate": 77,
          "RiskLevel": "low risk",
          "SystolicBP": 120
         },
         {
          "Age": 21,
          "BS": 7.1,
          "BodyTemp": 98,
          "DiastolicBP": 80,
          "HeartRate": 77,
          "RiskLevel": "low risk",
          "SystolicBP": 120
         },
         {
          "Age": 29,
          "BS": 6.7,
          "BodyTemp": 98,
          "DiastolicBP": 70,
          "HeartRate": 80,
          "RiskLevel": "mid risk",
          "SystolicBP": 90
         },
         {
          "Age": 25,
          "BS": 7.5,
          "BodyTemp": 98,
          "DiastolicBP": 100,
          "HeartRate": 80,
          "RiskLevel": "high risk",
          "SystolicBP": 140
         },
         {
          "Age": 29,
          "BS": 6.7,
          "BodyTemp": 98,
          "DiastolicBP": 70,
          "HeartRate": 80,
          "RiskLevel": "mid risk",
          "SystolicBP": 90
         },
         {
          "Age": 35,
          "BS": 8,
          "BodyTemp": 98,
          "DiastolicBP": 100,
          "HeartRate": 66,
          "RiskLevel": "high risk",
          "SystolicBP": 140
         },
         {
          "Age": 12,
          "BS": 8,
          "BodyTemp": 102,
          "DiastolicBP": 60,
          "HeartRate": 66,
          "RiskLevel": "high risk",
          "SystolicBP": 90
         },
         {
          "Age": 16,
          "BS": 7.9,
          "BodyTemp": 98,
          "DiastolicBP": 75,
          "HeartRate": 7,
          "RiskLevel": "low risk",
          "SystolicBP": 120
         },
         {
          "Age": 55,
          "BS": 6.8,
          "BodyTemp": 101,
          "DiastolicBP": 70,
          "HeartRate": 80,
          "RiskLevel": "mid risk",
          "SystolicBP": 100
         },
         {
          "Age": 32,
          "BS": 6,
          "BodyTemp": 101,
          "DiastolicBP": 65,
          "HeartRate": 76,
          "RiskLevel": "mid risk",
          "SystolicBP": 120
         },
         {
          "Age": 19,
          "BS": 7,
          "BodyTemp": 98,
          "DiastolicBP": 85,
          "HeartRate": 60,
          "RiskLevel": "low risk",
          "SystolicBP": 120
         },
         {
          "Age": 17,
          "BS": 9,
          "BodyTemp": 102,
          "DiastolicBP": 60,
          "HeartRate": 86,
          "RiskLevel": "mid risk",
          "SystolicBP": 85
         },
         {
          "Age": 50,
          "BS": 16,
          "BodyTemp": 98,
          "DiastolicBP": 100,
          "HeartRate": 75,
          "RiskLevel": "high risk",
          "SystolicBP": 130
         },
         {
          "Age": 22,
          "BS": 7.7,
          "BodyTemp": 98,
          "DiastolicBP": 85,
          "HeartRate": 88,
          "RiskLevel": "low risk",
          "SystolicBP": 120
         },
         {
          "Age": 23,
          "BS": 6.1,
          "BodyTemp": 98,
          "DiastolicBP": 90,
          "HeartRate": 60,
          "RiskLevel": "low risk",
          "SystolicBP": 120
         },
         {
          "Age": 21,
          "BS": 6.9,
          "BodyTemp": 98,
          "DiastolicBP": 65,
          "HeartRate": 76,
          "RiskLevel": "mid risk",
          "SystolicBP": 90
         },
         {
          "Age": 15,
          "BS": 7,
          "BodyTemp": 98,
          "DiastolicBP": 60,
          "HeartRate": 80,
          "RiskLevel": "low risk",
          "SystolicBP": 80
         },
         {
          "Age": 15,
          "BS": 6,
          "BodyTemp": 98,
          "DiastolicBP": 60,
          "HeartRate": 80,
          "RiskLevel": "low risk",
          "SystolicBP": 90
         },
         {
          "Age": 15,
          "BS": 7.5,
          "BodyTemp": 98,
          "DiastolicBP": 49,
          "HeartRate": 77,
          "RiskLevel": "low risk",
          "SystolicBP": 78
         },
         {
          "Age": 12,
          "BS": 7.5,
          "BodyTemp": 98,
          "DiastolicBP": 60,
          "HeartRate": 65,
          "RiskLevel": "low risk",
          "SystolicBP": 95
         },
         {
          "Age": 44,
          "BS": 16,
          "BodyTemp": 98,
          "DiastolicBP": 90,
          "HeartRate": 80,
          "RiskLevel": "mid risk",
          "SystolicBP": 120
         },
         {
          "Age": 22,
          "BS": 7.9,
          "BodyTemp": 98,
          "DiastolicBP": 65,
          "HeartRate": 80,
          "RiskLevel": "low risk",
          "SystolicBP": 100
         },
         {
          "Age": 27,
          "BS": 6.8,
          "BodyTemp": 98,
          "DiastolicBP": 70,
          "HeartRate": 77,
          "RiskLevel": "low risk",
          "SystolicBP": 120
         },
         {
          "Age": 35,
          "BS": 6.9,
          "BodyTemp": 98,
          "DiastolicBP": 80,
          "HeartRate": 80,
          "RiskLevel": "high risk",
          "SystolicBP": 120
         },
         {
          "Age": 12,
          "BS": 6,
          "BodyTemp": 98,
          "DiastolicBP": 50,
          "HeartRate": 70,
          "RiskLevel": "mid risk",
          "SystolicBP": 100
         },
         {
          "Age": 23,
          "BS": 7.5,
          "BodyTemp": 98,
          "DiastolicBP": 90,
          "HeartRate": 70,
          "RiskLevel": "low risk",
          "SystolicBP": 120
         },
         {
          "Age": 25,
          "BS": 6.8,
          "BodyTemp": 98,
          "DiastolicBP": 80,
          "HeartRate": 66,
          "RiskLevel": "mid risk",
          "SystolicBP": 120
         },
         {
          "Age": 48,
          "BS": 11,
          "BodyTemp": 98,
          "DiastolicBP": 80,
          "HeartRate": 88,
          "RiskLevel": "high risk",
          "SystolicBP": 120
         },
         {
          "Age": 45,
          "BS": 7.7,
          "BodyTemp": 98,
          "DiastolicBP": 95,
          "HeartRate": 66,
          "RiskLevel": "low risk",
          "SystolicBP": 120
         },
         {
          "Age": 59,
          "BS": 7.5,
          "BodyTemp": 98,
          "DiastolicBP": 80,
          "HeartRate": 70,
          "RiskLevel": "low risk",
          "SystolicBP": 120
         },
         {
          "Age": 16,
          "BS": 6.9,
          "BodyTemp": 98,
          "DiastolicBP": 65,
          "HeartRate": 76,
          "RiskLevel": "mid risk",
          "SystolicBP": 90
         },
         {
          "Age": 60,
          "BS": 15,
          "BodyTemp": 98,
          "DiastolicBP": 85,
          "HeartRate": 60,
          "RiskLevel": "high risk",
          "SystolicBP": 120
         },
         {
          "Age": 12,
          "BS": 11,
          "BodyTemp": 102,
          "DiastolicBP": 60,
          "HeartRate": 60,
          "RiskLevel": "high risk",
          "SystolicBP": 90
         },
         {
          "Age": 60,
          "BS": 15,
          "BodyTemp": 98,
          "DiastolicBP": 85,
          "HeartRate": 60,
          "RiskLevel": "mid risk",
          "SystolicBP": 120
         },
         {
          "Age": 28,
          "BS": 7.8,
          "BodyTemp": 101,
          "DiastolicBP": 60,
          "HeartRate": 86,
          "RiskLevel": "mid risk",
          "SystolicBP": 115
         },
         {
          "Age": 25,
          "BS": 6.8,
          "BodyTemp": 98,
          "DiastolicBP": 100,
          "HeartRate": 60,
          "RiskLevel": "low risk",
          "SystolicBP": 120
         },
         {
          "Age": 19,
          "BS": 7,
          "BodyTemp": 98,
          "DiastolicBP": 80,
          "HeartRate": 70,
          "RiskLevel": "mid risk",
          "SystolicBP": 120
         },
         {
          "Age": 55,
          "BS": 19,
          "BodyTemp": 98,
          "DiastolicBP": 95,
          "HeartRate": 77,
          "RiskLevel": "high risk",
          "SystolicBP": 140
         },
         {
          "Age": 16,
          "BS": 7.5,
          "BodyTemp": 98,
          "DiastolicBP": 70,
          "HeartRate": 80,
          "RiskLevel": "low risk",
          "SystolicBP": 100
         },
         {
          "Age": 33,
          "BS": 10,
          "BodyTemp": 98,
          "DiastolicBP": 75,
          "HeartRate": 70,
          "RiskLevel": "high risk",
          "SystolicBP": 120
         },
         {
          "Age": 37,
          "BS": 11,
          "BodyTemp": 98,
          "DiastolicBP": 90,
          "HeartRate": 88,
          "RiskLevel": "high risk",
          "SystolicBP": 120
         },
         {
          "Age": 23,
          "BS": 6.9,
          "BodyTemp": 98,
          "DiastolicBP": 70,
          "HeartRate": 70,
          "RiskLevel": "mid risk",
          "SystolicBP": 130
         },
         {
          "Age": 32,
          "BS": 7.5,
          "BodyTemp": 98,
          "DiastolicBP": 90,
          "HeartRate": 70,
          "RiskLevel": "low risk",
          "SystolicBP": 120
         },
         {
          "Age": 32,
          "BS": 7.5,
          "BodyTemp": 98,
          "DiastolicBP": 90,
          "HeartRate": 70,
          "RiskLevel": "low risk",
          "SystolicBP": 120
         },
         {
          "Age": 23,
          "BS": 7.9,
          "BodyTemp": 98,
          "DiastolicBP": 60,
          "HeartRate": 76,
          "RiskLevel": "low risk",
          "SystolicBP": 90
         },
         {
          "Age": 32,
          "BS": 18,
          "BodyTemp": 98,
          "DiastolicBP": 90,
          "HeartRate": 88,
          "RiskLevel": "high risk",
          "SystolicBP": 140
         },
         {
          "Age": 50,
          "BS": 7.7,
          "BodyTemp": 98,
          "DiastolicBP": 80,
          "HeartRate": 70,
          "RiskLevel": "low risk",
          "SystolicBP": 120
         },
         {
          "Age": 28,
          "BS": 7.5,
          "BodyTemp": 98,
          "DiastolicBP": 60,
          "HeartRate": 82,
          "RiskLevel": "mid risk",
          "SystolicBP": 90
         },
         {
          "Age": 17,
          "BS": 6.9,
          "BodyTemp": 101,
          "DiastolicBP": 63,
          "HeartRate": 70,
          "RiskLevel": "mid risk",
          "SystolicBP": 90
         },
         {
          "Age": 45,
          "BS": 7.5,
          "BodyTemp": 98,
          "DiastolicBP": 95,
          "HeartRate": 66,
          "RiskLevel": "low risk",
          "SystolicBP": 120
         },
         {
          "Age": 15,
          "BS": 7.5,
          "BodyTemp": 98,
          "DiastolicBP": 60,
          "HeartRate": 80,
          "RiskLevel": "low risk",
          "SystolicBP": 80
         },
         {
          "Age": 15,
          "BS": 7.9,
          "BodyTemp": 98,
          "DiastolicBP": 80,
          "HeartRate": 70,
          "RiskLevel": "low risk",
          "SystolicBP": 120
         },
         {
          "Age": 54,
          "BS": 12,
          "BodyTemp": 98,
          "DiastolicBP": 70,
          "HeartRate": 67,
          "RiskLevel": "mid risk",
          "SystolicBP": 130
         },
         {
          "Age": 31,
          "BS": 6.1,
          "BodyTemp": 98,
          "DiastolicBP": 60,
          "HeartRate": 76,
          "RiskLevel": "low risk",
          "SystolicBP": 120
         },
         {
          "Age": 25,
          "BS": 6.8,
          "BodyTemp": 98,
          "DiastolicBP": 100,
          "HeartRate": 80,
          "RiskLevel": "high risk",
          "SystolicBP": 140
         },
         {
          "Age": 32,
          "BS": 7.5,
          "BodyTemp": 98,
          "DiastolicBP": 90,
          "HeartRate": 70,
          "RiskLevel": "low risk",
          "SystolicBP": 120
         },
         {
          "Age": 25,
          "BS": 6.7,
          "BodyTemp": 101,
          "DiastolicBP": 90,
          "HeartRate": 80,
          "RiskLevel": "mid risk",
          "SystolicBP": 120
         },
         {
          "Age": 17,
          "BS": 9,
          "BodyTemp": 102,
          "DiastolicBP": 60,
          "HeartRate": 86,
          "RiskLevel": "high risk",
          "SystolicBP": 85
         },
         {
          "Age": 20,
          "BS": 7.01,
          "BodyTemp": 100,
          "DiastolicBP": 75,
          "HeartRate": 70,
          "RiskLevel": "mid risk",
          "SystolicBP": 120
         },
         {
          "Age": 25,
          "BS": 15,
          "BodyTemp": 98.6,
          "DiastolicBP": 100,
          "HeartRate": 70,
          "RiskLevel": "high risk",
          "SystolicBP": 140
         },
         {
          "Age": 12,
          "BS": 6.4,
          "BodyTemp": 98,
          "DiastolicBP": 50,
          "HeartRate": 70,
          "RiskLevel": "mid risk",
          "SystolicBP": 100
         },
         {
          "Age": 31,
          "BS": 6.1,
          "BodyTemp": 98,
          "DiastolicBP": 60,
          "HeartRate": 76,
          "RiskLevel": "mid risk",
          "SystolicBP": 120
         },
         {
          "Age": 32,
          "BS": 6.8,
          "BodyTemp": 98,
          "DiastolicBP": 90,
          "HeartRate": 70,
          "RiskLevel": "low risk",
          "SystolicBP": 120
         },
         {
          "Age": 23,
          "BS": 7.5,
          "BodyTemp": 98,
          "DiastolicBP": 90,
          "HeartRate": 70,
          "RiskLevel": "low risk",
          "SystolicBP": 120
         },
         {
          "Age": 19,
          "BS": 7.2,
          "BodyTemp": 98,
          "DiastolicBP": 75,
          "HeartRate": 66,
          "RiskLevel": "low risk",
          "SystolicBP": 120
         },
         {
          "Age": 40,
          "BS": 19,
          "BodyTemp": 98,
          "DiastolicBP": 100,
          "HeartRate": 77,
          "RiskLevel": "high risk",
          "SystolicBP": 160
         },
         {
          "Age": 20,
          "BS": 7,
          "BodyTemp": 98,
          "DiastolicBP": 90,
          "HeartRate": 88,
          "RiskLevel": "low risk",
          "SystolicBP": 100
         },
         {
          "Age": 29,
          "BS": 6.7,
          "BodyTemp": 98,
          "DiastolicBP": 70,
          "HeartRate": 80,
          "RiskLevel": "mid risk",
          "SystolicBP": 90
         },
         {
          "Age": 19,
          "BS": 7,
          "BodyTemp": 98,
          "DiastolicBP": 80,
          "HeartRate": 70,
          "RiskLevel": "mid risk",
          "SystolicBP": 120
         },
         {
          "Age": 13,
          "BS": 7.5,
          "BodyTemp": 101,
          "DiastolicBP": 65,
          "HeartRate": 80,
          "RiskLevel": "low risk",
          "SystolicBP": 90
         },
         {
          "Age": 17,
          "BS": 8,
          "BodyTemp": 101,
          "DiastolicBP": 63,
          "HeartRate": 70,
          "RiskLevel": "high risk",
          "SystolicBP": 90
         },
         {
          "Age": 21,
          "BS": 7.1,
          "BodyTemp": 98,
          "DiastolicBP": 80,
          "HeartRate": 77,
          "RiskLevel": "low risk",
          "SystolicBP": 120
         },
         {
          "Age": 55,
          "BS": 19,
          "BodyTemp": 98,
          "DiastolicBP": 95,
          "HeartRate": 77,
          "RiskLevel": "high risk",
          "SystolicBP": 140
         },
         {
          "Age": 30,
          "BS": 9,
          "BodyTemp": 101,
          "DiastolicBP": 80,
          "HeartRate": 76,
          "RiskLevel": "mid risk",
          "SystolicBP": 120
         },
         {
          "Age": 20,
          "BS": 7.5,
          "BodyTemp": 98,
          "DiastolicBP": 76,
          "HeartRate": 70,
          "RiskLevel": "low risk",
          "SystolicBP": 120
         },
         {
          "Age": 32,
          "BS": 7.9,
          "BodyTemp": 98,
          "DiastolicBP": 100,
          "HeartRate": 78,
          "RiskLevel": "high risk",
          "SystolicBP": 140
         },
         {
          "Age": 15,
          "BS": 7.01,
          "BodyTemp": 98,
          "DiastolicBP": 80,
          "HeartRate": 70,
          "RiskLevel": "low risk",
          "SystolicBP": 120
         },
         {
          "Age": 22,
          "BS": 7.5,
          "BodyTemp": 98,
          "DiastolicBP": 90,
          "HeartRate": 82,
          "RiskLevel": "low risk",
          "SystolicBP": 120
         },
         {
          "Age": 25,
          "BS": 6.1,
          "BodyTemp": 98,
          "DiastolicBP": 70,
          "HeartRate": 80,
          "RiskLevel": "low risk",
          "SystolicBP": 90
         },
         {
          "Age": 23,
          "BS": 7.9,
          "BodyTemp": 98,
          "DiastolicBP": 90,
          "HeartRate": 70,
          "RiskLevel": "mid risk",
          "SystolicBP": 120
         },
         {
          "Age": 50,
          "BS": 15,
          "BodyTemp": 98,
          "DiastolicBP": 80,
          "HeartRate": 70,
          "RiskLevel": "high risk",
          "SystolicBP": 120
         },
         {
          "Age": 27,
          "BS": 6.8,
          "BodyTemp": 98,
          "DiastolicBP": 70,
          "HeartRate": 77,
          "RiskLevel": "low risk",
          "SystolicBP": 120
         },
         {
          "Age": 22,
          "BS": 7.1,
          "BodyTemp": 98,
          "DiastolicBP": 90,
          "HeartRate": 82,
          "RiskLevel": "low risk",
          "SystolicBP": 120
         },
         {
          "Age": 55,
          "BS": 7.2,
          "BodyTemp": 101,
          "DiastolicBP": 80,
          "HeartRate": 76,
          "RiskLevel": "high risk",
          "SystolicBP": 140
         },
         {
          "Age": 34,
          "BS": 8,
          "BodyTemp": 98,
          "DiastolicBP": 75,
          "HeartRate": 70,
          "RiskLevel": "low risk",
          "SystolicBP": 120
         },
         {
          "Age": 35,
          "BS": 7.5,
          "BodyTemp": 98,
          "DiastolicBP": 70,
          "HeartRate": 66,
          "RiskLevel": "low risk",
          "SystolicBP": 100
         },
         {
          "Age": 40,
          "BS": 15,
          "BodyTemp": 98,
          "DiastolicBP": 85,
          "HeartRate": 60,
          "RiskLevel": "high risk",
          "SystolicBP": 120
         },
         {
          "Age": 35,
          "BS": 6.1,
          "BodyTemp": 98,
          "DiastolicBP": 60,
          "HeartRate": 76,
          "RiskLevel": "low risk",
          "SystolicBP": 120
         },
         {
          "Age": 25,
          "BS": 7.5,
          "BodyTemp": 101,
          "DiastolicBP": 90,
          "HeartRate": 80,
          "RiskLevel": "low risk",
          "SystolicBP": 120
         },
         {
          "Age": 23,
          "BS": 7.8,
          "BodyTemp": 98,
          "DiastolicBP": 90,
          "HeartRate": 60,
          "RiskLevel": "mid risk",
          "SystolicBP": 120
         },
         {
          "Age": 48,
          "BS": 11,
          "BodyTemp": 98,
          "DiastolicBP": 80,
          "HeartRate": 88,
          "RiskLevel": "mid risk",
          "SystolicBP": 120
         },
         {
          "Age": 23,
          "BS": 7.5,
          "BodyTemp": 98,
          "DiastolicBP": 85,
          "HeartRate": 66,
          "RiskLevel": "low risk",
          "SystolicBP": 100
         },
         {
          "Age": 12,
          "BS": 7.5,
          "BodyTemp": 102,
          "DiastolicBP": 60,
          "HeartRate": 66,
          "RiskLevel": "low risk",
          "SystolicBP": 90
         },
         {
          "Age": 35,
          "BS": 6.9,
          "BodyTemp": 98,
          "DiastolicBP": 65,
          "HeartRate": 75,
          "RiskLevel": "low risk",
          "SystolicBP": 90
         },
         {
          "Age": 50,
          "BS": 7.9,
          "BodyTemp": 98,
          "DiastolicBP": 80,
          "HeartRate": 70,
          "RiskLevel": "low risk",
          "SystolicBP": 120
         },
         {
          "Age": 31,
          "BS": 6.8,
          "BodyTemp": 100,
          "DiastolicBP": 90,
          "HeartRate": 70,
          "RiskLevel": "mid risk",
          "SystolicBP": 110
         },
         {
          "Age": 22,
          "BS": 15,
          "BodyTemp": 98,
          "DiastolicBP": 60,
          "HeartRate": 80,
          "RiskLevel": "high risk",
          "SystolicBP": 120
         },
         {
          "Age": 48,
          "BS": 11,
          "BodyTemp": 98,
          "DiastolicBP": 80,
          "HeartRate": 88,
          "RiskLevel": "low risk",
          "SystolicBP": 120
         },
         {
          "Age": 25,
          "BS": 7.5,
          "BodyTemp": 98,
          "DiastolicBP": 90,
          "HeartRate": 80,
          "RiskLevel": "low risk",
          "SystolicBP": 120
         },
         {
          "Age": 30,
          "BS": 7.9,
          "BodyTemp": 101,
          "DiastolicBP": 80,
          "HeartRate": 76,
          "RiskLevel": "high risk",
          "SystolicBP": 120
         },
         {
          "Age": 23,
          "BS": 7.01,
          "BodyTemp": 98,
          "DiastolicBP": 80,
          "HeartRate": 70,
          "RiskLevel": "high risk",
          "SystolicBP": 140
         },
         {
          "Age": 12,
          "BS": 6.8,
          "BodyTemp": 98,
          "DiastolicBP": 95,
          "HeartRate": 60,
          "RiskLevel": "mid risk",
          "SystolicBP": 120
         },
         {
          "Age": 25,
          "BS": 6.8,
          "BodyTemp": 98,
          "DiastolicBP": 100,
          "HeartRate": 80,
          "RiskLevel": "high risk",
          "SystolicBP": 140
         },
         {
          "Age": 32,
          "BS": 6.8,
          "BodyTemp": 98,
          "DiastolicBP": 90,
          "HeartRate": 70,
          "RiskLevel": "low risk",
          "SystolicBP": 120
         },
         {
          "Age": 41,
          "BS": 7.5,
          "BodyTemp": 98,
          "DiastolicBP": 80,
          "HeartRate": 75,
          "RiskLevel": "low risk",
          "SystolicBP": 120
         },
         {
          "Age": 17,
          "BS": 6.9,
          "BodyTemp": 101,
          "DiastolicBP": 60,
          "HeartRate": 76,
          "RiskLevel": "mid risk",
          "SystolicBP": 90
         },
         {
          "Age": 18,
          "BS": 7.5,
          "BodyTemp": 98,
          "DiastolicBP": 60,
          "HeartRate": 70,
          "RiskLevel": "low risk",
          "SystolicBP": 90
         },
         {
          "Age": 20,
          "BS": 7.1,
          "BodyTemp": 98,
          "DiastolicBP": 90,
          "HeartRate": 88,
          "RiskLevel": "low risk",
          "SystolicBP": 100
         },
         {
          "Age": 25,
          "BS": 6.7,
          "BodyTemp": 101,
          "DiastolicBP": 90,
          "HeartRate": 80,
          "RiskLevel": "mid risk",
          "SystolicBP": 120
         },
         {
          "Age": 25,
          "BS": 15,
          "BodyTemp": 98,
          "DiastolicBP": 80,
          "HeartRate": 86,
          "RiskLevel": "high risk",
          "SystolicBP": 130
         },
         {
          "Age": 65,
          "BS": 15,
          "BodyTemp": 98,
          "DiastolicBP": 80,
          "HeartRate": 86,
          "RiskLevel": "high risk",
          "SystolicBP": 130
         },
         {
          "Age": 29,
          "BS": 6.7,
          "BodyTemp": 98,
          "DiastolicBP": 70,
          "HeartRate": 80,
          "RiskLevel": "mid risk",
          "SystolicBP": 90
         },
         {
          "Age": 23,
          "BS": 6.9,
          "BodyTemp": 98,
          "DiastolicBP": 70,
          "HeartRate": 70,
          "RiskLevel": "mid risk",
          "SystolicBP": 130
         },
         {
          "Age": 25,
          "BS": 7.9,
          "BodyTemp": 98,
          "DiastolicBP": 100,
          "HeartRate": 80,
          "RiskLevel": "high risk",
          "SystolicBP": 140
         },
         {
          "Age": 32,
          "BS": 7.9,
          "BodyTemp": 98,
          "DiastolicBP": 100,
          "HeartRate": 78,
          "RiskLevel": "high risk",
          "SystolicBP": 140
         },
         {
          "Age": 22,
          "BS": 7.1,
          "BodyTemp": 98,
          "DiastolicBP": 90,
          "HeartRate": 82,
          "RiskLevel": "low risk",
          "SystolicBP": 120
         },
         {
          "Age": 30,
          "BS": 6.9,
          "BodyTemp": 101,
          "DiastolicBP": 80,
          "HeartRate": 76,
          "RiskLevel": "mid risk",
          "SystolicBP": 120
         },
         {
          "Age": 17,
          "BS": 12,
          "BodyTemp": 101,
          "DiastolicBP": 75,
          "HeartRate": 76,
          "RiskLevel": "high risk",
          "SystolicBP": 110
         },
         {
          "Age": 45,
          "BS": 6.1,
          "BodyTemp": 98,
          "DiastolicBP": 95,
          "HeartRate": 66,
          "RiskLevel": "low risk",
          "SystolicBP": 120
         },
         {
          "Age": 21,
          "BS": 7.5,
          "BodyTemp": 98,
          "DiastolicBP": 80,
          "HeartRate": 76,
          "RiskLevel": "low risk",
          "SystolicBP": 120
         },
         {
          "Age": 17,
          "BS": 6.9,
          "BodyTemp": 101,
          "DiastolicBP": 63,
          "HeartRate": 70,
          "RiskLevel": "mid risk",
          "SystolicBP": 90
         },
         {
          "Age": 17,
          "BS": 9,
          "BodyTemp": 102,
          "DiastolicBP": 60,
          "HeartRate": 86,
          "RiskLevel": "high risk",
          "SystolicBP": 85
         },
         {
          "Age": 33,
          "BS": 10,
          "BodyTemp": 98,
          "DiastolicBP": 75,
          "HeartRate": 70,
          "RiskLevel": "high risk",
          "SystolicBP": 120
         },
         {
          "Age": 27,
          "BS": 6.8,
          "BodyTemp": 102,
          "DiastolicBP": 90,
          "HeartRate": 68,
          "RiskLevel": "mid risk",
          "SystolicBP": 120
         },
         {
          "Age": 19,
          "BS": 7,
          "BodyTemp": 98,
          "DiastolicBP": 80,
          "HeartRate": 70,
          "RiskLevel": "mid risk",
          "SystolicBP": 120
         },
         {
          "Age": 21,
          "BS": 7.5,
          "BodyTemp": 98,
          "DiastolicBP": 50,
          "HeartRate": 60,
          "RiskLevel": "low risk",
          "SystolicBP": 75
         },
         {
          "Age": 18,
          "BS": 6.9,
          "BodyTemp": 98,
          "DiastolicBP": 60,
          "HeartRate": 70,
          "RiskLevel": "low risk",
          "SystolicBP": 90
         },
         {
          "Age": 60,
          "BS": 6.8,
          "BodyTemp": 98,
          "DiastolicBP": 80,
          "HeartRate": 77,
          "RiskLevel": "mid risk",
          "SystolicBP": 120
         },
         {
          "Age": 22,
          "BS": 6.9,
          "BodyTemp": 98,
          "DiastolicBP": 65,
          "HeartRate": 70,
          "RiskLevel": "low risk",
          "SystolicBP": 100
         },
         {
          "Age": 23,
          "BS": 7.5,
          "BodyTemp": 98,
          "DiastolicBP": 60,
          "HeartRate": 76,
          "RiskLevel": "low risk",
          "SystolicBP": 90
         },
         {
          "Age": 49,
          "BS": 7.5,
          "BodyTemp": 98,
          "DiastolicBP": 90,
          "HeartRate": 77,
          "RiskLevel": "low risk",
          "SystolicBP": 120
         },
         {
          "Age": 17,
          "BS": 6.3,
          "BodyTemp": 102,
          "DiastolicBP": 60,
          "HeartRate": 86,
          "RiskLevel": "high risk",
          "SystolicBP": 85
         },
         {
          "Age": 21,
          "BS": 6.9,
          "BodyTemp": 98,
          "DiastolicBP": 80,
          "HeartRate": 76,
          "RiskLevel": "mid risk",
          "SystolicBP": 120
         },
         {
          "Age": 43,
          "BS": 18,
          "BodyTemp": 98,
          "DiastolicBP": 80,
          "HeartRate": 70,
          "RiskLevel": "mid risk",
          "SystolicBP": 130
         },
         {
          "Age": 34,
          "BS": 11,
          "BodyTemp": 102,
          "DiastolicBP": 60,
          "HeartRate": 86,
          "RiskLevel": "high risk",
          "SystolicBP": 85
         },
         {
          "Age": 29,
          "BS": 7.7,
          "BodyTemp": 98,
          "DiastolicBP": 70,
          "HeartRate": 78,
          "RiskLevel": "mid risk",
          "SystolicBP": 130
         },
         {
          "Age": 40,
          "BS": 18,
          "BodyTemp": 98,
          "DiastolicBP": 100,
          "HeartRate": 77,
          "RiskLevel": "high risk",
          "SystolicBP": 140
         },
         {
          "Age": 21,
          "BS": 6.9,
          "BodyTemp": 98,
          "DiastolicBP": 85,
          "HeartRate": 70,
          "RiskLevel": "low risk",
          "SystolicBP": 100
         },
         {
          "Age": 31,
          "BS": 6.1,
          "BodyTemp": 98,
          "DiastolicBP": 60,
          "HeartRate": 76,
          "RiskLevel": "low risk",
          "SystolicBP": 120
         },
         {
          "Age": 35,
          "BS": 7.8,
          "BodyTemp": 98,
          "DiastolicBP": 70,
          "HeartRate": 60,
          "RiskLevel": "low risk",
          "SystolicBP": 100
         },
         {
          "Age": 42,
          "BS": 9,
          "BodyTemp": 98,
          "DiastolicBP": 90,
          "HeartRate": 70,
          "RiskLevel": "mid risk",
          "SystolicBP": 120
         },
         {
          "Age": 31,
          "BS": 6.1,
          "BodyTemp": 98,
          "DiastolicBP": 60,
          "HeartRate": 76,
          "RiskLevel": "low risk",
          "SystolicBP": 120
         },
         {
          "Age": 17,
          "BS": 7.5,
          "BodyTemp": 101,
          "DiastolicBP": 60,
          "HeartRate": 76,
          "RiskLevel": "low risk",
          "SystolicBP": 90
         },
         {
          "Age": 60,
          "BS": 15,
          "BodyTemp": 98,
          "DiastolicBP": 85,
          "HeartRate": 60,
          "RiskLevel": "mid risk",
          "SystolicBP": 120
         },
         {
          "Age": 15,
          "BS": 7,
          "BodyTemp": 98,
          "DiastolicBP": 80,
          "HeartRate": 70,
          "RiskLevel": "low risk",
          "SystolicBP": 120
         },
         {
          "Age": 30,
          "BS": 7.8,
          "BodyTemp": 98,
          "DiastolicBP": 80,
          "HeartRate": 70,
          "RiskLevel": "low risk",
          "SystolicBP": 120
         },
         {
          "Age": 48,
          "BS": 11,
          "BodyTemp": 98,
          "DiastolicBP": 80,
          "HeartRate": 88,
          "RiskLevel": "high risk",
          "SystolicBP": 120
         },
         {
          "Age": 21,
          "BS": 6.1,
          "BodyTemp": 98,
          "DiastolicBP": 50,
          "HeartRate": 70,
          "RiskLevel": "low risk",
          "SystolicBP": 75
         },
         {
          "Age": 42,
          "BS": 7.5,
          "BodyTemp": 98,
          "DiastolicBP": 80,
          "HeartRate": 70,
          "RiskLevel": "low risk",
          "SystolicBP": 120
         },
         {
          "Age": 20,
          "BS": 7,
          "BodyTemp": 100,
          "DiastolicBP": 60,
          "HeartRate": 70,
          "RiskLevel": "mid risk",
          "SystolicBP": 110
         },
         {
          "Age": 48,
          "BS": 11,
          "BodyTemp": 98,
          "DiastolicBP": 80,
          "HeartRate": 88,
          "RiskLevel": "high risk",
          "SystolicBP": 120
         },
         {
          "Age": 25,
          "BS": 7.2,
          "BodyTemp": 98,
          "DiastolicBP": 100,
          "HeartRate": 80,
          "RiskLevel": "high risk",
          "SystolicBP": 140
         },
         {
          "Age": 15,
          "BS": 6.8,
          "BodyTemp": 98,
          "DiastolicBP": 80,
          "HeartRate": 70,
          "RiskLevel": "low risk",
          "SystolicBP": 120
         },
         {
          "Age": 17,
          "BS": 7.5,
          "BodyTemp": 102,
          "DiastolicBP": 60,
          "HeartRate": 86,
          "RiskLevel": "low risk",
          "SystolicBP": 85
         },
         {
          "Age": 20,
          "BS": 6.8,
          "BodyTemp": 98,
          "DiastolicBP": 75,
          "HeartRate": 70,
          "RiskLevel": "low risk",
          "SystolicBP": 120
         },
         {
          "Age": 18,
          "BS": 7.9,
          "BodyTemp": 102,
          "DiastolicBP": 80,
          "HeartRate": 76,
          "RiskLevel": "mid risk",
          "SystolicBP": 120
         },
         {
          "Age": 23,
          "BS": 7.5,
          "BodyTemp": 98,
          "DiastolicBP": 85,
          "HeartRate": 66,
          "RiskLevel": "mid risk",
          "SystolicBP": 100
         },
         {
          "Age": 10,
          "BS": 6,
          "BodyTemp": 99,
          "DiastolicBP": 50,
          "HeartRate": 70,
          "RiskLevel": "mid risk",
          "SystolicBP": 100
         },
         {
          "Age": 42,
          "BS": 7.7,
          "BodyTemp": 98,
          "DiastolicBP": 80,
          "HeartRate": 70,
          "RiskLevel": "low risk",
          "SystolicBP": 120
         },
         {
          "Age": 15,
          "BS": 6,
          "BodyTemp": 98,
          "DiastolicBP": 60,
          "HeartRate": 80,
          "RiskLevel": "low risk",
          "SystolicBP": 90
         },
         {
          "Age": 21,
          "BS": 6.8,
          "BodyTemp": 98,
          "DiastolicBP": 50,
          "HeartRate": 60,
          "RiskLevel": "low risk",
          "SystolicBP": 100
         },
         {
          "Age": 35,
          "BS": 7.5,
          "BodyTemp": 98,
          "DiastolicBP": 100,
          "HeartRate": 66,
          "RiskLevel": "high risk",
          "SystolicBP": 140
         },
         {
          "Age": 50,
          "BS": 6.7,
          "BodyTemp": 98,
          "DiastolicBP": 80,
          "HeartRate": 70,
          "RiskLevel": "mid risk",
          "SystolicBP": 140
         },
         {
          "Age": 21,
          "BS": 7.5,
          "BodyTemp": 98,
          "DiastolicBP": 50,
          "HeartRate": 60,
          "RiskLevel": "low risk",
          "SystolicBP": 75
         },
         {
          "Age": 17,
          "BS": 7.9,
          "BodyTemp": 101,
          "DiastolicBP": 60,
          "HeartRate": 76,
          "RiskLevel": "low risk",
          "SystolicBP": 90
         },
         {
          "Age": 40,
          "BS": 18,
          "BodyTemp": 98,
          "DiastolicBP": 100,
          "HeartRate": 90,
          "RiskLevel": "high risk",
          "SystolicBP": 140
         },
         {
          "Age": 40,
          "BS": 12,
          "BodyTemp": 98,
          "DiastolicBP": 90,
          "HeartRate": 80,
          "RiskLevel": "high risk",
          "SystolicBP": 120
         },
         {
          "Age": 60,
          "BS": 15,
          "BodyTemp": 98,
          "DiastolicBP": 85,
          "HeartRate": 60,
          "RiskLevel": "mid risk",
          "SystolicBP": 120
         },
         {
          "Age": 60,
          "BS": 15,
          "BodyTemp": 98,
          "DiastolicBP": 85,
          "HeartRate": 60,
          "RiskLevel": "high risk",
          "SystolicBP": 120
         },
         {
          "Age": 20,
          "BS": 7.5,
          "BodyTemp": 98,
          "DiastolicBP": 75,
          "HeartRate": 70,
          "RiskLevel": "low risk",
          "SystolicBP": 120
         },
         {
          "Age": 49,
          "BS": 7.5,
          "BodyTemp": 98,
          "DiastolicBP": 90,
          "HeartRate": 77,
          "RiskLevel": "mid risk",
          "SystolicBP": 120
         },
         {
          "Age": 35,
          "BS": 6.9,
          "BodyTemp": 98,
          "DiastolicBP": 80,
          "HeartRate": 80,
          "RiskLevel": "low risk",
          "SystolicBP": 120
         },
         {
          "Age": 15,
          "BS": 7.8,
          "BodyTemp": 98,
          "DiastolicBP": 80,
          "HeartRate": 70,
          "RiskLevel": "low risk",
          "SystolicBP": 120
         },
         {
          "Age": 54,
          "BS": 15,
          "BodyTemp": 98,
          "DiastolicBP": 100,
          "HeartRate": 66,
          "RiskLevel": "high risk",
          "SystolicBP": 140
         },
         {
          "Age": 35,
          "BS": 7,
          "BodyTemp": 98,
          "DiastolicBP": 70,
          "HeartRate": 60,
          "RiskLevel": "low risk",
          "SystolicBP": 100
         },
         {
          "Age": 19,
          "BS": 7,
          "BodyTemp": 98,
          "DiastolicBP": 80,
          "HeartRate": 70,
          "RiskLevel": "low risk",
          "SystolicBP": 120
         },
         {
          "Age": 23,
          "BS": 6.9,
          "BodyTemp": 98,
          "DiastolicBP": 85,
          "HeartRate": 66,
          "RiskLevel": "mid risk",
          "SystolicBP": 100
         },
         {
          "Age": 60,
          "BS": 6.8,
          "BodyTemp": 98,
          "DiastolicBP": 65,
          "HeartRate": 77,
          "RiskLevel": "mid risk",
          "SystolicBP": 90
         },
         {
          "Age": 17,
          "BS": 6.1,
          "BodyTemp": 103,
          "DiastolicBP": 65,
          "HeartRate": 67,
          "RiskLevel": "high risk",
          "SystolicBP": 90
         },
         {
          "Age": 19,
          "BS": 9,
          "BodyTemp": 98,
          "DiastolicBP": 85,
          "HeartRate": 60,
          "RiskLevel": "mid risk",
          "SystolicBP": 120
         },
         {
          "Age": 30,
          "BS": 7,
          "BodyTemp": 98,
          "DiastolicBP": 85,
          "HeartRate": 70,
          "RiskLevel": "high risk",
          "SystolicBP": 140
         },
         {
          "Age": 25,
          "BS": 7.2,
          "BodyTemp": 98,
          "DiastolicBP": 100,
          "HeartRate": 80,
          "RiskLevel": "high risk",
          "SystolicBP": 140
         },
         {
          "Age": 17,
          "BS": 7.9,
          "BodyTemp": 101,
          "DiastolicBP": 60,
          "HeartRate": 76,
          "RiskLevel": "low risk",
          "SystolicBP": 90
         },
         {
          "Age": 27,
          "BS": 6.8,
          "BodyTemp": 98,
          "DiastolicBP": 70,
          "HeartRate": 77,
          "RiskLevel": "low risk",
          "SystolicBP": 120
         },
         {
          "Age": 31,
          "BS": 6.1,
          "BodyTemp": 98,
          "DiastolicBP": 60,
          "HeartRate": 76,
          "RiskLevel": "mid risk",
          "SystolicBP": 120
         },
         {
          "Age": 22,
          "BS": 7.2,
          "BodyTemp": 98,
          "DiastolicBP": 65,
          "HeartRate": 70,
          "RiskLevel": "low risk",
          "SystolicBP": 100
         },
         {
          "Age": 42,
          "BS": 6.4,
          "BodyTemp": 98,
          "DiastolicBP": 80,
          "HeartRate": 70,
          "RiskLevel": "low risk",
          "SystolicBP": 120
         },
         {
          "Age": 29,
          "BS": 6.7,
          "BodyTemp": 98,
          "DiastolicBP": 70,
          "HeartRate": 80,
          "RiskLevel": "mid risk",
          "SystolicBP": 90
         },
         {
          "Age": 17,
          "BS": 13,
          "BodyTemp": 101,
          "DiastolicBP": 75,
          "HeartRate": 76,
          "RiskLevel": "high risk",
          "SystolicBP": 110
         },
         {
          "Age": 13,
          "BS": 7.9,
          "BodyTemp": 101,
          "DiastolicBP": 65,
          "HeartRate": 80,
          "RiskLevel": "mid risk",
          "SystolicBP": 90
         },
         {
          "Age": 15,
          "BS": 6,
          "BodyTemp": 99,
          "DiastolicBP": 49,
          "HeartRate": 77,
          "RiskLevel": "low risk",
          "SystolicBP": 100
         },
         {
          "Age": 32,
          "BS": 7.8,
          "BodyTemp": 98,
          "DiastolicBP": 90,
          "HeartRate": 70,
          "RiskLevel": "low risk",
          "SystolicBP": 120
         },
         {
          "Age": 26,
          "BS": 6,
          "BodyTemp": 101,
          "DiastolicBP": 60,
          "HeartRate": 86,
          "RiskLevel": "mid risk",
          "SystolicBP": 85
         },
         {
          "Age": 23,
          "BS": 6.8,
          "BodyTemp": 98,
          "DiastolicBP": 70,
          "HeartRate": 78,
          "RiskLevel": "mid risk",
          "SystolicBP": 130
         },
         {
          "Age": 25,
          "BS": 7.5,
          "BodyTemp": 98,
          "DiastolicBP": 100,
          "HeartRate": 80,
          "RiskLevel": "high risk",
          "SystolicBP": 140
         },
         {
          "Age": 37,
          "BS": 11,
          "BodyTemp": 98,
          "DiastolicBP": 90,
          "HeartRate": 88,
          "RiskLevel": "high risk",
          "SystolicBP": 120
         },
         {
          "Age": 15,
          "BS": 7,
          "BodyTemp": 98,
          "DiastolicBP": 68,
          "HeartRate": 77,
          "RiskLevel": "low risk",
          "SystolicBP": 76
         },
         {
          "Age": 13,
          "BS": 7.5,
          "BodyTemp": 101,
          "DiastolicBP": 65,
          "HeartRate": 80,
          "RiskLevel": "low risk",
          "SystolicBP": 90
         },
         {
          "Age": 23,
          "BS": 6.7,
          "BodyTemp": 98,
          "DiastolicBP": 90,
          "HeartRate": 70,
          "RiskLevel": "low risk",
          "SystolicBP": 120
         },
         {
          "Age": 20,
          "BS": 7,
          "BodyTemp": 100,
          "DiastolicBP": 60,
          "HeartRate": 70,
          "RiskLevel": "mid risk",
          "SystolicBP": 110
         },
         {
          "Age": 27,
          "BS": 6.8,
          "BodyTemp": 102,
          "DiastolicBP": 90,
          "HeartRate": 68,
          "RiskLevel": "mid risk",
          "SystolicBP": 120
         },
         {
          "Age": 26,
          "BS": 6,
          "BodyTemp": 101,
          "DiastolicBP": 60,
          "HeartRate": 86,
          "RiskLevel": "mid risk",
          "SystolicBP": 85
         },
         {
          "Age": 17,
          "BS": 7.5,
          "BodyTemp": 102,
          "DiastolicBP": 60,
          "HeartRate": 86,
          "RiskLevel": "low risk",
          "SystolicBP": 85
         },
         {
          "Age": 18,
          "BS": 6.9,
          "BodyTemp": 102,
          "DiastolicBP": 80,
          "HeartRate": 76,
          "RiskLevel": "mid risk",
          "SystolicBP": 120
         },
         {
          "Age": 21,
          "BS": 7.8,
          "BodyTemp": 98,
          "DiastolicBP": 80,
          "HeartRate": 77,
          "RiskLevel": "low risk",
          "SystolicBP": 120
         },
         {
          "Age": 15,
          "BS": 7.5,
          "BodyTemp": 98,
          "DiastolicBP": 60,
          "HeartRate": 80,
          "RiskLevel": "low risk",
          "SystolicBP": 80
         },
         {
          "Age": 22,
          "BS": 6.8,
          "BodyTemp": 98,
          "DiastolicBP": 60,
          "HeartRate": 77,
          "RiskLevel": "mid risk",
          "SystolicBP": 90
         },
         {
          "Age": 29,
          "BS": 6.8,
          "BodyTemp": 98,
          "DiastolicBP": 70,
          "HeartRate": 80,
          "RiskLevel": "low risk",
          "SystolicBP": 100
         },
         {
          "Age": 30,
          "BS": 8,
          "BodyTemp": 98,
          "DiastolicBP": 65,
          "HeartRate": 77,
          "RiskLevel": "mid risk",
          "SystolicBP": 90
         },
         {
          "Age": 28,
          "BS": 7.5,
          "BodyTemp": 101,
          "DiastolicBP": 60,
          "HeartRate": 86,
          "RiskLevel": "mid risk",
          "SystolicBP": 115
         },
         {
          "Age": 17,
          "BS": 9,
          "BodyTemp": 102,
          "DiastolicBP": 60,
          "HeartRate": 86,
          "RiskLevel": "mid risk",
          "SystolicBP": 90
         },
         {
          "Age": 55,
          "BS": 7.5,
          "BodyTemp": 98,
          "DiastolicBP": 65,
          "HeartRate": 66,
          "RiskLevel": "low risk",
          "SystolicBP": 100
         },
         {
          "Age": 22,
          "BS": 6.9,
          "BodyTemp": 98,
          "DiastolicBP": 60,
          "HeartRate": 76,
          "RiskLevel": "mid risk",
          "SystolicBP": 85
         },
         {
          "Age": 48,
          "BS": 11,
          "BodyTemp": 98,
          "DiastolicBP": 80,
          "HeartRate": 88,
          "RiskLevel": "mid risk",
          "SystolicBP": 120
         },
         {
          "Age": 23,
          "BS": 6.8,
          "BodyTemp": 98,
          "DiastolicBP": 90,
          "HeartRate": 70,
          "RiskLevel": "high risk",
          "SystolicBP": 140
         },
         {
          "Age": 29,
          "BS": 9,
          "BodyTemp": 98,
          "DiastolicBP": 70,
          "HeartRate": 80,
          "RiskLevel": "high risk",
          "SystolicBP": 120
         },
         {
          "Age": 19,
          "BS": 7.8,
          "BodyTemp": 98,
          "DiastolicBP": 85,
          "HeartRate": 60,
          "RiskLevel": "mid risk",
          "SystolicBP": 120
         },
         {
          "Age": 17,
          "BS": 7.5,
          "BodyTemp": 103,
          "DiastolicBP": 65,
          "HeartRate": 67,
          "RiskLevel": "low risk",
          "SystolicBP": 90
         },
         {
          "Age": 17,
          "BS": 13,
          "BodyTemp": 101,
          "DiastolicBP": 75,
          "HeartRate": 76,
          "RiskLevel": "high risk",
          "SystolicBP": 110
         },
         {
          "Age": 19,
          "BS": 11,
          "BodyTemp": 101,
          "DiastolicBP": 65,
          "HeartRate": 70,
          "RiskLevel": "high risk",
          "SystolicBP": 90
         },
         {
          "Age": 40,
          "BS": 18,
          "BodyTemp": 98,
          "DiastolicBP": 100,
          "HeartRate": 90,
          "RiskLevel": "high risk",
          "SystolicBP": 140
         },
         {
          "Age": 23,
          "BS": 7.01,
          "BodyTemp": 98,
          "DiastolicBP": 70,
          "HeartRate": 78,
          "RiskLevel": "mid risk",
          "SystolicBP": 130
         },
         {
          "Age": 21,
          "BS": 6.5,
          "BodyTemp": 98,
          "DiastolicBP": 50,
          "HeartRate": 60,
          "RiskLevel": "low risk",
          "SystolicBP": 90
         },
         {
          "Age": 19,
          "BS": 7.8,
          "BodyTemp": 98,
          "DiastolicBP": 85,
          "HeartRate": 60,
          "RiskLevel": "mid risk",
          "SystolicBP": 120
         },
         {
          "Age": 60,
          "BS": 7.5,
          "BodyTemp": 98,
          "DiastolicBP": 80,
          "HeartRate": 75,
          "RiskLevel": "mid risk",
          "SystolicBP": 120
         },
         {
          "Age": 54,
          "BS": 15,
          "BodyTemp": 98,
          "DiastolicBP": 100,
          "HeartRate": 66,
          "RiskLevel": "high risk",
          "SystolicBP": 140
         },
         {
          "Age": 60,
          "BS": 7.5,
          "BodyTemp": 98,
          "DiastolicBP": 80,
          "HeartRate": 75,
          "RiskLevel": "low risk",
          "SystolicBP": 120
         },
         {
          "Age": 15,
          "BS": 6,
          "BodyTemp": 98,
          "DiastolicBP": 60,
          "HeartRate": 80,
          "RiskLevel": "low risk",
          "SystolicBP": 100
         },
         {
          "Age": 15,
          "BS": 7,
          "BodyTemp": 98,
          "DiastolicBP": 60,
          "HeartRate": 80,
          "RiskLevel": "low risk",
          "SystolicBP": 80
         },
         {
          "Age": 42,
          "BS": 7.5,
          "BodyTemp": 98,
          "DiastolicBP": 60,
          "HeartRate": 76,
          "RiskLevel": "low risk",
          "SystolicBP": 90
         },
         {
          "Age": 23,
          "BS": 6.8,
          "BodyTemp": 98,
          "DiastolicBP": 60,
          "HeartRate": 76,
          "RiskLevel": "low risk",
          "SystolicBP": 99
         },
         {
          "Age": 12,
          "BS": 7.2,
          "BodyTemp": 98,
          "DiastolicBP": 60,
          "HeartRate": 77,
          "RiskLevel": "low risk",
          "SystolicBP": 95
         },
         {
          "Age": 55,
          "BS": 6.1,
          "BodyTemp": 98,
          "DiastolicBP": 65,
          "HeartRate": 66,
          "RiskLevel": "low risk",
          "SystolicBP": 100
         },
         {
          "Age": 50,
          "BS": 7,
          "BodyTemp": 98,
          "DiastolicBP": 80,
          "HeartRate": 70,
          "RiskLevel": "mid risk",
          "SystolicBP": 120
         },
         {
          "Age": 32,
          "BS": 7,
          "BodyTemp": 100,
          "DiastolicBP": 90,
          "HeartRate": 70,
          "RiskLevel": "mid risk",
          "SystolicBP": 120
         },
         {
          "Age": 46,
          "BS": 12,
          "BodyTemp": 99,
          "DiastolicBP": 100,
          "HeartRate": 90,
          "RiskLevel": "high risk",
          "SystolicBP": 140
         },
         {
          "Age": 15,
          "BS": 7.5,
          "BodyTemp": 98,
          "DiastolicBP": 49,
          "HeartRate": 77,
          "RiskLevel": "low risk",
          "SystolicBP": 76
         },
         {
          "Age": 17,
          "BS": 6.7,
          "BodyTemp": 102,
          "DiastolicBP": 80,
          "HeartRate": 76,
          "RiskLevel": "mid risk",
          "SystolicBP": 120
         },
         {
          "Age": 19,
          "BS": 7.2,
          "BodyTemp": 98,
          "DiastolicBP": 75,
          "HeartRate": 66,
          "RiskLevel": "low risk",
          "SystolicBP": 120
         },
         {
          "Age": 23,
          "BS": 7.5,
          "BodyTemp": 98,
          "DiastolicBP": 90,
          "HeartRate": 70,
          "RiskLevel": "low risk",
          "SystolicBP": 120
         },
         {
          "Age": 13,
          "BS": 7.9,
          "BodyTemp": 101,
          "DiastolicBP": 65,
          "HeartRate": 80,
          "RiskLevel": "mid risk",
          "SystolicBP": 90
         },
         {
          "Age": 17,
          "BS": 7.9,
          "BodyTemp": 102,
          "DiastolicBP": 60,
          "HeartRate": 86,
          "RiskLevel": "low risk",
          "SystolicBP": 85
         },
         {
          "Age": 40,
          "BS": 11,
          "BodyTemp": 98,
          "DiastolicBP": 95,
          "HeartRate": 80,
          "RiskLevel": "mid risk",
          "SystolicBP": 120
         },
         {
          "Age": 23,
          "BS": 7.5,
          "BodyTemp": 98,
          "DiastolicBP": 90,
          "HeartRate": 60,
          "RiskLevel": "low risk",
          "SystolicBP": 120
         },
         {
          "Age": 22,
          "BS": 7.8,
          "BodyTemp": 98,
          "DiastolicBP": 65,
          "HeartRate": 80,
          "RiskLevel": "low risk",
          "SystolicBP": 100
         },
         {
          "Age": 15,
          "BS": 7.9,
          "BodyTemp": 98,
          "DiastolicBP": 49,
          "HeartRate": 77,
          "RiskLevel": "low risk",
          "SystolicBP": 76
         },
         {
          "Age": 40,
          "BS": 15,
          "BodyTemp": 98,
          "DiastolicBP": 85,
          "HeartRate": 60,
          "RiskLevel": "high risk",
          "SystolicBP": 120
         },
         {
          "Age": 25,
          "BS": 7.01,
          "BodyTemp": 98,
          "DiastolicBP": 89,
          "HeartRate": 77,
          "RiskLevel": "low risk",
          "SystolicBP": 110
         },
         {
          "Age": 12,
          "BS": 7.5,
          "BodyTemp": 102,
          "DiastolicBP": 60,
          "HeartRate": 60,
          "RiskLevel": "low risk",
          "SystolicBP": 90
         },
         {
          "Age": 19,
          "BS": 7,
          "BodyTemp": 98,
          "DiastolicBP": 80,
          "HeartRate": 70,
          "RiskLevel": "mid risk",
          "SystolicBP": 120
         },
         {
          "Age": 35,
          "BS": 6.1,
          "BodyTemp": 98,
          "DiastolicBP": 60,
          "HeartRate": 76,
          "RiskLevel": "mid risk",
          "SystolicBP": 120
         },
         {
          "Age": 23,
          "BS": 7.7,
          "BodyTemp": 98,
          "DiastolicBP": 90,
          "HeartRate": 60,
          "RiskLevel": "low risk",
          "SystolicBP": 120
         },
         {
          "Age": 17,
          "BS": 6.7,
          "BodyTemp": 102,
          "DiastolicBP": 80,
          "HeartRate": 76,
          "RiskLevel": "mid risk",
          "SystolicBP": 120
         },
         {
          "Age": 17,
          "BS": 9,
          "BodyTemp": 102,
          "DiastolicBP": 60,
          "HeartRate": 86,
          "RiskLevel": "mid risk",
          "SystolicBP": 85
         },
         {
          "Age": 35,
          "BS": 7.5,
          "BodyTemp": 98,
          "DiastolicBP": 100,
          "HeartRate": 66,
          "RiskLevel": "high risk",
          "SystolicBP": 140
         },
         {
          "Age": 50,
          "BS": 16,
          "BodyTemp": 102,
          "DiastolicBP": 80,
          "HeartRate": 76,
          "RiskLevel": "mid risk",
          "SystolicBP": 130
         },
         {
          "Age": 60,
          "BS": 6.8,
          "BodyTemp": 98,
          "DiastolicBP": 65,
          "HeartRate": 77,
          "RiskLevel": "mid risk",
          "SystolicBP": 90
         },
         {
          "Age": 12,
          "BS": 11,
          "BodyTemp": 102,
          "DiastolicBP": 60,
          "HeartRate": 60,
          "RiskLevel": "high risk",
          "SystolicBP": 90
         },
         {
          "Age": 19,
          "BS": 7.9,
          "BodyTemp": 98,
          "DiastolicBP": 75,
          "HeartRate": 70,
          "RiskLevel": "low risk",
          "SystolicBP": 120
         },
         {
          "Age": 17,
          "BS": 6.9,
          "BodyTemp": 101,
          "DiastolicBP": 63,
          "HeartRate": 70,
          "RiskLevel": "mid risk",
          "SystolicBP": 90
         },
         {
          "Age": 19,
          "BS": 7,
          "BodyTemp": 98,
          "DiastolicBP": 80,
          "HeartRate": 70,
          "RiskLevel": "mid risk",
          "SystolicBP": 120
         },
         {
          "Age": 16,
          "BS": 7.2,
          "BodyTemp": 98,
          "DiastolicBP": 70,
          "HeartRate": 80,
          "RiskLevel": "low risk",
          "SystolicBP": 100
         },
         {
          "Age": 20,
          "BS": 7.5,
          "BodyTemp": 98,
          "DiastolicBP": 90,
          "HeartRate": 88,
          "RiskLevel": "mid risk",
          "SystolicBP": 100
         },
         {
          "Age": 33,
          "BS": 7,
          "BodyTemp": 98,
          "DiastolicBP": 65,
          "HeartRate": 70,
          "RiskLevel": "mid risk",
          "SystolicBP": 115
         },
         {
          "Age": 19,
          "BS": 6.9,
          "BodyTemp": 98,
          "DiastolicBP": 75,
          "HeartRate": 66,
          "RiskLevel": "mid risk",
          "SystolicBP": 120
         },
         {
          "Age": 54,
          "BS": 15,
          "BodyTemp": 98,
          "DiastolicBP": 100,
          "HeartRate": 66,
          "RiskLevel": "high risk",
          "SystolicBP": 140
         },
         {
          "Age": 35,
          "BS": 13,
          "BodyTemp": 98,
          "DiastolicBP": 90,
          "HeartRate": 70,
          "RiskLevel": "high risk",
          "SystolicBP": 140
         },
         {
          "Age": 29,
          "BS": 7.7,
          "BodyTemp": 98,
          "DiastolicBP": 70,
          "HeartRate": 78,
          "RiskLevel": "mid risk",
          "SystolicBP": 130
         },
         {
          "Age": 10,
          "BS": 6.9,
          "BodyTemp": 98,
          "DiastolicBP": 50,
          "HeartRate": 70,
          "RiskLevel": "low risk",
          "SystolicBP": 70
         },
         {
          "Age": 28,
          "BS": 7.2,
          "BodyTemp": 98,
          "DiastolicBP": 60,
          "HeartRate": 82,
          "RiskLevel": "low risk",
          "SystolicBP": 90
         },
         {
          "Age": 55,
          "BS": 12,
          "BodyTemp": 98,
          "DiastolicBP": 90,
          "HeartRate": 70,
          "RiskLevel": "mid risk",
          "SystolicBP": 120
         },
         {
          "Age": 15,
          "BS": 7.9,
          "BodyTemp": 98,
          "DiastolicBP": 80,
          "HeartRate": 70,
          "RiskLevel": "low risk",
          "SystolicBP": 120
         },
         {
          "Age": 30,
          "BS": 15,
          "BodyTemp": 98,
          "DiastolicBP": 100,
          "HeartRate": 70,
          "RiskLevel": "high risk",
          "SystolicBP": 140
         },
         {
          "Age": 40,
          "BS": 19,
          "BodyTemp": 98,
          "DiastolicBP": 100,
          "HeartRate": 77,
          "RiskLevel": "high risk",
          "SystolicBP": 160
         },
         {
          "Age": 33,
          "BS": 7,
          "BodyTemp": 98,
          "DiastolicBP": 65,
          "HeartRate": 70,
          "RiskLevel": "mid risk",
          "SystolicBP": 115
         },
         {
          "Age": 28,
          "BS": 6.9,
          "BodyTemp": 98,
          "DiastolicBP": 90,
          "HeartRate": 70,
          "RiskLevel": "mid risk",
          "SystolicBP": 120
         },
         {
          "Age": 42,
          "BS": 7.9,
          "BodyTemp": 98,
          "DiastolicBP": 80,
          "HeartRate": 70,
          "RiskLevel": "low risk",
          "SystolicBP": 120
         },
         {
          "Age": 35,
          "BS": 6.9,
          "BodyTemp": 98,
          "DiastolicBP": 60,
          "HeartRate": 70,
          "RiskLevel": "low risk",
          "SystolicBP": 120
         },
         {
          "Age": 19,
          "BS": 7,
          "BodyTemp": 98,
          "DiastolicBP": 85,
          "HeartRate": 60,
          "RiskLevel": "low risk",
          "SystolicBP": 120
         },
         {
          "Age": 32,
          "BS": 6,
          "BodyTemp": 101,
          "DiastolicBP": 65,
          "HeartRate": 76,
          "RiskLevel": "mid risk",
          "SystolicBP": 120
         },
         {
          "Age": 23,
          "BS": 7.1,
          "BodyTemp": 98,
          "DiastolicBP": 85,
          "HeartRate": 66,
          "RiskLevel": "low risk",
          "SystolicBP": 100
         },
         {
          "Age": 35,
          "BS": 13,
          "BodyTemp": 98,
          "DiastolicBP": 80,
          "HeartRate": 70,
          "RiskLevel": "high risk",
          "SystolicBP": 140
         },
         {
          "Age": 39,
          "BS": 9,
          "BodyTemp": 98,
          "DiastolicBP": 70,
          "HeartRate": 80,
          "RiskLevel": "high risk",
          "SystolicBP": 90
         },
         {
          "Age": 29,
          "BS": 7.5,
          "BodyTemp": 98,
          "DiastolicBP": 70,
          "HeartRate": 78,
          "RiskLevel": "mid risk",
          "SystolicBP": 130
         },
         {
          "Age": 31,
          "BS": 6.1,
          "BodyTemp": 98,
          "DiastolicBP": 60,
          "HeartRate": 76,
          "RiskLevel": "mid risk",
          "SystolicBP": 120
         },
         {
          "Age": 16,
          "BS": 7.5,
          "BodyTemp": 98,
          "DiastolicBP": 70,
          "HeartRate": 80,
          "RiskLevel": "low risk",
          "SystolicBP": 100
         },
         {
          "Age": 42,
          "BS": 7.9,
          "BodyTemp": 98,
          "DiastolicBP": 80,
          "HeartRate": 70,
          "RiskLevel": "low risk",
          "SystolicBP": 120
         },
         {
          "Age": 15,
          "BS": 6.8,
          "BodyTemp": 98,
          "DiastolicBP": 80,
          "HeartRate": 70,
          "RiskLevel": "low risk",
          "SystolicBP": 120
         },
         {
          "Age": 25,
          "BS": 7.01,
          "BodyTemp": 98,
          "DiastolicBP": 100,
          "HeartRate": 80,
          "RiskLevel": "high risk",
          "SystolicBP": 140
         },
         {
          "Age": 13,
          "BS": 7.9,
          "BodyTemp": 101,
          "DiastolicBP": 65,
          "HeartRate": 80,
          "RiskLevel": "mid risk",
          "SystolicBP": 90
         },
         {
          "Age": 22,
          "BS": 6.8,
          "BodyTemp": 98,
          "DiastolicBP": 60,
          "HeartRate": 77,
          "RiskLevel": "low risk",
          "SystolicBP": 90
         },
         {
          "Age": 40,
          "BS": 19,
          "BodyTemp": 98,
          "DiastolicBP": 100,
          "HeartRate": 77,
          "RiskLevel": "high risk",
          "SystolicBP": 160
         },
         {
          "Age": 37,
          "BS": 11,
          "BodyTemp": 98,
          "DiastolicBP": 90,
          "HeartRate": 88,
          "RiskLevel": "high risk",
          "SystolicBP": 120
         },
         {
          "Age": 18,
          "BS": 7.5,
          "BodyTemp": 101,
          "DiastolicBP": 60,
          "HeartRate": 86,
          "RiskLevel": "mid risk",
          "SystolicBP": 85
         },
         {
          "Age": 31,
          "BS": 6.1,
          "BodyTemp": 98,
          "DiastolicBP": 60,
          "HeartRate": 76,
          "RiskLevel": "mid risk",
          "SystolicBP": 120
         },
         {
          "Age": 48,
          "BS": 11,
          "BodyTemp": 98,
          "DiastolicBP": 80,
          "HeartRate": 88,
          "RiskLevel": "high risk",
          "SystolicBP": 120
         },
         {
          "Age": 32,
          "BS": 7.9,
          "BodyTemp": 98,
          "DiastolicBP": 90,
          "HeartRate": 70,
          "RiskLevel": "low risk",
          "SystolicBP": 120
         },
         {
          "Age": 19,
          "BS": 7,
          "BodyTemp": 98.4,
          "DiastolicBP": 60,
          "HeartRate": 70,
          "RiskLevel": "low risk",
          "SystolicBP": 120
         },
         {
          "Age": 20,
          "BS": 6.8,
          "BodyTemp": 98,
          "DiastolicBP": 75,
          "HeartRate": 70,
          "RiskLevel": "low risk",
          "SystolicBP": 120
         },
         {
          "Age": 25,
          "BS": 6.7,
          "BodyTemp": 101,
          "DiastolicBP": 90,
          "HeartRate": 80,
          "RiskLevel": "mid risk",
          "SystolicBP": 120
         },
         {
          "Age": 54,
          "BS": 15,
          "BodyTemp": 98,
          "DiastolicBP": 100,
          "HeartRate": 66,
          "RiskLevel": "high risk",
          "SystolicBP": 140
         },
         {
          "Age": 17,
          "BS": 12,
          "BodyTemp": 101,
          "DiastolicBP": 75,
          "HeartRate": 76,
          "RiskLevel": "high risk",
          "SystolicBP": 110
         },
         {
          "Age": 17,
          "BS": 8,
          "BodyTemp": 101,
          "DiastolicBP": 63,
          "HeartRate": 70,
          "RiskLevel": "high risk",
          "SystolicBP": 90
         },
         {
          "Age": 21,
          "BS": 7.5,
          "BodyTemp": 98,
          "DiastolicBP": 80,
          "HeartRate": 77,
          "RiskLevel": "mid risk",
          "SystolicBP": 120
         },
         {
          "Age": 24,
          "BS": 7.5,
          "BodyTemp": 98,
          "DiastolicBP": 80,
          "HeartRate": 66,
          "RiskLevel": "low risk",
          "SystolicBP": 120
         },
         {
          "Age": 16,
          "BS": 7.5,
          "BodyTemp": 100,
          "DiastolicBP": 50,
          "HeartRate": 70,
          "RiskLevel": "low risk",
          "SystolicBP": 70
         },
         {
          "Age": 19,
          "BS": 7.9,
          "BodyTemp": 98,
          "DiastolicBP": 75,
          "HeartRate": 70,
          "RiskLevel": "low risk",
          "SystolicBP": 120
         },
         {
          "Age": 21,
          "BS": 6.9,
          "BodyTemp": 98,
          "DiastolicBP": 85,
          "HeartRate": 70,
          "RiskLevel": "low risk",
          "SystolicBP": 100
         },
         {
          "Age": 42,
          "BS": 7.5,
          "BodyTemp": 98,
          "DiastolicBP": 80,
          "HeartRate": 70,
          "RiskLevel": "low risk",
          "SystolicBP": 120
         },
         {
          "Age": 42,
          "BS": 18,
          "BodyTemp": 98,
          "DiastolicBP": 100,
          "HeartRate": 90,
          "RiskLevel": "high risk",
          "SystolicBP": 140
         },
         {
          "Age": 28,
          "BS": 7.8,
          "BodyTemp": 101,
          "DiastolicBP": 60,
          "HeartRate": 86,
          "RiskLevel": "mid risk",
          "SystolicBP": 115
         },
         {
          "Age": 45,
          "BS": 6.9,
          "BodyTemp": 103,
          "DiastolicBP": 80,
          "HeartRate": 70,
          "RiskLevel": "low risk",
          "SystolicBP": 120
         },
         {
          "Age": 17,
          "BS": 7,
          "BodyTemp": 102,
          "DiastolicBP": 80,
          "HeartRate": 76,
          "RiskLevel": "high risk",
          "SystolicBP": 120
         },
         {
          "Age": 50,
          "BS": 16,
          "BodyTemp": 98,
          "DiastolicBP": 100,
          "HeartRate": 75,
          "RiskLevel": "mid risk",
          "SystolicBP": 130
         },
         {
          "Age": 23,
          "BS": 6.1,
          "BodyTemp": 98,
          "DiastolicBP": 90,
          "HeartRate": 70,
          "RiskLevel": "low risk",
          "SystolicBP": 120
         },
         {
          "Age": 60,
          "BS": 7.5,
          "BodyTemp": 98,
          "DiastolicBP": 80,
          "HeartRate": 75,
          "RiskLevel": "mid risk",
          "SystolicBP": 120
         },
         {
          "Age": 55,
          "BS": 6.8,
          "BodyTemp": 98,
          "DiastolicBP": 90,
          "HeartRate": 66,
          "RiskLevel": "mid risk",
          "SystolicBP": 120
         },
         {
          "Age": 31,
          "BS": 6.1,
          "BodyTemp": 98,
          "DiastolicBP": 60,
          "HeartRate": 76,
          "RiskLevel": "mid risk",
          "SystolicBP": 120
         },
         {
          "Age": 55,
          "BS": 18,
          "BodyTemp": 98,
          "DiastolicBP": 100,
          "HeartRate": 90,
          "RiskLevel": "high risk",
          "SystolicBP": 140
         },
         {
          "Age": 25,
          "BS": 6.9,
          "BodyTemp": 98,
          "DiastolicBP": 90,
          "HeartRate": 70,
          "RiskLevel": "low risk",
          "SystolicBP": 120
         },
         {
          "Age": 32,
          "BS": 7.9,
          "BodyTemp": 98,
          "DiastolicBP": 90,
          "HeartRate": 70,
          "RiskLevel": "low risk",
          "SystolicBP": 120
         },
         {
          "Age": 22,
          "BS": 7.2,
          "BodyTemp": 98,
          "DiastolicBP": 65,
          "HeartRate": 70,
          "RiskLevel": "low risk",
          "SystolicBP": 100
         },
         {
          "Age": 55,
          "BS": 19,
          "BodyTemp": 98,
          "DiastolicBP": 95,
          "HeartRate": 77,
          "RiskLevel": "high risk",
          "SystolicBP": 140
         },
         {
          "Age": 36,
          "BS": 6.8,
          "BodyTemp": 102,
          "DiastolicBP": 100,
          "HeartRate": 76,
          "RiskLevel": "high risk",
          "SystolicBP": 140
         },
         {
          "Age": 29,
          "BS": 6.7,
          "BodyTemp": 98,
          "DiastolicBP": 70,
          "HeartRate": 78,
          "RiskLevel": "mid risk",
          "SystolicBP": 130
         },
         {
          "Age": 35,
          "BS": 11,
          "BodyTemp": 102,
          "DiastolicBP": 60,
          "HeartRate": 86,
          "RiskLevel": "high risk",
          "SystolicBP": 85
         },
         {
          "Age": 19,
          "BS": 7,
          "BodyTemp": 98,
          "DiastolicBP": 80,
          "HeartRate": 70,
          "RiskLevel": "mid risk",
          "SystolicBP": 120
         },
         {
          "Age": 32,
          "BS": 6.8,
          "BodyTemp": 98,
          "DiastolicBP": 80,
          "HeartRate": 70,
          "RiskLevel": "mid risk",
          "SystolicBP": 120
         },
         {
          "Age": 30,
          "BS": 15,
          "BodyTemp": 98,
          "DiastolicBP": 100,
          "HeartRate": 70,
          "RiskLevel": "high risk",
          "SystolicBP": 140
         },
         {
          "Age": 18,
          "BS": 6.9,
          "BodyTemp": 102,
          "DiastolicBP": 80,
          "HeartRate": 76,
          "RiskLevel": "mid risk",
          "SystolicBP": 120
         },
         {
          "Age": 48,
          "BS": 11,
          "BodyTemp": 98,
          "DiastolicBP": 80,
          "HeartRate": 88,
          "RiskLevel": "high risk",
          "SystolicBP": 120
         },
         {
          "Age": 15,
          "BS": 7.5,
          "BodyTemp": 98,
          "DiastolicBP": 80,
          "HeartRate": 70,
          "RiskLevel": "low risk",
          "SystolicBP": 120
         },
         {
          "Age": 25,
          "BS": 6.9,
          "BodyTemp": 98,
          "DiastolicBP": 90,
          "HeartRate": 76,
          "RiskLevel": "high risk",
          "SystolicBP": 100
         },
         {
          "Age": 12,
          "BS": 6.8,
          "BodyTemp": 98,
          "DiastolicBP": 95,
          "HeartRate": 60,
          "RiskLevel": "mid risk",
          "SystolicBP": 120
         },
         {
          "Age": 40,
          "BS": 15,
          "BodyTemp": 98,
          "DiastolicBP": 85,
          "HeartRate": 60,
          "RiskLevel": "high risk",
          "SystolicBP": 120
         },
         {
          "Age": 22,
          "BS": 6.9,
          "BodyTemp": 98,
          "DiastolicBP": 60,
          "HeartRate": 76,
          "RiskLevel": "mid risk",
          "SystolicBP": 85
         },
         {
          "Age": 35,
          "BS": 6.1,
          "BodyTemp": 98,
          "DiastolicBP": 60,
          "HeartRate": 76,
          "RiskLevel": "low risk",
          "SystolicBP": 120
         },
         {
          "Age": 30,
          "BS": 6.9,
          "BodyTemp": 101,
          "DiastolicBP": 80,
          "HeartRate": 76,
          "RiskLevel": "mid risk",
          "SystolicBP": 120
         },
         {
          "Age": 19,
          "BS": 7,
          "BodyTemp": 98,
          "DiastolicBP": 80,
          "HeartRate": 70,
          "RiskLevel": "low risk",
          "SystolicBP": 120
         },
         {
          "Age": 15,
          "BS": 6.8,
          "BodyTemp": 98,
          "DiastolicBP": 49,
          "HeartRate": 77,
          "RiskLevel": "low risk",
          "SystolicBP": 76
         },
         {
          "Age": 12,
          "BS": 7.5,
          "BodyTemp": 102,
          "DiastolicBP": 60,
          "HeartRate": 66,
          "RiskLevel": "mid risk",
          "SystolicBP": 90
         },
         {
          "Age": 31,
          "BS": 6.1,
          "BodyTemp": 98,
          "DiastolicBP": 60,
          "HeartRate": 76,
          "RiskLevel": "low risk",
          "SystolicBP": 120
         },
         {
          "Age": 23,
          "BS": 7.7,
          "BodyTemp": 98,
          "DiastolicBP": 80,
          "HeartRate": 70,
          "RiskLevel": "low risk",
          "SystolicBP": 120
         },
         {
          "Age": 37,
          "BS": 11,
          "BodyTemp": 98,
          "DiastolicBP": 90,
          "HeartRate": 88,
          "RiskLevel": "high risk",
          "SystolicBP": 120
         },
         {
          "Age": 42,
          "BS": 7.5,
          "BodyTemp": 98,
          "DiastolicBP": 80,
          "HeartRate": 70,
          "RiskLevel": "low risk",
          "SystolicBP": 120
         },
         {
          "Age": 48,
          "BS": 11,
          "BodyTemp": 98,
          "DiastolicBP": 80,
          "HeartRate": 88,
          "RiskLevel": "mid risk",
          "SystolicBP": 120
         },
         {
          "Age": 29,
          "BS": 6.1,
          "BodyTemp": 98,
          "DiastolicBP": 70,
          "HeartRate": 78,
          "RiskLevel": "mid risk",
          "SystolicBP": 130
         },
         {
          "Age": 23,
          "BS": 7.01,
          "BodyTemp": 98,
          "DiastolicBP": 60,
          "HeartRate": 76,
          "RiskLevel": "low risk",
          "SystolicBP": 90
         },
         {
          "Age": 50,
          "BS": 17,
          "BodyTemp": 98,
          "DiastolicBP": 95,
          "HeartRate": 60,
          "RiskLevel": "high risk",
          "SystolicBP": 140
         },
         {
          "Age": 22,
          "BS": 7.5,
          "BodyTemp": 98,
          "DiastolicBP": 65,
          "HeartRate": 70,
          "RiskLevel": "low risk",
          "SystolicBP": 100
         },
         {
          "Age": 12,
          "BS": 6.9,
          "BodyTemp": 98,
          "DiastolicBP": 60,
          "HeartRate": 65,
          "RiskLevel": "low risk",
          "SystolicBP": 95
         },
         {
          "Age": 15,
          "BS": 7,
          "BodyTemp": 98,
          "DiastolicBP": 80,
          "HeartRate": 70,
          "RiskLevel": "low risk",
          "SystolicBP": 120
         },
         {
          "Age": 23,
          "BS": 7.8,
          "BodyTemp": 98,
          "DiastolicBP": 60,
          "HeartRate": 76,
          "RiskLevel": "low risk",
          "SystolicBP": 90
         },
         {
          "Age": 50,
          "BS": 15,
          "BodyTemp": 98,
          "DiastolicBP": 80,
          "HeartRate": 86,
          "RiskLevel": "high risk",
          "SystolicBP": 130
         },
         {
          "Age": 32,
          "BS": 6,
          "BodyTemp": 101,
          "DiastolicBP": 65,
          "HeartRate": 76,
          "RiskLevel": "mid risk",
          "SystolicBP": 120
         },
         {
          "Age": 12,
          "BS": 6.4,
          "BodyTemp": 98,
          "DiastolicBP": 50,
          "HeartRate": 70,
          "RiskLevel": "mid risk",
          "SystolicBP": 100
         },
         {
          "Age": 25,
          "BS": 6.1,
          "BodyTemp": 98,
          "DiastolicBP": 70,
          "HeartRate": 80,
          "RiskLevel": "low risk",
          "SystolicBP": 90
         },
         {
          "Age": 32,
          "BS": 7,
          "BodyTemp": 100,
          "DiastolicBP": 90,
          "HeartRate": 70,
          "RiskLevel": "mid risk",
          "SystolicBP": 120
         },
         {
          "Age": 32,
          "BS": 7.5,
          "BodyTemp": 98,
          "DiastolicBP": 90,
          "HeartRate": 70,
          "RiskLevel": "low risk",
          "SystolicBP": 120
         },
         {
          "Age": 13,
          "BS": 7.8,
          "BodyTemp": 101,
          "DiastolicBP": 65,
          "HeartRate": 80,
          "RiskLevel": "mid risk",
          "SystolicBP": 90
         },
         {
          "Age": 39,
          "BS": 9,
          "BodyTemp": 98,
          "DiastolicBP": 70,
          "HeartRate": 80,
          "RiskLevel": "high risk",
          "SystolicBP": 90
         },
         {
          "Age": 22,
          "BS": 6.9,
          "BodyTemp": 98,
          "DiastolicBP": 65,
          "HeartRate": 78,
          "RiskLevel": "low risk",
          "SystolicBP": 90
         },
         {
          "Age": 17,
          "BS": 7.5,
          "BodyTemp": 103,
          "DiastolicBP": 65,
          "HeartRate": 67,
          "RiskLevel": "mid risk",
          "SystolicBP": 90
         },
         {
          "Age": 51,
          "BS": 6.9,
          "BodyTemp": 98,
          "DiastolicBP": 60,
          "HeartRate": 66,
          "RiskLevel": "low risk",
          "SystolicBP": 85
         },
         {
          "Age": 40,
          "BS": 13,
          "BodyTemp": 101,
          "DiastolicBP": 100,
          "HeartRate": 66,
          "RiskLevel": "high risk",
          "SystolicBP": 140
         },
         {
          "Age": 63,
          "BS": 15,
          "BodyTemp": 98,
          "DiastolicBP": 90,
          "HeartRate": 90,
          "RiskLevel": "high risk",
          "SystolicBP": 140
         },
         {
          "Age": 45,
          "BS": 18,
          "BodyTemp": 101,
          "DiastolicBP": 60,
          "HeartRate": 70,
          "RiskLevel": "high risk",
          "SystolicBP": 90
         },
         {
          "Age": 31,
          "BS": 6.1,
          "BodyTemp": 98,
          "DiastolicBP": 60,
          "HeartRate": 76,
          "RiskLevel": "mid risk",
          "SystolicBP": 120
         },
         {
          "Age": 23,
          "BS": 7.5,
          "BodyTemp": 98,
          "DiastolicBP": 90,
          "HeartRate": 60,
          "RiskLevel": "low risk",
          "SystolicBP": 120
         },
         {
          "Age": 60,
          "BS": 7.9,
          "BodyTemp": 98,
          "DiastolicBP": 65,
          "HeartRate": 77,
          "RiskLevel": "low risk",
          "SystolicBP": 90
         },
         {
          "Age": 18,
          "BS": 7.9,
          "BodyTemp": 102,
          "DiastolicBP": 80,
          "HeartRate": 76,
          "RiskLevel": "mid risk",
          "SystolicBP": 120
         },
         {
          "Age": 42,
          "BS": 7.5,
          "BodyTemp": 98,
          "DiastolicBP": 80,
          "HeartRate": 70,
          "RiskLevel": "low risk",
          "SystolicBP": 120
         },
         {
          "Age": 23,
          "BS": 6.8,
          "BodyTemp": 98,
          "DiastolicBP": 70,
          "HeartRate": 78,
          "RiskLevel": "mid risk",
          "SystolicBP": 130
         },
         {
          "Age": 55,
          "BS": 7.7,
          "BodyTemp": 98,
          "DiastolicBP": 65,
          "HeartRate": 66,
          "RiskLevel": "low risk",
          "SystolicBP": 100
         },
         {
          "Age": 22,
          "BS": 6.8,
          "BodyTemp": 98,
          "DiastolicBP": 65,
          "HeartRate": 88,
          "RiskLevel": "low risk",
          "SystolicBP": 100
         },
         {
          "Age": 35,
          "BS": 6.1,
          "BodyTemp": 98,
          "DiastolicBP": 70,
          "HeartRate": 66,
          "RiskLevel": "low risk",
          "SystolicBP": 100
         },
         {
          "Age": 35,
          "BS": 11,
          "BodyTemp": 102,
          "DiastolicBP": 60,
          "HeartRate": 86,
          "RiskLevel": "high risk",
          "SystolicBP": 85
         },
         {
          "Age": 30,
          "BS": 8,
          "BodyTemp": 98,
          "DiastolicBP": 65,
          "HeartRate": 77,
          "RiskLevel": "mid risk",
          "SystolicBP": 90
         },
         {
          "Age": 32,
          "BS": 6.8,
          "BodyTemp": 98,
          "DiastolicBP": 80,
          "HeartRate": 70,
          "RiskLevel": "mid risk",
          "SystolicBP": 120
         },
         {
          "Age": 32,
          "BS": 6.8,
          "BodyTemp": 98,
          "DiastolicBP": 90,
          "HeartRate": 70,
          "RiskLevel": "low risk",
          "SystolicBP": 120
         },
         {
          "Age": 13,
          "BS": 7.8,
          "BodyTemp": 101,
          "DiastolicBP": 65,
          "HeartRate": 80,
          "RiskLevel": "mid risk",
          "SystolicBP": 90
         },
         {
          "Age": 19,
          "BS": 6.8,
          "BodyTemp": 98,
          "DiastolicBP": 90,
          "HeartRate": 60,
          "RiskLevel": "mid risk",
          "SystolicBP": 120
         },
         {
          "Age": 23,
          "BS": 6.7,
          "BodyTemp": 98,
          "DiastolicBP": 60,
          "HeartRate": 76,
          "RiskLevel": "low risk",
          "SystolicBP": 90
         },
         {
          "Age": 32,
          "BS": 6.9,
          "BodyTemp": 98,
          "DiastolicBP": 90,
          "HeartRate": 70,
          "RiskLevel": "mid risk",
          "SystolicBP": 120
         },
         {
          "Age": 23,
          "BS": 7.5,
          "BodyTemp": 98,
          "DiastolicBP": 60,
          "HeartRate": 76,
          "RiskLevel": "low risk",
          "SystolicBP": 90
         },
         {
          "Age": 32,
          "BS": 18,
          "BodyTemp": 98,
          "DiastolicBP": 90,
          "HeartRate": 88,
          "RiskLevel": "high risk",
          "SystolicBP": 140
         },
         {
          "Age": 25,
          "BS": 7.9,
          "BodyTemp": 98,
          "DiastolicBP": 100,
          "HeartRate": 80,
          "RiskLevel": "high risk",
          "SystolicBP": 140
         },
         {
          "Age": 37,
          "BS": 11,
          "BodyTemp": 98,
          "DiastolicBP": 90,
          "HeartRate": 88,
          "RiskLevel": "high risk",
          "SystolicBP": 120
         },
         {
          "Age": 19,
          "BS": 7,
          "BodyTemp": 98,
          "DiastolicBP": 80,
          "HeartRate": 70,
          "RiskLevel": "mid risk",
          "SystolicBP": 120
         },
         {
          "Age": 50,
          "BS": 7.5,
          "BodyTemp": 98,
          "DiastolicBP": 80,
          "HeartRate": 70,
          "RiskLevel": "low risk",
          "SystolicBP": 120
         },
         {
          "Age": 55,
          "BS": 7.5,
          "BodyTemp": 98,
          "DiastolicBP": 65,
          "HeartRate": 66,
          "RiskLevel": "low risk",
          "SystolicBP": 100
         },
         {
          "Age": 25,
          "BS": 12,
          "BodyTemp": 99,
          "DiastolicBP": 100,
          "HeartRate": 80,
          "RiskLevel": "high risk",
          "SystolicBP": 140
         },
         {
          "Age": 40,
          "BS": 19,
          "BodyTemp": 98,
          "DiastolicBP": 100,
          "HeartRate": 77,
          "RiskLevel": "high risk",
          "SystolicBP": 160
         },
         {
          "Age": 42,
          "BS": 7.5,
          "BodyTemp": 98,
          "DiastolicBP": 60,
          "HeartRate": 76,
          "RiskLevel": "low risk",
          "SystolicBP": 90
         },
         {
          "Age": 23,
          "BS": 7.5,
          "BodyTemp": 98,
          "DiastolicBP": 90,
          "HeartRate": 60,
          "RiskLevel": "low risk",
          "SystolicBP": 120
         },
         {
          "Age": 22,
          "BS": 7.5,
          "BodyTemp": 98,
          "DiastolicBP": 85,
          "HeartRate": 88,
          "RiskLevel": "low risk",
          "SystolicBP": 120
         },
         {
          "Age": 23,
          "BS": 6.1,
          "BodyTemp": 98,
          "DiastolicBP": 90,
          "HeartRate": 70,
          "RiskLevel": "low risk",
          "SystolicBP": 120
         },
         {
          "Age": 50,
          "BS": 6.7,
          "BodyTemp": 98,
          "DiastolicBP": 80,
          "HeartRate": 70,
          "RiskLevel": "mid risk",
          "SystolicBP": 140
         },
         {
          "Age": 32,
          "BS": 6,
          "BodyTemp": 101,
          "DiastolicBP": 65,
          "HeartRate": 76,
          "RiskLevel": "mid risk",
          "SystolicBP": 120
         },
         {
          "Age": 23,
          "BS": 7.01,
          "BodyTemp": 98,
          "DiastolicBP": 70,
          "HeartRate": 78,
          "RiskLevel": "mid risk",
          "SystolicBP": 130
         },
         {
          "Age": 17,
          "BS": 6.3,
          "BodyTemp": 102,
          "DiastolicBP": 60,
          "HeartRate": 86,
          "RiskLevel": "high risk",
          "SystolicBP": 85
         },
         {
          "Age": 15,
          "BS": 7.9,
          "BodyTemp": 98,
          "DiastolicBP": 80,
          "HeartRate": 70,
          "RiskLevel": "low risk",
          "SystolicBP": 120
         },
         {
          "Age": 22,
          "BS": 7.9,
          "BodyTemp": 98,
          "DiastolicBP": 65,
          "HeartRate": 80,
          "RiskLevel": "low risk",
          "SystolicBP": 100
         },
         {
          "Age": 19,
          "BS": 7,
          "BodyTemp": 98,
          "DiastolicBP": 80,
          "HeartRate": 70,
          "RiskLevel": "low risk",
          "SystolicBP": 120
         },
         {
          "Age": 42,
          "BS": 18,
          "BodyTemp": 98,
          "DiastolicBP": 100,
          "HeartRate": 90,
          "RiskLevel": "high risk",
          "SystolicBP": 140
         },
         {
          "Age": 23,
          "BS": 6.8,
          "BodyTemp": 98,
          "DiastolicBP": 90,
          "HeartRate": 70,
          "RiskLevel": "high risk",
          "SystolicBP": 140
         },
         {
          "Age": 29,
          "BS": 7.5,
          "BodyTemp": 98,
          "DiastolicBP": 70,
          "HeartRate": 78,
          "RiskLevel": "mid risk",
          "SystolicBP": 130
         },
         {
          "Age": 50,
          "BS": 15,
          "BodyTemp": 98,
          "DiastolicBP": 90,
          "HeartRate": 90,
          "RiskLevel": "high risk",
          "SystolicBP": 140
         },
         {
          "Age": 35,
          "BS": 6.9,
          "BodyTemp": 98,
          "DiastolicBP": 80,
          "HeartRate": 78,
          "RiskLevel": "mid risk",
          "SystolicBP": 120
         },
         {
          "Age": 21,
          "BS": 6.9,
          "BodyTemp": 98,
          "DiastolicBP": 65,
          "HeartRate": 76,
          "RiskLevel": "low risk",
          "SystolicBP": 90
         },
         {
          "Age": 12,
          "BS": 6.9,
          "BodyTemp": 98,
          "DiastolicBP": 60,
          "HeartRate": 65,
          "RiskLevel": "mid risk",
          "SystolicBP": 95
         },
         {
          "Age": 36,
          "BS": 6.8,
          "BodyTemp": 102,
          "DiastolicBP": 100,
          "HeartRate": 76,
          "RiskLevel": "high risk",
          "SystolicBP": 140
         },
         {
          "Age": 55,
          "BS": 6.8,
          "BodyTemp": 98,
          "DiastolicBP": 90,
          "HeartRate": 66,
          "RiskLevel": "mid risk",
          "SystolicBP": 120
         },
         {
          "Age": 17,
          "BS": 6.1,
          "BodyTemp": 103,
          "DiastolicBP": 65,
          "HeartRate": 67,
          "RiskLevel": "high risk",
          "SystolicBP": 90
         },
         {
          "Age": 19,
          "BS": 7,
          "BodyTemp": 98,
          "DiastolicBP": 80,
          "HeartRate": 70,
          "RiskLevel": "low risk",
          "SystolicBP": 120
         },
         {
          "Age": 28,
          "BS": 9,
          "BodyTemp": 101,
          "DiastolicBP": 60,
          "HeartRate": 86,
          "RiskLevel": "mid risk",
          "SystolicBP": 85
         },
         {
          "Age": 31,
          "BS": 6.1,
          "BodyTemp": 98,
          "DiastolicBP": 60,
          "HeartRate": 76,
          "RiskLevel": "mid risk",
          "SystolicBP": 120
         },
         {
          "Age": 15,
          "BS": 6,
          "BodyTemp": 98,
          "DiastolicBP": 49,
          "HeartRate": 77,
          "RiskLevel": "low risk",
          "SystolicBP": 90
         },
         {
          "Age": 42,
          "BS": 18,
          "BodyTemp": 98,
          "DiastolicBP": 80,
          "HeartRate": 70,
          "RiskLevel": "mid risk",
          "SystolicBP": 130
         },
         {
          "Age": 22,
          "BS": 6.9,
          "BodyTemp": 98,
          "DiastolicBP": 60,
          "HeartRate": 76,
          "RiskLevel": "mid risk",
          "SystolicBP": 85
         },
         {
          "Age": 12,
          "BS": 7.5,
          "BodyTemp": 102,
          "DiastolicBP": 60,
          "HeartRate": 60,
          "RiskLevel": "low risk",
          "SystolicBP": 90
         },
         {
          "Age": 18,
          "BS": 6.8,
          "BodyTemp": 102,
          "DiastolicBP": 80,
          "HeartRate": 76,
          "RiskLevel": "low risk",
          "SystolicBP": 120
         },
         {
          "Age": 35,
          "BS": 7.9,
          "BodyTemp": 98,
          "DiastolicBP": 70,
          "HeartRate": 60,
          "RiskLevel": "low risk",
          "SystolicBP": 100
         },
         {
          "Age": 29,
          "BS": 6.7,
          "BodyTemp": 98,
          "DiastolicBP": 70,
          "HeartRate": 78,
          "RiskLevel": "mid risk",
          "SystolicBP": 130
         },
         {
          "Age": 28,
          "BS": 7.5,
          "BodyTemp": 98,
          "DiastolicBP": 60,
          "HeartRate": 82,
          "RiskLevel": "low risk",
          "SystolicBP": 90
         },
         {
          "Age": 48,
          "BS": 11,
          "BodyTemp": 98,
          "DiastolicBP": 80,
          "HeartRate": 88,
          "RiskLevel": "high risk",
          "SystolicBP": 120
         },
         {
          "Age": 32,
          "BS": 6.9,
          "BodyTemp": 98,
          "DiastolicBP": 90,
          "HeartRate": 70,
          "RiskLevel": "mid risk",
          "SystolicBP": 120
         },
         {
          "Age": 55,
          "BS": 12,
          "BodyTemp": 98,
          "DiastolicBP": 90,
          "HeartRate": 70,
          "RiskLevel": "mid risk",
          "SystolicBP": 120
         },
         {
          "Age": 17,
          "BS": 7.5,
          "BodyTemp": 102,
          "DiastolicBP": 80,
          "HeartRate": 76,
          "RiskLevel": "low risk",
          "SystolicBP": 120
         },
         {
          "Age": 23,
          "BS": 6.4,
          "BodyTemp": 98,
          "DiastolicBP": 60,
          "HeartRate": 76,
          "RiskLevel": "low risk",
          "SystolicBP": 90
         },
         {
          "Age": 33,
          "BS": 7,
          "BodyTemp": 98,
          "DiastolicBP": 65,
          "HeartRate": 70,
          "RiskLevel": "mid risk",
          "SystolicBP": 115
         },
         {
          "Age": 18,
          "BS": 6.8,
          "BodyTemp": 102,
          "DiastolicBP": 80,
          "HeartRate": 76,
          "RiskLevel": "low risk",
          "SystolicBP": 120
         },
         {
          "Age": 25,
          "BS": 6.8,
          "BodyTemp": 98,
          "DiastolicBP": 100,
          "HeartRate": 60,
          "RiskLevel": "mid risk",
          "SystolicBP": 120
         },
         {
          "Age": 45,
          "BS": 7.8,
          "BodyTemp": 98,
          "DiastolicBP": 95,
          "HeartRate": 66,
          "RiskLevel": "low risk",
          "SystolicBP": 120
         },
         {
          "Age": 25,
          "BS": 7.9,
          "BodyTemp": 98,
          "DiastolicBP": 80,
          "HeartRate": 66,
          "RiskLevel": "mid risk",
          "SystolicBP": 120
         },
         {
          "Age": 23,
          "BS": 7.9,
          "BodyTemp": 98,
          "DiastolicBP": 60,
          "HeartRate": 76,
          "RiskLevel": "low risk",
          "SystolicBP": 90
         },
         {
          "Age": 50,
          "BS": 17,
          "BodyTemp": 98,
          "DiastolicBP": 95,
          "HeartRate": 60,
          "RiskLevel": "high risk",
          "SystolicBP": 140
         },
         {
          "Age": 29,
          "BS": 7.2,
          "BodyTemp": 100,
          "DiastolicBP": 75,
          "HeartRate": 70,
          "RiskLevel": "high risk",
          "SystolicBP": 120
         },
         {
          "Age": 35,
          "BS": 19,
          "BodyTemp": 98,
          "DiastolicBP": 60,
          "HeartRate": 86,
          "RiskLevel": "high risk",
          "SystolicBP": 85
         },
         {
          "Age": 23,
          "BS": 6.9,
          "BodyTemp": 98,
          "DiastolicBP": 85,
          "HeartRate": 66,
          "RiskLevel": "mid risk",
          "SystolicBP": 100
         },
         {
          "Age": 55,
          "BS": 6.8,
          "BodyTemp": 98,
          "DiastolicBP": 90,
          "HeartRate": 78,
          "RiskLevel": "low risk",
          "SystolicBP": 120
         },
         {
          "Age": 17,
          "BS": 6.9,
          "BodyTemp": 101,
          "DiastolicBP": 60,
          "HeartRate": 76,
          "RiskLevel": "mid risk",
          "SystolicBP": 90
         },
         {
          "Age": 19,
          "BS": 6.9,
          "BodyTemp": 98,
          "DiastolicBP": 75,
          "HeartRate": 66,
          "RiskLevel": "mid risk",
          "SystolicBP": 120
         },
         {
          "Age": 29,
          "BS": 8,
          "BodyTemp": 98,
          "DiastolicBP": 70,
          "HeartRate": 78,
          "RiskLevel": "mid risk",
          "SystolicBP": 130
         },
         {
          "Age": 50,
          "BS": 16,
          "BodyTemp": 98,
          "DiastolicBP": 100,
          "HeartRate": 75,
          "RiskLevel": "mid risk",
          "SystolicBP": 130
         },
         {
          "Age": 18,
          "BS": 7.5,
          "BodyTemp": 101,
          "DiastolicBP": 60,
          "HeartRate": 86,
          "RiskLevel": "mid risk",
          "SystolicBP": 85
         },
         {
          "Age": 60,
          "BS": 6.9,
          "BodyTemp": 98,
          "DiastolicBP": 80,
          "HeartRate": 76,
          "RiskLevel": "low risk",
          "SystolicBP": 120
         },
         {
          "Age": 18,
          "BS": 6.9,
          "BodyTemp": 98,
          "DiastolicBP": 60,
          "HeartRate": 70,
          "RiskLevel": "mid risk",
          "SystolicBP": 90
         },
         {
          "Age": 12,
          "BS": 6.9,
          "BodyTemp": 98,
          "DiastolicBP": 80,
          "HeartRate": 80,
          "RiskLevel": "low risk",
          "SystolicBP": 120
         },
         {
          "Age": 15,
          "BS": 7.2,
          "BodyTemp": 98,
          "DiastolicBP": 80,
          "HeartRate": 70,
          "RiskLevel": "low risk",
          "SystolicBP": 120
         },
         {
          "Age": 38,
          "BS": 7.9,
          "BodyTemp": 101,
          "DiastolicBP": 60,
          "HeartRate": 86,
          "RiskLevel": "high risk",
          "SystolicBP": 135
         },
         {
          "Age": 25,
          "BS": 6.7,
          "BodyTemp": 101,
          "DiastolicBP": 90,
          "HeartRate": 80,
          "RiskLevel": "mid risk",
          "SystolicBP": 120
         },
         {
          "Age": 19,
          "BS": 7,
          "BodyTemp": 98,
          "DiastolicBP": 80,
          "HeartRate": 70,
          "RiskLevel": "mid risk",
          "SystolicBP": 120
         },
         {
          "Age": 19,
          "BS": 7.8,
          "BodyTemp": 98,
          "DiastolicBP": 70,
          "HeartRate": 80,
          "RiskLevel": "low risk",
          "SystolicBP": 90
         },
         {
          "Age": 17,
          "BS": 6.8,
          "BodyTemp": 103,
          "DiastolicBP": 100,
          "HeartRate": 80,
          "RiskLevel": "high risk",
          "SystolicBP": 140
         },
         {
          "Age": 16,
          "BS": 6.9,
          "BodyTemp": 98,
          "DiastolicBP": 70,
          "HeartRate": 80,
          "RiskLevel": "mid risk",
          "SystolicBP": 100
         },
         {
          "Age": 27,
          "BS": 6.8,
          "BodyTemp": 98,
          "DiastolicBP": 70,
          "HeartRate": 77,
          "RiskLevel": "low risk",
          "SystolicBP": 120
         },
         {
          "Age": 40,
          "BS": 7.7,
          "BodyTemp": 98,
          "DiastolicBP": 75,
          "HeartRate": 70,
          "RiskLevel": "high risk",
          "SystolicBP": 120
         },
         {
          "Age": 19,
          "BS": 11,
          "BodyTemp": 101,
          "DiastolicBP": 65,
          "HeartRate": 70,
          "RiskLevel": "high risk",
          "SystolicBP": 90
         },
         {
          "Age": 32,
          "BS": 7.7,
          "BodyTemp": 98,
          "DiastolicBP": 90,
          "HeartRate": 70,
          "RiskLevel": "low risk",
          "SystolicBP": 120
         },
         {
          "Age": 21,
          "BS": 6.9,
          "BodyTemp": 98,
          "DiastolicBP": 80,
          "HeartRate": 88,
          "RiskLevel": "low risk",
          "SystolicBP": 120
         },
         {
          "Age": 45,
          "BS": 7.5,
          "BodyTemp": 98,
          "DiastolicBP": 95,
          "HeartRate": 66,
          "RiskLevel": "low risk",
          "SystolicBP": 120
         },
         {
          "Age": 42,
          "BS": 7.5,
          "BodyTemp": 98,
          "DiastolicBP": 80,
          "HeartRate": 70,
          "RiskLevel": "low risk",
          "SystolicBP": 120
         },
         {
          "Age": 21,
          "BS": 6.9,
          "BodyTemp": 98,
          "DiastolicBP": 80,
          "HeartRate": 76,
          "RiskLevel": "mid risk",
          "SystolicBP": 120
         },
         {
          "Age": 32,
          "BS": 7.9,
          "BodyTemp": 98,
          "DiastolicBP": 100,
          "HeartRate": 78,
          "RiskLevel": "high risk",
          "SystolicBP": 140
         },
         {
          "Age": 16,
          "BS": 6.9,
          "BodyTemp": 98,
          "DiastolicBP": 70,
          "HeartRate": 80,
          "RiskLevel": "mid risk",
          "SystolicBP": 100
         },
         {
          "Age": 31,
          "BS": 6.1,
          "BodyTemp": 98,
          "DiastolicBP": 60,
          "HeartRate": 76,
          "RiskLevel": "low risk",
          "SystolicBP": 120
         },
         {
          "Age": 50,
          "BS": 15,
          "BodyTemp": 98,
          "DiastolicBP": 90,
          "HeartRate": 90,
          "RiskLevel": "high risk",
          "SystolicBP": 140
         },
         {
          "Age": 17,
          "BS": 7.9,
          "BodyTemp": 102,
          "DiastolicBP": 60,
          "HeartRate": 86,
          "RiskLevel": "low risk",
          "SystolicBP": 85
         },
         {
          "Age": 15,
          "BS": 7.5,
          "BodyTemp": 98,
          "DiastolicBP": 80,
          "HeartRate": 70,
          "RiskLevel": "mid risk",
          "SystolicBP": 120
         },
         {
          "Age": 50,
          "BS": 15,
          "BodyTemp": 98,
          "DiastolicBP": 80,
          "HeartRate": 70,
          "RiskLevel": "high risk",
          "SystolicBP": 120
         },
         {
          "Age": 55,
          "BS": 19,
          "BodyTemp": 98,
          "DiastolicBP": 95,
          "HeartRate": 77,
          "RiskLevel": "high risk",
          "SystolicBP": 140
         },
         {
          "Age": 15,
          "BS": 7.5,
          "BodyTemp": 98,
          "DiastolicBP": 80,
          "HeartRate": 70,
          "RiskLevel": "low risk",
          "SystolicBP": 120
         },
         {
          "Age": 28,
          "BS": 9,
          "BodyTemp": 101,
          "DiastolicBP": 60,
          "HeartRate": 86,
          "RiskLevel": "mid risk",
          "SystolicBP": 85
         },
         {
          "Age": 29,
          "BS": 8,
          "BodyTemp": 98,
          "DiastolicBP": 70,
          "HeartRate": 78,
          "RiskLevel": "mid risk",
          "SystolicBP": 130
         },
         {
          "Age": 32,
          "BS": 6.8,
          "BodyTemp": 98,
          "DiastolicBP": 90,
          "HeartRate": 70,
          "RiskLevel": "low risk",
          "SystolicBP": 120
         },
         {
          "Age": 12,
          "BS": 7.8,
          "BodyTemp": 98,
          "DiastolicBP": 95,
          "HeartRate": 60,
          "RiskLevel": "low risk",
          "SystolicBP": 120
         },
         {
          "Age": 25,
          "BS": 7.9,
          "BodyTemp": 98,
          "DiastolicBP": 80,
          "HeartRate": 66,
          "RiskLevel": "mid risk",
          "SystolicBP": 120
         },
         {
          "Age": 32,
          "BS": 18,
          "BodyTemp": 98,
          "DiastolicBP": 90,
          "HeartRate": 88,
          "RiskLevel": "high risk",
          "SystolicBP": 140
         },
         {
          "Age": 30,
          "BS": 6.8,
          "BodyTemp": 98,
          "DiastolicBP": 80,
          "HeartRate": 70,
          "RiskLevel": "mid risk",
          "SystolicBP": 120
         },
         {
          "Age": 32,
          "BS": 6.9,
          "BodyTemp": 98,
          "DiastolicBP": 100,
          "HeartRate": 78,
          "RiskLevel": "high risk",
          "SystolicBP": 140
         },
         {
          "Age": 29,
          "BS": 6.1,
          "BodyTemp": 98,
          "DiastolicBP": 70,
          "HeartRate": 78,
          "RiskLevel": "mid risk",
          "SystolicBP": 130
         },
         {
          "Age": 15,
          "BS": 6.8,
          "BodyTemp": 98,
          "DiastolicBP": 80,
          "HeartRate": 70,
          "RiskLevel": "low risk",
          "SystolicBP": 120
         },
         {
          "Age": 50,
          "BS": 15,
          "BodyTemp": 98,
          "DiastolicBP": 90,
          "HeartRate": 90,
          "RiskLevel": "high risk",
          "SystolicBP": 140
         },
         {
          "Age": 48,
          "BS": 11,
          "BodyTemp": 98,
          "DiastolicBP": 80,
          "HeartRate": 88,
          "RiskLevel": "mid risk",
          "SystolicBP": 120
         },
         {
          "Age": 16,
          "BS": 6.9,
          "BodyTemp": 98,
          "DiastolicBP": 70,
          "HeartRate": 80,
          "RiskLevel": "mid risk",
          "SystolicBP": 100
         },
         {
          "Age": 49,
          "BS": 6.9,
          "BodyTemp": 98,
          "DiastolicBP": 90,
          "HeartRate": 77,
          "RiskLevel": "low risk",
          "SystolicBP": 120
         },
         {
          "Age": 40,
          "BS": 19,
          "BodyTemp": 98,
          "DiastolicBP": 100,
          "HeartRate": 77,
          "RiskLevel": "high risk",
          "SystolicBP": 160
         },
         {
          "Age": 32,
          "BS": 6.4,
          "BodyTemp": 98,
          "DiastolicBP": 90,
          "HeartRate": 70,
          "RiskLevel": "low risk",
          "SystolicBP": 120
         },
         {
          "Age": 44,
          "BS": 16,
          "BodyTemp": 98,
          "DiastolicBP": 90,
          "HeartRate": 80,
          "RiskLevel": "mid risk",
          "SystolicBP": 120
         },
         {
          "Age": 21,
          "BS": 6.9,
          "BodyTemp": 98,
          "DiastolicBP": 80,
          "HeartRate": 76,
          "RiskLevel": "low risk",
          "SystolicBP": 120
         },
         {
          "Age": 30,
          "BS": 7,
          "BodyTemp": 98,
          "DiastolicBP": 85,
          "HeartRate": 70,
          "RiskLevel": "high risk",
          "SystolicBP": 140
         },
         {
          "Age": 55,
          "BS": 6.9,
          "BodyTemp": 98,
          "DiastolicBP": 85,
          "HeartRate": 88,
          "RiskLevel": "high risk",
          "SystolicBP": 110
         },
         {
          "Age": 30,
          "BS": 15,
          "BodyTemp": 98,
          "DiastolicBP": 100,
          "HeartRate": 70,
          "RiskLevel": "high risk",
          "SystolicBP": 140
         },
         {
          "Age": 34,
          "BS": 7,
          "BodyTemp": 98,
          "DiastolicBP": 70,
          "HeartRate": 80,
          "RiskLevel": "high risk",
          "SystolicBP": 110
         },
         {
          "Age": 32,
          "BS": 7.9,
          "BodyTemp": 98,
          "DiastolicBP": 100,
          "HeartRate": 78,
          "RiskLevel": "high risk",
          "SystolicBP": 140
         },
         {
          "Age": 15,
          "BS": 6,
          "BodyTemp": 98,
          "DiastolicBP": 50,
          "HeartRate": 70,
          "RiskLevel": "mid risk",
          "SystolicBP": 70
         },
         {
          "Age": 18,
          "BS": 6.9,
          "BodyTemp": 102,
          "DiastolicBP": 80,
          "HeartRate": 76,
          "RiskLevel": "mid risk",
          "SystolicBP": 120
         },
         {
          "Age": 19,
          "BS": 7,
          "BodyTemp": 98,
          "DiastolicBP": 80,
          "HeartRate": 70,
          "RiskLevel": "mid risk",
          "SystolicBP": 120
         },
         {
          "Age": 60,
          "BS": 7.5,
          "BodyTemp": 98,
          "DiastolicBP": 65,
          "HeartRate": 77,
          "RiskLevel": "low risk",
          "SystolicBP": 90
         },
         {
          "Age": 22,
          "BS": 6.9,
          "BodyTemp": 103,
          "DiastolicBP": 80,
          "HeartRate": 76,
          "RiskLevel": "low risk",
          "SystolicBP": 120
         },
         {
          "Age": 32,
          "BS": 6.4,
          "BodyTemp": 98,
          "DiastolicBP": 90,
          "HeartRate": 70,
          "RiskLevel": "low risk",
          "SystolicBP": 120
         },
         {
          "Age": 25,
          "BS": 7.7,
          "BodyTemp": 98,
          "DiastolicBP": 80,
          "HeartRate": 66,
          "RiskLevel": "low risk",
          "SystolicBP": 120
         },
         {
          "Age": 31,
          "BS": 6.1,
          "BodyTemp": 98,
          "DiastolicBP": 60,
          "HeartRate": 76,
          "RiskLevel": "mid risk",
          "SystolicBP": 120
         },
         {
          "Age": 23,
          "BS": 6.8,
          "BodyTemp": 98,
          "DiastolicBP": 60,
          "HeartRate": 76,
          "RiskLevel": "low risk",
          "SystolicBP": 90
         },
         {
          "Age": 22,
          "BS": 7,
          "BodyTemp": 98,
          "DiastolicBP": 65,
          "HeartRate": 80,
          "RiskLevel": "low risk",
          "SystolicBP": 100
         },
         {
          "Age": 19,
          "BS": 7.5,
          "BodyTemp": 101,
          "DiastolicBP": 65,
          "HeartRate": 70,
          "RiskLevel": "low risk",
          "SystolicBP": 90
         },
         {
          "Age": 48,
          "BS": 11,
          "BodyTemp": 98,
          "DiastolicBP": 80,
          "HeartRate": 88,
          "RiskLevel": "low risk",
          "SystolicBP": 120
         },
         {
          "Age": 48,
          "BS": 11,
          "BodyTemp": 98,
          "DiastolicBP": 80,
          "HeartRate": 88,
          "RiskLevel": "high risk",
          "SystolicBP": 120
         },
         {
          "Age": 60,
          "BS": 6.8,
          "BodyTemp": 98,
          "DiastolicBP": 65,
          "HeartRate": 77,
          "RiskLevel": "mid risk",
          "SystolicBP": 90
         },
         {
          "Age": 22,
          "BS": 6.9,
          "BodyTemp": 98,
          "DiastolicBP": 65,
          "HeartRate": 80,
          "RiskLevel": "low risk",
          "SystolicBP": 100
         },
         {
          "Age": 22,
          "BS": 7.5,
          "BodyTemp": 98,
          "DiastolicBP": 65,
          "HeartRate": 70,
          "RiskLevel": "mid risk",
          "SystolicBP": 100
         },
         {
          "Age": 27,
          "BS": 6.8,
          "BodyTemp": 98,
          "DiastolicBP": 70,
          "HeartRate": 77,
          "RiskLevel": "low risk",
          "SystolicBP": 120
         },
         {
          "Age": 19,
          "BS": 7.5,
          "BodyTemp": 98,
          "DiastolicBP": 75,
          "HeartRate": 66,
          "RiskLevel": "low risk",
          "SystolicBP": 120
         },
         {
          "Age": 23,
          "BS": 8,
          "BodyTemp": 98,
          "DiastolicBP": 85,
          "HeartRate": 70,
          "RiskLevel": "low risk",
          "SystolicBP": 120
         },
         {
          "Age": 21,
          "BS": 6.9,
          "BodyTemp": 98,
          "DiastolicBP": 65,
          "HeartRate": 76,
          "RiskLevel": "mid risk",
          "SystolicBP": 90
         },
         {
          "Age": 45,
          "BS": 6.1,
          "BodyTemp": 98,
          "DiastolicBP": 95,
          "HeartRate": 66,
          "RiskLevel": "low risk",
          "SystolicBP": 120
         },
         {
          "Age": 50,
          "BS": 16,
          "BodyTemp": 98,
          "DiastolicBP": 100,
          "HeartRate": 75,
          "RiskLevel": "mid risk",
          "SystolicBP": 130
         },
         {
          "Age": 48,
          "BS": 11,
          "BodyTemp": 98,
          "DiastolicBP": 80,
          "HeartRate": 88,
          "RiskLevel": "high risk",
          "SystolicBP": 120
         },
         {
          "Age": 21,
          "BS": 6.9,
          "BodyTemp": 98,
          "DiastolicBP": 80,
          "HeartRate": 76,
          "RiskLevel": "mid risk",
          "SystolicBP": 120
         },
         {
          "Age": 12,
          "BS": 7.2,
          "BodyTemp": 98,
          "DiastolicBP": 60,
          "HeartRate": 77,
          "RiskLevel": "low risk",
          "SystolicBP": 95
         },
         {
          "Age": 25,
          "BS": 6.9,
          "BodyTemp": 98,
          "DiastolicBP": 90,
          "HeartRate": 76,
          "RiskLevel": "low risk",
          "SystolicBP": 100
         },
         {
          "Age": 25,
          "BS": 6.8,
          "BodyTemp": 98,
          "DiastolicBP": 80,
          "HeartRate": 66,
          "RiskLevel": "mid risk",
          "SystolicBP": 120
         },
         {
          "Age": 17,
          "BS": 7.8,
          "BodyTemp": 102,
          "DiastolicBP": 69,
          "HeartRate": 86,
          "RiskLevel": "high risk",
          "SystolicBP": 85
         },
         {
          "Age": 19,
          "BS": 7,
          "BodyTemp": 98,
          "DiastolicBP": 80,
          "HeartRate": 70,
          "RiskLevel": "mid risk",
          "SystolicBP": 120
         },
         {
          "Age": 23,
          "BS": 7.5,
          "BodyTemp": 98,
          "DiastolicBP": 65,
          "HeartRate": 70,
          "RiskLevel": "low risk",
          "SystolicBP": 85
         },
         {
          "Age": 12,
          "BS": 7.8,
          "BodyTemp": 102,
          "DiastolicBP": 60,
          "HeartRate": 60,
          "RiskLevel": "high risk",
          "SystolicBP": 90
         },
         {
          "Age": 43,
          "BS": 18,
          "BodyTemp": 98,
          "DiastolicBP": 90,
          "HeartRate": 70,
          "RiskLevel": "high risk",
          "SystolicBP": 120
         },
         {
          "Age": 19,
          "BS": 7.5,
          "BodyTemp": 98,
          "DiastolicBP": 76,
          "HeartRate": 66,
          "RiskLevel": "low risk",
          "SystolicBP": 120
         },
         {
          "Age": 54,
          "BS": 15,
          "BodyTemp": 98,
          "DiastolicBP": 100,
          "HeartRate": 66,
          "RiskLevel": "high risk",
          "SystolicBP": 140
         },
         {
          "Age": 55,
          "BS": 7.5,
          "BodyTemp": 98,
          "DiastolicBP": 85,
          "HeartRate": 88,
          "RiskLevel": "low risk",
          "SystolicBP": 129
         },
         {
          "Age": 21,
          "BS": 6.9,
          "BodyTemp": 98,
          "DiastolicBP": 65,
          "HeartRate": 76,
          "RiskLevel": "mid risk",
          "SystolicBP": 90
         },
         {
          "Age": 17,
          "BS": 12,
          "BodyTemp": 101,
          "DiastolicBP": 75,
          "HeartRate": 76,
          "RiskLevel": "high risk",
          "SystolicBP": 110
         },
         {
          "Age": 21,
          "BS": 7,
          "BodyTemp": 98,
          "DiastolicBP": 80,
          "HeartRate": 77,
          "RiskLevel": "low risk",
          "SystolicBP": 120
         },
         {
          "Age": 19,
          "BS": 7.9,
          "BodyTemp": 98,
          "DiastolicBP": 85,
          "HeartRate": 60,
          "RiskLevel": "low risk",
          "SystolicBP": 120
         },
         {
          "Age": 15,
          "BS": 6.7,
          "BodyTemp": 98,
          "DiastolicBP": 60,
          "HeartRate": 80,
          "RiskLevel": "low risk",
          "SystolicBP": 80
         },
         {
          "Age": 13,
          "BS": 7.9,
          "BodyTemp": 101,
          "DiastolicBP": 65,
          "HeartRate": 80,
          "RiskLevel": "mid risk",
          "SystolicBP": 90
         },
         {
          "Age": 12,
          "BS": 6.8,
          "BodyTemp": 98,
          "DiastolicBP": 90,
          "HeartRate": 80,
          "RiskLevel": "mid risk",
          "SystolicBP": 120
         },
         {
          "Age": 19,
          "BS": 7,
          "BodyTemp": 98,
          "DiastolicBP": 80,
          "HeartRate": 70,
          "RiskLevel": "mid risk",
          "SystolicBP": 120
         },
         {
          "Age": 28,
          "BS": 7.5,
          "BodyTemp": 98,
          "DiastolicBP": 60,
          "HeartRate": 82,
          "RiskLevel": "mid risk",
          "SystolicBP": 90
         },
         {
          "Age": 12,
          "BS": 6.8,
          "BodyTemp": 98,
          "DiastolicBP": 90,
          "HeartRate": 80,
          "RiskLevel": "mid risk",
          "SystolicBP": 120
         },
         {
          "Age": 17,
          "BS": 9,
          "BodyTemp": 102,
          "DiastolicBP": 60,
          "HeartRate": 86,
          "RiskLevel": "mid risk",
          "SystolicBP": 90
         },
         {
          "Age": 15,
          "BS": 7.5,
          "BodyTemp": 98,
          "DiastolicBP": 49,
          "HeartRate": 77,
          "RiskLevel": "low risk",
          "SystolicBP": 78
         },
         {
          "Age": 19,
          "BS": 9,
          "BodyTemp": 98,
          "DiastolicBP": 85,
          "HeartRate": 60,
          "RiskLevel": "mid risk",
          "SystolicBP": 120
         },
         {
          "Age": 13,
          "BS": 9,
          "BodyTemp": 101,
          "DiastolicBP": 65,
          "HeartRate": 80,
          "RiskLevel": "high risk",
          "SystolicBP": 90
         },
         {
          "Age": 19,
          "BS": 7.9,
          "BodyTemp": 98,
          "DiastolicBP": 85,
          "HeartRate": 60,
          "RiskLevel": "low risk",
          "SystolicBP": 120
         },
         {
          "Age": 42,
          "BS": 18,
          "BodyTemp": 98,
          "DiastolicBP": 80,
          "HeartRate": 70,
          "RiskLevel": "high risk",
          "SystolicBP": 130
         },
         {
          "Age": 12,
          "BS": 7.5,
          "BodyTemp": 102,
          "DiastolicBP": 60,
          "HeartRate": 66,
          "RiskLevel": "mid risk",
          "SystolicBP": 90
         },
         {
          "Age": 19,
          "BS": 7.7,
          "BodyTemp": 98,
          "DiastolicBP": 70,
          "HeartRate": 80,
          "RiskLevel": "low risk",
          "SystolicBP": 90
         },
         {
          "Age": 60,
          "BS": 6.8,
          "BodyTemp": 98,
          "DiastolicBP": 65,
          "HeartRate": 77,
          "RiskLevel": "mid risk",
          "SystolicBP": 90
         },
         {
          "Age": 17,
          "BS": 6.7,
          "BodyTemp": 102,
          "DiastolicBP": 80,
          "HeartRate": 76,
          "RiskLevel": "mid risk",
          "SystolicBP": 120
         },
         {
          "Age": 22,
          "BS": 12,
          "BodyTemp": 98,
          "DiastolicBP": 65,
          "HeartRate": 80,
          "RiskLevel": "high risk",
          "SystolicBP": 100
         },
         {
          "Age": 60,
          "BS": 7,
          "BodyTemp": 98,
          "DiastolicBP": 65,
          "HeartRate": 77,
          "RiskLevel": "low risk",
          "SystolicBP": 90
         },
         {
          "Age": 29,
          "BS": 6.1,
          "BodyTemp": 98,
          "DiastolicBP": 70,
          "HeartRate": 78,
          "RiskLevel": "mid risk",
          "SystolicBP": 130
         },
         {
          "Age": 18,
          "BS": 6.9,
          "BodyTemp": 98,
          "DiastolicBP": 60,
          "HeartRate": 70,
          "RiskLevel": "mid risk",
          "SystolicBP": 90
         },
         {
          "Age": 12,
          "BS": 6.1,
          "BodyTemp": 102,
          "DiastolicBP": 60,
          "HeartRate": 60,
          "RiskLevel": "low risk",
          "SystolicBP": 95
         },
         {
          "Age": 17,
          "BS": 6.9,
          "BodyTemp": 101,
          "DiastolicBP": 63,
          "HeartRate": 70,
          "RiskLevel": "mid risk",
          "SystolicBP": 90
         },
         {
          "Age": 13,
          "BS": 7.8,
          "BodyTemp": 101,
          "DiastolicBP": 65,
          "HeartRate": 80,
          "RiskLevel": "mid risk",
          "SystolicBP": 90
         },
         {
          "Age": 60,
          "BS": 6.8,
          "BodyTemp": 98,
          "DiastolicBP": 65,
          "HeartRate": 77,
          "RiskLevel": "mid risk",
          "SystolicBP": 90
         },
         {
          "Age": 19,
          "BS": 7,
          "BodyTemp": 98,
          "DiastolicBP": 80,
          "HeartRate": 70,
          "RiskLevel": "mid risk",
          "SystolicBP": 120
         },
         {
          "Age": 22,
          "BS": 7.5,
          "BodyTemp": 102,
          "DiastolicBP": 60,
          "HeartRate": 60,
          "RiskLevel": "high risk",
          "SystolicBP": 90
         },
         {
          "Age": 35,
          "BS": 8,
          "BodyTemp": 98,
          "DiastolicBP": 100,
          "HeartRate": 66,
          "RiskLevel": "high risk",
          "SystolicBP": 140
         },
         {
          "Age": 14,
          "BS": 7,
          "BodyTemp": 101,
          "DiastolicBP": 65,
          "HeartRate": 70,
          "RiskLevel": "high risk",
          "SystolicBP": 90
         },
         {
          "Age": 30,
          "BS": 7.9,
          "BodyTemp": 101,
          "DiastolicBP": 80,
          "HeartRate": 76,
          "RiskLevel": "high risk",
          "SystolicBP": 120
         },
         {
          "Age": 35,
          "BS": 7.5,
          "BodyTemp": 98,
          "DiastolicBP": 70,
          "HeartRate": 66,
          "RiskLevel": "low risk",
          "SystolicBP": 100
         },
         {
          "Age": 21,
          "BS": 7.5,
          "BodyTemp": 98,
          "DiastolicBP": 50,
          "HeartRate": 60,
          "RiskLevel": "low risk",
          "SystolicBP": 75
         },
         {
          "Age": 55,
          "BS": 18,
          "BodyTemp": 98,
          "DiastolicBP": 90,
          "HeartRate": 60,
          "RiskLevel": "high risk",
          "SystolicBP": 120
         },
         {
          "Age": 35,
          "BS": 6.1,
          "BodyTemp": 98,
          "DiastolicBP": 70,
          "HeartRate": 66,
          "RiskLevel": "low risk",
          "SystolicBP": 100
         },
         {
          "Age": 55,
          "BS": 6.9,
          "BodyTemp": 102,
          "DiastolicBP": 80,
          "HeartRate": 80,
          "RiskLevel": "low risk",
          "SystolicBP": 120
         },
         {
          "Age": 29,
          "BS": 8,
          "BodyTemp": 100,
          "DiastolicBP": 70,
          "HeartRate": 80,
          "RiskLevel": "high risk",
          "SystolicBP": 90
         },
         {
          "Age": 48,
          "BS": 15,
          "BodyTemp": 98,
          "DiastolicBP": 90,
          "HeartRate": 90,
          "RiskLevel": "high risk",
          "SystolicBP": 140
         },
         {
          "Age": 29,
          "BS": 7.5,
          "BodyTemp": 98,
          "DiastolicBP": 70,
          "HeartRate": 78,
          "RiskLevel": "mid risk",
          "SystolicBP": 130
         },
         {
          "Age": 40,
          "BS": 11,
          "BodyTemp": 98,
          "DiastolicBP": 95,
          "HeartRate": 80,
          "RiskLevel": "mid risk",
          "SystolicBP": 120
         },
         {
          "Age": 20,
          "BS": 7,
          "BodyTemp": 100,
          "DiastolicBP": 60,
          "HeartRate": 70,
          "RiskLevel": "mid risk",
          "SystolicBP": 110
         },
         {
          "Age": 25,
          "BS": 7,
          "BodyTemp": 98,
          "DiastolicBP": 80,
          "HeartRate": 66,
          "RiskLevel": "low risk",
          "SystolicBP": 120
         },
         {
          "Age": 35,
          "BS": 7.5,
          "BodyTemp": 98,
          "DiastolicBP": 70,
          "HeartRate": 66,
          "RiskLevel": "low risk",
          "SystolicBP": 100
         },
         {
          "Age": 60,
          "BS": 6.8,
          "BodyTemp": 98,
          "DiastolicBP": 80,
          "HeartRate": 77,
          "RiskLevel": "mid risk",
          "SystolicBP": 120
         },
         {
          "Age": 40,
          "BS": 6.9,
          "BodyTemp": 98,
          "DiastolicBP": 90,
          "HeartRate": 80,
          "RiskLevel": "low risk",
          "SystolicBP": 120
         },
         {
          "Age": 36,
          "BS": 7,
          "BodyTemp": 98,
          "DiastolicBP": 90,
          "HeartRate": 82,
          "RiskLevel": "mid risk",
          "SystolicBP": 120
         },
         {
          "Age": 65,
          "BS": 6.9,
          "BodyTemp": 103,
          "DiastolicBP": 90,
          "HeartRate": 76,
          "RiskLevel": "low risk",
          "SystolicBP": 120
         },
         {
          "Age": 35,
          "BS": 6.8,
          "BodyTemp": 98,
          "DiastolicBP": 70,
          "HeartRate": 60,
          "RiskLevel": "mid risk",
          "SystolicBP": 100
         },
         {
          "Age": 38,
          "BS": 7.9,
          "BodyTemp": 101,
          "DiastolicBP": 60,
          "HeartRate": 86,
          "RiskLevel": "high risk",
          "SystolicBP": 135
         },
         {
          "Age": 23,
          "BS": 6.4,
          "BodyTemp": 98,
          "DiastolicBP": 60,
          "HeartRate": 76,
          "RiskLevel": "low risk",
          "SystolicBP": 90
         },
         {
          "Age": 55,
          "BS": 7.5,
          "BodyTemp": 98,
          "DiastolicBP": 65,
          "HeartRate": 66,
          "RiskLevel": "low risk",
          "SystolicBP": 100
         },
         {
          "Age": 20,
          "BS": 7.5,
          "BodyTemp": 98,
          "DiastolicBP": 90,
          "HeartRate": 88,
          "RiskLevel": "low risk",
          "SystolicBP": 100
         },
         {
          "Age": 54,
          "BS": 12,
          "BodyTemp": 98,
          "DiastolicBP": 70,
          "HeartRate": 67,
          "RiskLevel": "mid risk",
          "SystolicBP": 130
         },
         {
          "Age": 23,
          "BS": 7.5,
          "BodyTemp": 98,
          "DiastolicBP": 60,
          "HeartRate": 76,
          "RiskLevel": "low risk",
          "SystolicBP": 90
         },
         {
          "Age": 29,
          "BS": 11,
          "BodyTemp": 100,
          "DiastolicBP": 70,
          "HeartRate": 80,
          "RiskLevel": "high risk",
          "SystolicBP": 90
         },
         {
          "Age": 30,
          "BS": 15,
          "BodyTemp": 98,
          "DiastolicBP": 100,
          "HeartRate": 70,
          "RiskLevel": "high risk",
          "SystolicBP": 140
         },
         {
          "Age": 29,
          "BS": 7.8,
          "BodyTemp": 98,
          "DiastolicBP": 70,
          "HeartRate": 78,
          "RiskLevel": "mid risk",
          "SystolicBP": 130
         },
         {
          "Age": 17,
          "BS": 6.7,
          "BodyTemp": 102,
          "DiastolicBP": 80,
          "HeartRate": 76,
          "RiskLevel": "mid risk",
          "SystolicBP": 120
         },
         {
          "Age": 28,
          "BS": 9,
          "BodyTemp": 101,
          "DiastolicBP": 60,
          "HeartRate": 86,
          "RiskLevel": "mid risk",
          "SystolicBP": 85
         },
         {
          "Age": 23,
          "BS": 7.5,
          "BodyTemp": 98,
          "DiastolicBP": 80,
          "HeartRate": 70,
          "RiskLevel": "mid risk",
          "SystolicBP": 120
         },
         {
          "Age": 40,
          "BS": 19,
          "BodyTemp": 98,
          "DiastolicBP": 100,
          "HeartRate": 77,
          "RiskLevel": "high risk",
          "SystolicBP": 160
         },
         {
          "Age": 50,
          "BS": 15,
          "BodyTemp": 98,
          "DiastolicBP": 90,
          "HeartRate": 90,
          "RiskLevel": "high risk",
          "SystolicBP": 140
         },
         {
          "Age": 40,
          "BS": 11,
          "BodyTemp": 98,
          "DiastolicBP": 95,
          "HeartRate": 80,
          "RiskLevel": "high risk",
          "SystolicBP": 120
         },
         {
          "Age": 25,
          "BS": 7.01,
          "BodyTemp": 98,
          "DiastolicBP": 100,
          "HeartRate": 80,
          "RiskLevel": "high risk",
          "SystolicBP": 140
         },
         {
          "Age": 28,
          "BS": 9,
          "BodyTemp": 101,
          "DiastolicBP": 60,
          "HeartRate": 86,
          "RiskLevel": "mid risk",
          "SystolicBP": 85
         },
         {
          "Age": 19,
          "BS": 7.8,
          "BodyTemp": 98,
          "DiastolicBP": 85,
          "HeartRate": 60,
          "RiskLevel": "mid risk",
          "SystolicBP": 120
         },
         {
          "Age": 25,
          "BS": 12,
          "BodyTemp": 101,
          "DiastolicBP": 90,
          "HeartRate": 80,
          "RiskLevel": "high risk",
          "SystolicBP": 120
         },
         {
          "Age": 65,
          "BS": 6.9,
          "BodyTemp": 98,
          "DiastolicBP": 60,
          "HeartRate": 70,
          "RiskLevel": "low risk",
          "SystolicBP": 90
         },
         {
          "Age": 17,
          "BS": 7.8,
          "BodyTemp": 103,
          "DiastolicBP": 65,
          "HeartRate": 67,
          "RiskLevel": "high risk",
          "SystolicBP": 90
         },
         {
          "Age": 22,
          "BS": 7.8,
          "BodyTemp": 98,
          "DiastolicBP": 90,
          "HeartRate": 82,
          "RiskLevel": "mid risk",
          "SystolicBP": 120
         },
         {
          "Age": 17,
          "BS": 7.5,
          "BodyTemp": 101,
          "DiastolicBP": 63,
          "HeartRate": 70,
          "RiskLevel": "low risk",
          "SystolicBP": 90
         }
        ]
       },
       "title": "Distribution of predictors for each Risk Level",
       "vconcat": [
        {
         "hconcat": [
          {
           "encoding": {
            "color": {
             "field": "RiskLevel",
             "type": "nominal"
            },
            "x": {
             "field": "Age",
             "type": "quantitative"
            },
            "y": {
             "field": "density",
             "type": "quantitative"
            }
           },
           "height": 200,
           "mark": "line",
           "transform": [
            {
             "as": [
              "Age",
              "density"
             ],
             "density": "Age",
             "groupby": [
              "RiskLevel"
             ]
            }
           ],
           "width": 200
          },
          {
           "encoding": {
            "color": {
             "field": "RiskLevel",
             "type": "nominal"
            },
            "x": {
             "field": "SystolicBP",
             "type": "quantitative"
            },
            "y": {
             "field": "density",
             "type": "quantitative"
            }
           },
           "height": 200,
           "mark": "line",
           "transform": [
            {
             "as": [
              "SystolicBP",
              "density"
             ],
             "density": "SystolicBP",
             "groupby": [
              "RiskLevel"
             ]
            }
           ],
           "width": 200
          },
          {
           "encoding": {
            "color": {
             "field": "RiskLevel",
             "type": "nominal"
            },
            "x": {
             "field": "DiastolicBP",
             "type": "quantitative"
            },
            "y": {
             "field": "density",
             "type": "quantitative"
            }
           },
           "height": 200,
           "mark": "line",
           "transform": [
            {
             "as": [
              "DiastolicBP",
              "density"
             ],
             "density": "DiastolicBP",
             "groupby": [
              "RiskLevel"
             ]
            }
           ],
           "width": 200
          }
         ]
        },
        {
         "hconcat": [
          {
           "encoding": {
            "color": {
             "field": "RiskLevel",
             "type": "nominal"
            },
            "x": {
             "field": "BS",
             "type": "quantitative"
            },
            "y": {
             "field": "density",
             "type": "quantitative"
            }
           },
           "height": 200,
           "mark": "line",
           "transform": [
            {
             "as": [
              "BS",
              "density"
             ],
             "density": "BS",
             "groupby": [
              "RiskLevel"
             ]
            }
           ],
           "width": 200
          },
          {
           "encoding": {
            "color": {
             "field": "RiskLevel",
             "type": "nominal"
            },
            "x": {
             "field": "BodyTemp",
             "type": "quantitative"
            },
            "y": {
             "field": "density",
             "type": "quantitative"
            }
           },
           "height": 200,
           "mark": "line",
           "transform": [
            {
             "as": [
              "BodyTemp",
              "density"
             ],
             "density": "BodyTemp",
             "groupby": [
              "RiskLevel"
             ]
            }
           ],
           "width": 200
          },
          {
           "encoding": {
            "color": {
             "field": "RiskLevel",
             "type": "nominal"
            },
            "x": {
             "field": "HeartRate",
             "type": "quantitative"
            },
            "y": {
             "field": "density",
             "type": "quantitative"
            }
           },
           "height": 200,
           "mark": "line",
           "transform": [
            {
             "as": [
              "HeartRate",
              "density"
             ],
             "density": "HeartRate",
             "groupby": [
              "RiskLevel"
             ]
            }
           ],
           "width": 200
          }
         ]
        }
       ]
      },
      "image/png": "[encoded data removed]",
      "text/plain": [
       "<VegaLite 4 object>\n",
       "\n",
       "If you see this message, it means the renderer has not been properly enabled\n",
       "for the frontend that you are using. For more information, see\n",
       "https://altair-viz.github.io/user_guide/troubleshooting.html\n"
      ]
     },
     "execution_count": 12,
     "metadata": {},
     "output_type": "execute_result"
    }
   ],
   "source": [
    "((Age | SystolicBP | DiastolicBP) & (BS | BodyTemp | HeartRate)).properties(title='Distribution of predictors for each Risk Level')"
   ]
  },
  {
   "cell_type": "markdown",
   "id": "8369c3c0-7dcc-4a61-845c-b4f507740d82",
   "metadata": {},
   "source": [
    "Figure 2.  Distribution of training set predictors for high risk, mid risk and low risk"
   ]
  },
  {
   "cell_type": "markdown",
   "id": "8c5f4b6e-b4a0-4d4e-bd4f-11b965ff5159",
   "metadata": {},
   "source": [
    "From the figure above, we can see that in SystolicBP and DiastolicBP, observations with high value in both of the categories are mostly associated with high maternity risk level. We can see that low blood glucose level is more associated with mid and low maternity risk level, while the density of high risk level in blood glucose level is the same throughout. For other predictors, we can see that the distribution is similar across all three risk levels."
   ]
  },
  {
   "cell_type": "markdown",
   "id": "89630cd1-b124-4648-bde2-697ca223c9dc",
   "metadata": {},
   "source": [
    "To explore whether there is any interesting relationship between the predictors, we have plotted a correlation matrix and pairwise scatter plots for all the predictors."
   ]
  },
  {
   "cell_type": "code",
   "execution_count": 13,
   "id": "eb96bb5f-3f16-489f-b0ce-2f1dc0cc8f72",
   "metadata": {},
   "outputs": [
    {
     "data": {
      "text/html": [
       "<style type=\"text/css\">\n",
       "#T_df9df_row0_col0, #T_df9df_row1_col1, #T_df9df_row2_col2, #T_df9df_row3_col3, #T_df9df_row4_col4, #T_df9df_row5_col5 {\n",
       "  background-color: #023858;\n",
       "  color: #f1f1f1;\n",
       "}\n",
       "#T_df9df_row0_col1 {\n",
       "  background-color: #4697c4;\n",
       "  color: #f1f1f1;\n",
       "}\n",
       "#T_df9df_row0_col2 {\n",
       "  background-color: #5a9ec9;\n",
       "  color: #f1f1f1;\n",
       "}\n",
       "#T_df9df_row0_col3 {\n",
       "  background-color: #b5c4df;\n",
       "  color: #000000;\n",
       "}\n",
       "#T_df9df_row0_col4, #T_df9df_row2_col5, #T_df9df_row4_col0, #T_df9df_row4_col1, #T_df9df_row4_col2, #T_df9df_row4_col3 {\n",
       "  background-color: #fff7fb;\n",
       "  color: #000000;\n",
       "}\n",
       "#T_df9df_row0_col5 {\n",
       "  background-color: #ede8f3;\n",
       "  color: #000000;\n",
       "}\n",
       "#T_df9df_row1_col0 {\n",
       "  background-color: #4295c3;\n",
       "  color: #f1f1f1;\n",
       "}\n",
       "#T_df9df_row1_col2, #T_df9df_row2_col1 {\n",
       "  background-color: #0566a0;\n",
       "  color: #f1f1f1;\n",
       "}\n",
       "#T_df9df_row1_col3 {\n",
       "  background-color: #cdd0e5;\n",
       "  color: #000000;\n",
       "}\n",
       "#T_df9df_row1_col4 {\n",
       "  background-color: #fcf4fa;\n",
       "  color: #000000;\n",
       "}\n",
       "#T_df9df_row1_col5, #T_df9df_row2_col4 {\n",
       "  background-color: #fbf3f9;\n",
       "  color: #000000;\n",
       "}\n",
       "#T_df9df_row2_col0 {\n",
       "  background-color: #529bc7;\n",
       "  color: #f1f1f1;\n",
       "}\n",
       "#T_df9df_row2_col3 {\n",
       "  background-color: #b7c5df;\n",
       "  color: #000000;\n",
       "}\n",
       "#T_df9df_row3_col0 {\n",
       "  background-color: #7bacd1;\n",
       "  color: #f1f1f1;\n",
       "}\n",
       "#T_df9df_row3_col1 {\n",
       "  background-color: #96b6d7;\n",
       "  color: #000000;\n",
       "}\n",
       "#T_df9df_row3_col2 {\n",
       "  background-color: #83afd3;\n",
       "  color: #f1f1f1;\n",
       "}\n",
       "#T_df9df_row3_col4 {\n",
       "  background-color: #d5d5e8;\n",
       "  color: #000000;\n",
       "}\n",
       "#T_df9df_row3_col5 {\n",
       "  background-color: #e2dfee;\n",
       "  color: #000000;\n",
       "}\n",
       "#T_df9df_row4_col5 {\n",
       "  background-color: #eae6f1;\n",
       "  color: #000000;\n",
       "}\n",
       "#T_df9df_row5_col0 {\n",
       "  background-color: #c1cae2;\n",
       "  color: #000000;\n",
       "}\n",
       "#T_df9df_row5_col1 {\n",
       "  background-color: #d9d8ea;\n",
       "  color: #000000;\n",
       "}\n",
       "#T_df9df_row5_col2 {\n",
       "  background-color: #e0deed;\n",
       "  color: #000000;\n",
       "}\n",
       "#T_df9df_row5_col3 {\n",
       "  background-color: #e9e5f1;\n",
       "  color: #000000;\n",
       "}\n",
       "#T_df9df_row5_col4 {\n",
       "  background-color: #bdc8e1;\n",
       "  color: #000000;\n",
       "}\n",
       "</style>\n",
       "<table id=\"T_df9df\">\n",
       "  <thead>\n",
       "    <tr>\n",
       "      <th class=\"blank level0\" >&nbsp;</th>\n",
       "      <th id=\"T_df9df_level0_col0\" class=\"col_heading level0 col0\" >Age</th>\n",
       "      <th id=\"T_df9df_level0_col1\" class=\"col_heading level0 col1\" >SystolicBP</th>\n",
       "      <th id=\"T_df9df_level0_col2\" class=\"col_heading level0 col2\" >DiastolicBP</th>\n",
       "      <th id=\"T_df9df_level0_col3\" class=\"col_heading level0 col3\" >BS</th>\n",
       "      <th id=\"T_df9df_level0_col4\" class=\"col_heading level0 col4\" >BodyTemp</th>\n",
       "      <th id=\"T_df9df_level0_col5\" class=\"col_heading level0 col5\" >HeartRate</th>\n",
       "    </tr>\n",
       "  </thead>\n",
       "  <tbody>\n",
       "    <tr>\n",
       "      <th id=\"T_df9df_level0_row0\" class=\"row_heading level0 row0\" >Age</th>\n",
       "      <td id=\"T_df9df_row0_col0\" class=\"data row0 col0\" >1.000000</td>\n",
       "      <td id=\"T_df9df_row0_col1\" class=\"data row0 col1\" >0.473240</td>\n",
       "      <td id=\"T_df9df_row0_col2\" class=\"data row0 col2\" >0.430211</td>\n",
       "      <td id=\"T_df9df_row0_col3\" class=\"data row0 col3\" >0.318194</td>\n",
       "      <td id=\"T_df9df_row0_col4\" class=\"data row0 col4\" >-0.317851</td>\n",
       "      <td id=\"T_df9df_row0_col5\" class=\"data row0 col5\" >0.072938</td>\n",
       "    </tr>\n",
       "    <tr>\n",
       "      <th id=\"T_df9df_level0_row1\" class=\"row_heading level0 row1\" >SystolicBP</th>\n",
       "      <td id=\"T_df9df_row1_col0\" class=\"data row1 col0\" >0.473240</td>\n",
       "      <td id=\"T_df9df_row1_col1\" class=\"data row1 col1\" >1.000000</td>\n",
       "      <td id=\"T_df9df_row1_col2\" class=\"data row1 col2\" >0.752019</td>\n",
       "      <td id=\"T_df9df_row1_col3\" class=\"data row1 col3\" >0.249512</td>\n",
       "      <td id=\"T_df9df_row1_col4\" class=\"data row1 col4\" >-0.288564</td>\n",
       "      <td id=\"T_df9df_row1_col5\" class=\"data row1 col5\" >-0.021214</td>\n",
       "    </tr>\n",
       "    <tr>\n",
       "      <th id=\"T_df9df_level0_row2\" class=\"row_heading level0 row2\" >DiastolicBP</th>\n",
       "      <td id=\"T_df9df_row2_col0\" class=\"data row2 col0\" >0.430211</td>\n",
       "      <td id=\"T_df9df_row2_col1\" class=\"data row2 col1\" >0.752019</td>\n",
       "      <td id=\"T_df9df_row2_col2\" class=\"data row2 col2\" >1.000000</td>\n",
       "      <td id=\"T_df9df_row2_col3\" class=\"data row2 col3\" >0.314118</td>\n",
       "      <td id=\"T_df9df_row2_col4\" class=\"data row2 col4\" >-0.278765</td>\n",
       "      <td id=\"T_df9df_row2_col5\" class=\"data row2 col5\" >-0.052615</td>\n",
       "    </tr>\n",
       "    <tr>\n",
       "      <th id=\"T_df9df_level0_row3\" class=\"row_heading level0 row3\" >BS</th>\n",
       "      <td id=\"T_df9df_row3_col0\" class=\"data row3 col0\" >0.318194</td>\n",
       "      <td id=\"T_df9df_row3_col1\" class=\"data row3 col1\" >0.249512</td>\n",
       "      <td id=\"T_df9df_row3_col2\" class=\"data row3 col2\" >0.314118</td>\n",
       "      <td id=\"T_df9df_row3_col3\" class=\"data row3 col3\" >1.000000</td>\n",
       "      <td id=\"T_df9df_row3_col4\" class=\"data row3 col4\" >-0.015323</td>\n",
       "      <td id=\"T_df9df_row3_col5\" class=\"data row3 col5\" >0.124527</td>\n",
       "    </tr>\n",
       "    <tr>\n",
       "      <th id=\"T_df9df_level0_row4\" class=\"row_heading level0 row4\" >BodyTemp</th>\n",
       "      <td id=\"T_df9df_row4_col0\" class=\"data row4 col0\" >-0.317851</td>\n",
       "      <td id=\"T_df9df_row4_col1\" class=\"data row4 col1\" >-0.288564</td>\n",
       "      <td id=\"T_df9df_row4_col2\" class=\"data row4 col2\" >-0.278765</td>\n",
       "      <td id=\"T_df9df_row4_col3\" class=\"data row4 col3\" >-0.015323</td>\n",
       "      <td id=\"T_df9df_row4_col4\" class=\"data row4 col4\" >1.000000</td>\n",
       "      <td id=\"T_df9df_row4_col5\" class=\"data row4 col5\" >0.088351</td>\n",
       "    </tr>\n",
       "    <tr>\n",
       "      <th id=\"T_df9df_level0_row5\" class=\"row_heading level0 row5\" >HeartRate</th>\n",
       "      <td id=\"T_df9df_row5_col0\" class=\"data row5 col0\" >0.072938</td>\n",
       "      <td id=\"T_df9df_row5_col1\" class=\"data row5 col1\" >-0.021214</td>\n",
       "      <td id=\"T_df9df_row5_col2\" class=\"data row5 col2\" >-0.052615</td>\n",
       "      <td id=\"T_df9df_row5_col3\" class=\"data row5 col3\" >0.124527</td>\n",
       "      <td id=\"T_df9df_row5_col4\" class=\"data row5 col4\" >0.088351</td>\n",
       "      <td id=\"T_df9df_row5_col5\" class=\"data row5 col5\" >1.000000</td>\n",
       "    </tr>\n",
       "  </tbody>\n",
       "</table>\n"
      ],
      "text/plain": [
       "<pandas.io.formats.style.Styler at 0x1047e7ca0>"
      ]
     },
     "execution_count": 13,
     "metadata": {},
     "output_type": "execute_result"
    }
   ],
   "source": [
    "train_df.corr('spearman').style.background_gradient()"
   ]
  },
  {
   "cell_type": "markdown",
   "id": "56384fe1-d8e4-4750-aa15-0dd8aa115ffd",
   "metadata": {},
   "source": [
    "Table 4. Correlation matrix of all predictors"
   ]
  },
  {
   "cell_type": "code",
   "execution_count": 14,
   "id": "d1253398-19e9-4206-aee1-f96d8aeddb89",
   "metadata": {
    "tags": []
   },
   "outputs": [
    {
     "data": {
      "application/vnd.vegalite.v4+json": {
       "$schema": "https://vega.github.io/schema/vega-lite/v4.17.0.json",
       "config": {
        "view": {
         "continuousHeight": 300,
         "continuousWidth": 400
        }
       },
       "datasets": {
        "data-7e8bbd2fbc54621a767bfe5b6ae44e13": [
         {
          "Age": 60,
          "BS": 7.8,
          "BodyTemp": 98,
          "DiastolicBP": 80,
          "HeartRate": 75,
          "RiskLevel": "high risk",
          "SystolicBP": 120
         },
         {
          "Age": 39,
          "BS": 7.9,
          "BodyTemp": 98,
          "DiastolicBP": 70,
          "HeartRate": 80,
          "RiskLevel": "mid risk",
          "SystolicBP": 110
         },
         {
          "Age": 19,
          "BS": 7,
          "BodyTemp": 98,
          "DiastolicBP": 80,
          "HeartRate": 70,
          "RiskLevel": "mid risk",
          "SystolicBP": 120
         },
         {
          "Age": 22,
          "BS": 15,
          "BodyTemp": 98,
          "DiastolicBP": 60,
          "HeartRate": 80,
          "RiskLevel": "high risk",
          "SystolicBP": 120
         },
         {
          "Age": 19,
          "BS": 7,
          "BodyTemp": 98,
          "DiastolicBP": 80,
          "HeartRate": 70,
          "RiskLevel": "low risk",
          "SystolicBP": 120
         },
         {
          "Age": 19,
          "BS": 7,
          "BodyTemp": 98,
          "DiastolicBP": 80,
          "HeartRate": 70,
          "RiskLevel": "mid risk",
          "SystolicBP": 120
         },
         {
          "Age": 29,
          "BS": 6.7,
          "BodyTemp": 98,
          "DiastolicBP": 70,
          "HeartRate": 78,
          "RiskLevel": "mid risk",
          "SystolicBP": 130
         },
         {
          "Age": 21,
          "BS": 7.5,
          "BodyTemp": 98,
          "DiastolicBP": 80,
          "HeartRate": 77,
          "RiskLevel": "low risk",
          "SystolicBP": 120
         },
         {
          "Age": 34,
          "BS": 8,
          "BodyTemp": 98,
          "DiastolicBP": 75,
          "HeartRate": 70,
          "RiskLevel": "low risk",
          "SystolicBP": 120
         },
         {
          "Age": 23,
          "BS": 7,
          "BodyTemp": 98,
          "DiastolicBP": 85,
          "HeartRate": 66,
          "RiskLevel": "low risk",
          "SystolicBP": 100
         },
         {
          "Age": 60,
          "BS": 15,
          "BodyTemp": 98,
          "DiastolicBP": 85,
          "HeartRate": 60,
          "RiskLevel": "mid risk",
          "SystolicBP": 120
         },
         {
          "Age": 28,
          "BS": 7.2,
          "BodyTemp": 98,
          "DiastolicBP": 60,
          "HeartRate": 82,
          "RiskLevel": "low risk",
          "SystolicBP": 90
         },
         {
          "Age": 21,
          "BS": 6.9,
          "BodyTemp": 98,
          "DiastolicBP": 50,
          "HeartRate": 60,
          "RiskLevel": "low risk",
          "SystolicBP": 90
         },
         {
          "Age": 22,
          "BS": 7.8,
          "BodyTemp": 98,
          "DiastolicBP": 90,
          "HeartRate": 82,
          "RiskLevel": "mid risk",
          "SystolicBP": 120
         },
         {
          "Age": 23,
          "BS": 6.9,
          "BodyTemp": 98,
          "DiastolicBP": 70,
          "HeartRate": 70,
          "RiskLevel": "mid risk",
          "SystolicBP": 130
         },
         {
          "Age": 56,
          "BS": 13,
          "BodyTemp": 98,
          "DiastolicBP": 80,
          "HeartRate": 70,
          "RiskLevel": "high risk",
          "SystolicBP": 120
         },
         {
          "Age": 40,
          "BS": 18,
          "BodyTemp": 98,
          "DiastolicBP": 100,
          "HeartRate": 77,
          "RiskLevel": "high risk",
          "SystolicBP": 140
         },
         {
          "Age": 23,
          "BS": 7.8,
          "BodyTemp": 98,
          "DiastolicBP": 90,
          "HeartRate": 60,
          "RiskLevel": "mid risk",
          "SystolicBP": 120
         },
         {
          "Age": 15,
          "BS": 7.9,
          "BodyTemp": 98,
          "DiastolicBP": 49,
          "HeartRate": 77,
          "RiskLevel": "low risk",
          "SystolicBP": 76
         },
         {
          "Age": 22,
          "BS": 6.8,
          "BodyTemp": 98,
          "DiastolicBP": 65,
          "HeartRate": 88,
          "RiskLevel": "low risk",
          "SystolicBP": 100
         },
         {
          "Age": 40,
          "BS": 11,
          "BodyTemp": 98,
          "DiastolicBP": 95,
          "HeartRate": 80,
          "RiskLevel": "high risk",
          "SystolicBP": 120
         },
         {
          "Age": 19,
          "BS": 7,
          "BodyTemp": 98,
          "DiastolicBP": 80,
          "HeartRate": 70,
          "RiskLevel": "mid risk",
          "SystolicBP": 120
         },
         {
          "Age": 17,
          "BS": 7.5,
          "BodyTemp": 101,
          "DiastolicBP": 60,
          "HeartRate": 76,
          "RiskLevel": "low risk",
          "SystolicBP": 90
         },
         {
          "Age": 55,
          "BS": 6.9,
          "BodyTemp": 98,
          "DiastolicBP": 90,
          "HeartRate": 76,
          "RiskLevel": "low risk",
          "SystolicBP": 120
         },
         {
          "Age": 48,
          "BS": 11,
          "BodyTemp": 98,
          "DiastolicBP": 80,
          "HeartRate": 88,
          "RiskLevel": "low risk",
          "SystolicBP": 120
         },
         {
          "Age": 22,
          "BS": 6.8,
          "BodyTemp": 98,
          "DiastolicBP": 60,
          "HeartRate": 77,
          "RiskLevel": "mid risk",
          "SystolicBP": 90
         },
         {
          "Age": 21,
          "BS": 7.7,
          "BodyTemp": 98,
          "DiastolicBP": 50,
          "HeartRate": 60,
          "RiskLevel": "low risk",
          "SystolicBP": 75
         },
         {
          "Age": 29,
          "BS": 6.1,
          "BodyTemp": 98,
          "DiastolicBP": 70,
          "HeartRate": 78,
          "RiskLevel": "mid risk",
          "SystolicBP": 130
         },
         {
          "Age": 19,
          "BS": 7.5,
          "BodyTemp": 98,
          "DiastolicBP": 70,
          "HeartRate": 80,
          "RiskLevel": "low risk",
          "SystolicBP": 90
         },
         {
          "Age": 23,
          "BS": 8,
          "BodyTemp": 98,
          "DiastolicBP": 75,
          "HeartRate": 70,
          "RiskLevel": "mid risk",
          "SystolicBP": 120
         },
         {
          "Age": 22,
          "BS": 7.5,
          "BodyTemp": 98,
          "DiastolicBP": 65,
          "HeartRate": 70,
          "RiskLevel": "mid risk",
          "SystolicBP": 100
         },
         {
          "Age": 22,
          "BS": 7.5,
          "BodyTemp": 98,
          "DiastolicBP": 65,
          "HeartRate": 70,
          "RiskLevel": "low risk",
          "SystolicBP": 100
         },
         {
          "Age": 50,
          "BS": 16,
          "BodyTemp": 98,
          "DiastolicBP": 100,
          "HeartRate": 76,
          "RiskLevel": "high risk",
          "SystolicBP": 130
         },
         {
          "Age": 28,
          "BS": 7.5,
          "BodyTemp": 101,
          "DiastolicBP": 60,
          "HeartRate": 86,
          "RiskLevel": "mid risk",
          "SystolicBP": 115
         },
         {
          "Age": 66,
          "BS": 6.9,
          "BodyTemp": 98,
          "DiastolicBP": 60,
          "HeartRate": 86,
          "RiskLevel": "low risk",
          "SystolicBP": 85
         },
         {
          "Age": 20,
          "BS": 7.01,
          "BodyTemp": 100,
          "DiastolicBP": 75,
          "HeartRate": 70,
          "RiskLevel": "mid risk",
          "SystolicBP": 120
         },
         {
          "Age": 22,
          "BS": 7.5,
          "BodyTemp": 102,
          "DiastolicBP": 60,
          "HeartRate": 60,
          "RiskLevel": "high risk",
          "SystolicBP": 90
         },
         {
          "Age": 60,
          "BS": 15,
          "BodyTemp": 98,
          "DiastolicBP": 85,
          "HeartRate": 60,
          "RiskLevel": "mid risk",
          "SystolicBP": 120
         },
         {
          "Age": 23,
          "BS": 6.8,
          "BodyTemp": 98,
          "DiastolicBP": 60,
          "HeartRate": 76,
          "RiskLevel": "low risk",
          "SystolicBP": 99
         },
         {
          "Age": 44,
          "BS": 16,
          "BodyTemp": 98,
          "DiastolicBP": 90,
          "HeartRate": 80,
          "RiskLevel": "mid risk",
          "SystolicBP": 120
         },
         {
          "Age": 31,
          "BS": 6.1,
          "BodyTemp": 98,
          "DiastolicBP": 60,
          "HeartRate": 76,
          "RiskLevel": "mid risk",
          "SystolicBP": 120
         },
         {
          "Age": 60,
          "BS": 7.7,
          "BodyTemp": 98,
          "DiastolicBP": 80,
          "HeartRate": 75,
          "RiskLevel": "low risk",
          "SystolicBP": 120
         },
         {
          "Age": 50,
          "BS": 7.5,
          "BodyTemp": 98,
          "DiastolicBP": 80,
          "HeartRate": 70,
          "RiskLevel": "low risk",
          "SystolicBP": 120
         },
         {
          "Age": 32,
          "BS": 8,
          "BodyTemp": 98,
          "DiastolicBP": 100,
          "HeartRate": 70,
          "RiskLevel": "high risk",
          "SystolicBP": 140
         },
         {
          "Age": 15,
          "BS": 6.4,
          "BodyTemp": 98,
          "DiastolicBP": 49,
          "HeartRate": 77,
          "RiskLevel": "low risk",
          "SystolicBP": 76
         },
         {
          "Age": 40,
          "BS": 18,
          "BodyTemp": 98,
          "DiastolicBP": 100,
          "HeartRate": 90,
          "RiskLevel": "high risk",
          "SystolicBP": 140
         },
         {
          "Age": 23,
          "BS": 6.7,
          "BodyTemp": 98,
          "DiastolicBP": 60,
          "HeartRate": 76,
          "RiskLevel": "low risk",
          "SystolicBP": 90
         },
         {
          "Age": 25,
          "BS": 7.8,
          "BodyTemp": 98,
          "DiastolicBP": 80,
          "HeartRate": 66,
          "RiskLevel": "low risk",
          "SystolicBP": 120
         },
         {
          "Age": 21,
          "BS": 6.7,
          "BodyTemp": 98,
          "DiastolicBP": 85,
          "HeartRate": 70,
          "RiskLevel": "low risk",
          "SystolicBP": 100
         },
         {
          "Age": 19,
          "BS": 7,
          "BodyTemp": 98,
          "DiastolicBP": 80,
          "HeartRate": 70,
          "RiskLevel": "mid risk",
          "SystolicBP": 120
         },
         {
          "Age": 15,
          "BS": 6.6,
          "BodyTemp": 99,
          "DiastolicBP": 80,
          "HeartRate": 70,
          "RiskLevel": "low risk",
          "SystolicBP": 120
         },
         {
          "Age": 19,
          "BS": 7,
          "BodyTemp": 98,
          "DiastolicBP": 80,
          "HeartRate": 70,
          "RiskLevel": "mid risk",
          "SystolicBP": 120
         },
         {
          "Age": 21,
          "BS": 6.9,
          "BodyTemp": 98,
          "DiastolicBP": 60,
          "HeartRate": 86,
          "RiskLevel": "mid risk",
          "SystolicBP": 90
         },
         {
          "Age": 55,
          "BS": 18,
          "BodyTemp": 98,
          "DiastolicBP": 90,
          "HeartRate": 60,
          "RiskLevel": "high risk",
          "SystolicBP": 120
         },
         {
          "Age": 29,
          "BS": 7.2,
          "BodyTemp": 100,
          "DiastolicBP": 75,
          "HeartRate": 70,
          "RiskLevel": "high risk",
          "SystolicBP": 120
         },
         {
          "Age": 48,
          "BS": 11,
          "BodyTemp": 98,
          "DiastolicBP": 80,
          "HeartRate": 88,
          "RiskLevel": "low risk",
          "SystolicBP": 120
         },
         {
          "Age": 17,
          "BS": 6.9,
          "BodyTemp": 101,
          "DiastolicBP": 60,
          "HeartRate": 76,
          "RiskLevel": "mid risk",
          "SystolicBP": 90
         },
         {
          "Age": 22,
          "BS": 7.8,
          "BodyTemp": 98,
          "DiastolicBP": 85,
          "HeartRate": 88,
          "RiskLevel": "low risk",
          "SystolicBP": 120
         },
         {
          "Age": 40,
          "BS": 11,
          "BodyTemp": 98,
          "DiastolicBP": 95,
          "HeartRate": 80,
          "RiskLevel": "high risk",
          "SystolicBP": 120
         },
         {
          "Age": 40,
          "BS": 13,
          "BodyTemp": 101,
          "DiastolicBP": 100,
          "HeartRate": 66,
          "RiskLevel": "high risk",
          "SystolicBP": 140
         },
         {
          "Age": 19,
          "BS": 7,
          "BodyTemp": 98,
          "DiastolicBP": 80,
          "HeartRate": 70,
          "RiskLevel": "mid risk",
          "SystolicBP": 120
         },
         {
          "Age": 13,
          "BS": 7.5,
          "BodyTemp": 101,
          "DiastolicBP": 65,
          "HeartRate": 80,
          "RiskLevel": "high risk",
          "SystolicBP": 90
         },
         {
          "Age": 15,
          "BS": 6.8,
          "BodyTemp": 98,
          "DiastolicBP": 49,
          "HeartRate": 77,
          "RiskLevel": "low risk",
          "SystolicBP": 76
         },
         {
          "Age": 42,
          "BS": 7.5,
          "BodyTemp": 98,
          "DiastolicBP": 80,
          "HeartRate": 70,
          "RiskLevel": "low risk",
          "SystolicBP": 120
         },
         {
          "Age": 28,
          "BS": 7.5,
          "BodyTemp": 98,
          "DiastolicBP": 60,
          "HeartRate": 82,
          "RiskLevel": "low risk",
          "SystolicBP": 90
         },
         {
          "Age": 29,
          "BS": 7.7,
          "BodyTemp": 98,
          "DiastolicBP": 70,
          "HeartRate": 78,
          "RiskLevel": "mid risk",
          "SystolicBP": 130
         },
         {
          "Age": 13,
          "BS": 9,
          "BodyTemp": 101,
          "DiastolicBP": 65,
          "HeartRate": 80,
          "RiskLevel": "high risk",
          "SystolicBP": 90
         },
         {
          "Age": 40,
          "BS": 11,
          "BodyTemp": 98,
          "DiastolicBP": 95,
          "HeartRate": 80,
          "RiskLevel": "high risk",
          "SystolicBP": 120
         },
         {
          "Age": 35,
          "BS": 19,
          "BodyTemp": 98,
          "DiastolicBP": 60,
          "HeartRate": 86,
          "RiskLevel": "high risk",
          "SystolicBP": 85
         },
         {
          "Age": 32,
          "BS": 18,
          "BodyTemp": 98,
          "DiastolicBP": 90,
          "HeartRate": 88,
          "RiskLevel": "high risk",
          "SystolicBP": 140
         },
         {
          "Age": 23,
          "BS": 7.5,
          "BodyTemp": 98,
          "DiastolicBP": 80,
          "HeartRate": 70,
          "RiskLevel": "low risk",
          "SystolicBP": 120
         },
         {
          "Age": 23,
          "BS": 7.5,
          "BodyTemp": 98,
          "DiastolicBP": 85,
          "HeartRate": 66,
          "RiskLevel": "low risk",
          "SystolicBP": 100
         },
         {
          "Age": 25,
          "BS": 6.8,
          "BodyTemp": 98,
          "DiastolicBP": 100,
          "HeartRate": 80,
          "RiskLevel": "high risk",
          "SystolicBP": 140
         },
         {
          "Age": 30,
          "BS": 6.8,
          "BodyTemp": 98,
          "DiastolicBP": 75,
          "HeartRate": 70,
          "RiskLevel": "mid risk",
          "SystolicBP": 120
         },
         {
          "Age": 48,
          "BS": 11,
          "BodyTemp": 98,
          "DiastolicBP": 80,
          "HeartRate": 88,
          "RiskLevel": "mid risk",
          "SystolicBP": 120
         },
         {
          "Age": 29,
          "BS": 8,
          "BodyTemp": 100,
          "DiastolicBP": 70,
          "HeartRate": 80,
          "RiskLevel": "high risk",
          "SystolicBP": 90
         },
         {
          "Age": 16,
          "BS": 6.9,
          "BodyTemp": 98,
          "DiastolicBP": 65,
          "HeartRate": 76,
          "RiskLevel": "mid risk",
          "SystolicBP": 90
         },
         {
          "Age": 25,
          "BS": 6.8,
          "BodyTemp": 98,
          "DiastolicBP": 80,
          "HeartRate": 66,
          "RiskLevel": "mid risk",
          "SystolicBP": 120
         },
         {
          "Age": 48,
          "BS": 11,
          "BodyTemp": 98,
          "DiastolicBP": 80,
          "HeartRate": 88,
          "RiskLevel": "high risk",
          "SystolicBP": 120
         },
         {
          "Age": 19,
          "BS": 7,
          "BodyTemp": 98,
          "DiastolicBP": 80,
          "HeartRate": 70,
          "RiskLevel": "mid risk",
          "SystolicBP": 120
         },
         {
          "Age": 19,
          "BS": 7,
          "BodyTemp": 98,
          "DiastolicBP": 80,
          "HeartRate": 70,
          "RiskLevel": "mid risk",
          "SystolicBP": 120
         },
         {
          "Age": 15,
          "BS": 7.5,
          "BodyTemp": 98,
          "DiastolicBP": 80,
          "HeartRate": 70,
          "RiskLevel": "low risk",
          "SystolicBP": 120
         },
         {
          "Age": 25,
          "BS": 7.01,
          "BodyTemp": 98,
          "DiastolicBP": 100,
          "HeartRate": 80,
          "RiskLevel": "high risk",
          "SystolicBP": 140
         },
         {
          "Age": 29,
          "BS": 7.8,
          "BodyTemp": 98,
          "DiastolicBP": 70,
          "HeartRate": 78,
          "RiskLevel": "mid risk",
          "SystolicBP": 130
         },
         {
          "Age": 28,
          "BS": 8,
          "BodyTemp": 101,
          "DiastolicBP": 60,
          "HeartRate": 86,
          "RiskLevel": "high risk",
          "SystolicBP": 83
         },
         {
          "Age": 25,
          "BS": 6.9,
          "BodyTemp": 98,
          "DiastolicBP": 70,
          "HeartRate": 66,
          "RiskLevel": "low risk",
          "SystolicBP": 90
         },
         {
          "Age": 22,
          "BS": 7.5,
          "BodyTemp": 98,
          "DiastolicBP": 90,
          "HeartRate": 82,
          "RiskLevel": "low risk",
          "SystolicBP": 120
         },
         {
          "Age": 32,
          "BS": 6.9,
          "BodyTemp": 98,
          "DiastolicBP": 90,
          "HeartRate": 70,
          "RiskLevel": "mid risk",
          "SystolicBP": 120
         },
         {
          "Age": 17,
          "BS": 11,
          "BodyTemp": 101,
          "DiastolicBP": 60,
          "HeartRate": 78,
          "RiskLevel": "high risk",
          "SystolicBP": 90
         },
         {
          "Age": 43,
          "BS": 18,
          "BodyTemp": 98,
          "DiastolicBP": 80,
          "HeartRate": 70,
          "RiskLevel": "mid risk",
          "SystolicBP": 130
         },
         {
          "Age": 60,
          "BS": 7.5,
          "BodyTemp": 98,
          "DiastolicBP": 80,
          "HeartRate": 75,
          "RiskLevel": "low risk",
          "SystolicBP": 120
         },
         {
          "Age": 15,
          "BS": 6.7,
          "BodyTemp": 99,
          "DiastolicBP": 49,
          "HeartRate": 77,
          "RiskLevel": "low risk",
          "SystolicBP": 90
         },
         {
          "Age": 16,
          "BS": 7.5,
          "BodyTemp": 100,
          "DiastolicBP": 50,
          "HeartRate": 70,
          "RiskLevel": "low risk",
          "SystolicBP": 70
         },
         {
          "Age": 50,
          "BS": 7.9,
          "BodyTemp": 98,
          "DiastolicBP": 80,
          "HeartRate": 70,
          "RiskLevel": "low risk",
          "SystolicBP": 120
         },
         {
          "Age": 20,
          "BS": 7,
          "BodyTemp": 100,
          "DiastolicBP": 60,
          "HeartRate": 70,
          "RiskLevel": "mid risk",
          "SystolicBP": 110
         },
         {
          "Age": 17,
          "BS": 6.9,
          "BodyTemp": 101,
          "DiastolicBP": 60,
          "HeartRate": 76,
          "RiskLevel": "mid risk",
          "SystolicBP": 90
         },
         {
          "Age": 17,
          "BS": 7,
          "BodyTemp": 102,
          "DiastolicBP": 80,
          "HeartRate": 76,
          "RiskLevel": "high risk",
          "SystolicBP": 120
         },
         {
          "Age": 29,
          "BS": 7.5,
          "BodyTemp": 98,
          "DiastolicBP": 70,
          "HeartRate": 78,
          "RiskLevel": "mid risk",
          "SystolicBP": 130
         },
         {
          "Age": 45,
          "BS": 7.5,
          "BodyTemp": 98,
          "DiastolicBP": 95,
          "HeartRate": 66,
          "RiskLevel": "low risk",
          "SystolicBP": 120
         },
         {
          "Age": 15,
          "BS": 6.6,
          "BodyTemp": 99,
          "DiastolicBP": 80,
          "HeartRate": 70,
          "RiskLevel": "low risk",
          "SystolicBP": 120
         },
         {
          "Age": 17,
          "BS": 7.7,
          "BodyTemp": 103,
          "DiastolicBP": 65,
          "HeartRate": 67,
          "RiskLevel": "high risk",
          "SystolicBP": 90
         },
         {
          "Age": 40,
          "BS": 11,
          "BodyTemp": 98,
          "DiastolicBP": 95,
          "HeartRate": 80,
          "RiskLevel": "high risk",
          "SystolicBP": 120
         },
         {
          "Age": 50,
          "BS": 16,
          "BodyTemp": 98,
          "DiastolicBP": 100,
          "HeartRate": 76,
          "RiskLevel": "high risk",
          "SystolicBP": 130
         },
         {
          "Age": 32,
          "BS": 6,
          "BodyTemp": 101,
          "DiastolicBP": 65,
          "HeartRate": 76,
          "RiskLevel": "mid risk",
          "SystolicBP": 120
         },
         {
          "Age": 15,
          "BS": 6,
          "BodyTemp": 98,
          "DiastolicBP": 50,
          "HeartRate": 70,
          "RiskLevel": "mid risk",
          "SystolicBP": 70
         },
         {
          "Age": 23,
          "BS": 7.5,
          "BodyTemp": 98,
          "DiastolicBP": 60,
          "HeartRate": 76,
          "RiskLevel": "low risk",
          "SystolicBP": 90
         },
         {
          "Age": 15,
          "BS": 7.7,
          "BodyTemp": 98,
          "DiastolicBP": 49,
          "HeartRate": 77,
          "RiskLevel": "low risk",
          "SystolicBP": 75
         },
         {
          "Age": 48,
          "BS": 11,
          "BodyTemp": 98,
          "DiastolicBP": 80,
          "HeartRate": 88,
          "RiskLevel": "high risk",
          "SystolicBP": 120
         },
         {
          "Age": 50,
          "BS": 15,
          "BodyTemp": 98,
          "DiastolicBP": 90,
          "HeartRate": 77,
          "RiskLevel": "high risk",
          "SystolicBP": 140
         },
         {
          "Age": 12,
          "BS": 6.9,
          "BodyTemp": 98,
          "DiastolicBP": 95,
          "HeartRate": 60,
          "RiskLevel": "low risk",
          "SystolicBP": 120
         },
         {
          "Age": 40,
          "BS": 19,
          "BodyTemp": 98,
          "DiastolicBP": 100,
          "HeartRate": 77,
          "RiskLevel": "high risk",
          "SystolicBP": 160
         },
         {
          "Age": 15,
          "BS": 6,
          "BodyTemp": 99,
          "DiastolicBP": 49,
          "HeartRate": 77,
          "RiskLevel": "low risk",
          "SystolicBP": 90
         },
         {
          "Age": 20,
          "BS": 7.5,
          "BodyTemp": 98,
          "DiastolicBP": 76,
          "HeartRate": 70,
          "RiskLevel": "low risk",
          "SystolicBP": 120
         },
         {
          "Age": 32,
          "BS": 18,
          "BodyTemp": 98,
          "DiastolicBP": 90,
          "HeartRate": 88,
          "RiskLevel": "high risk",
          "SystolicBP": 140
         },
         {
          "Age": 12,
          "BS": 6.9,
          "BodyTemp": 98,
          "DiastolicBP": 60,
          "HeartRate": 65,
          "RiskLevel": "mid risk",
          "SystolicBP": 95
         },
         {
          "Age": 55,
          "BS": 7.2,
          "BodyTemp": 101,
          "DiastolicBP": 80,
          "HeartRate": 76,
          "RiskLevel": "high risk",
          "SystolicBP": 140
         },
         {
          "Age": 18,
          "BS": 6.7,
          "BodyTemp": 98,
          "DiastolicBP": 70,
          "HeartRate": 76,
          "RiskLevel": "low risk",
          "SystolicBP": 100
         },
         {
          "Age": 20,
          "BS": 7.01,
          "BodyTemp": 100,
          "DiastolicBP": 75,
          "HeartRate": 70,
          "RiskLevel": "mid risk",
          "SystolicBP": 120
         },
         {
          "Age": 35,
          "BS": 7.5,
          "BodyTemp": 98,
          "DiastolicBP": 100,
          "HeartRate": 66,
          "RiskLevel": "high risk",
          "SystolicBP": 140
         },
         {
          "Age": 42,
          "BS": 18,
          "BodyTemp": 98,
          "DiastolicBP": 80,
          "HeartRate": 70,
          "RiskLevel": "high risk",
          "SystolicBP": 130
         },
         {
          "Age": 55,
          "BS": 6.9,
          "BodyTemp": 98,
          "DiastolicBP": 85,
          "HeartRate": 88,
          "RiskLevel": "low risk",
          "SystolicBP": 110
         },
         {
          "Age": 17,
          "BS": 9,
          "BodyTemp": 102,
          "DiastolicBP": 60,
          "HeartRate": 86,
          "RiskLevel": "mid risk",
          "SystolicBP": 85
         },
         {
          "Age": 23,
          "BS": 7.8,
          "BodyTemp": 98,
          "DiastolicBP": 70,
          "HeartRate": 70,
          "RiskLevel": "low risk",
          "SystolicBP": 120
         },
         {
          "Age": 23,
          "BS": 7.5,
          "BodyTemp": 98,
          "DiastolicBP": 85,
          "HeartRate": 66,
          "RiskLevel": "mid risk",
          "SystolicBP": 100
         },
         {
          "Age": 12,
          "BS": 6.9,
          "BodyTemp": 98,
          "DiastolicBP": 60,
          "HeartRate": 65,
          "RiskLevel": "mid risk",
          "SystolicBP": 95
         },
         {
          "Age": 31,
          "BS": 6.1,
          "BodyTemp": 98,
          "DiastolicBP": 60,
          "HeartRate": 76,
          "RiskLevel": "mid risk",
          "SystolicBP": 120
         },
         {
          "Age": 17,
          "BS": 7.5,
          "BodyTemp": 101,
          "DiastolicBP": 60,
          "HeartRate": 86,
          "RiskLevel": "high risk",
          "SystolicBP": 85
         },
         {
          "Age": 55,
          "BS": 7.8,
          "BodyTemp": 98,
          "DiastolicBP": 65,
          "HeartRate": 66,
          "RiskLevel": "low risk",
          "SystolicBP": 100
         },
         {
          "Age": 20,
          "BS": 7.5,
          "BodyTemp": 98,
          "DiastolicBP": 90,
          "HeartRate": 88,
          "RiskLevel": "mid risk",
          "SystolicBP": 100
         },
         {
          "Age": 16,
          "BS": 7.5,
          "BodyTemp": 98,
          "DiastolicBP": 70,
          "HeartRate": 80,
          "RiskLevel": "low risk",
          "SystolicBP": 100
         },
         {
          "Age": 23,
          "BS": 6.8,
          "BodyTemp": 98,
          "DiastolicBP": 60,
          "HeartRate": 76,
          "RiskLevel": "low risk",
          "SystolicBP": 90
         },
         {
          "Age": 30,
          "BS": 15,
          "BodyTemp": 98,
          "DiastolicBP": 100,
          "HeartRate": 70,
          "RiskLevel": "high risk",
          "SystolicBP": 140
         },
         {
          "Age": 60,
          "BS": 16,
          "BodyTemp": 98,
          "DiastolicBP": 80,
          "HeartRate": 66,
          "RiskLevel": "high risk",
          "SystolicBP": 140
         },
         {
          "Age": 17,
          "BS": 7.5,
          "BodyTemp": 102,
          "DiastolicBP": 60,
          "HeartRate": 86,
          "RiskLevel": "low risk",
          "SystolicBP": 85
         },
         {
          "Age": 35,
          "BS": 13,
          "BodyTemp": 98,
          "DiastolicBP": 90,
          "HeartRate": 70,
          "RiskLevel": "high risk",
          "SystolicBP": 140
         },
         {
          "Age": 32,
          "BS": 7.5,
          "BodyTemp": 98,
          "DiastolicBP": 80,
          "HeartRate": 70,
          "RiskLevel": "low risk",
          "SystolicBP": 120
         },
         {
          "Age": 50,
          "BS": 17,
          "BodyTemp": 98,
          "DiastolicBP": 95,
          "HeartRate": 60,
          "RiskLevel": "high risk",
          "SystolicBP": 140
         },
         {
          "Age": 40,
          "BS": 19,
          "BodyTemp": 98,
          "DiastolicBP": 100,
          "HeartRate": 77,
          "RiskLevel": "high risk",
          "SystolicBP": 160
         },
         {
          "Age": 23,
          "BS": 7.5,
          "BodyTemp": 98,
          "DiastolicBP": 80,
          "HeartRate": 70,
          "RiskLevel": "low risk",
          "SystolicBP": 120
         },
         {
          "Age": 30,
          "BS": 6.8,
          "BodyTemp": 98,
          "DiastolicBP": 75,
          "HeartRate": 70,
          "RiskLevel": "mid risk",
          "SystolicBP": 120
         },
         {
          "Age": 37,
          "BS": 11,
          "BodyTemp": 98,
          "DiastolicBP": 90,
          "HeartRate": 88,
          "RiskLevel": "high risk",
          "SystolicBP": 120
         },
         {
          "Age": 49,
          "BS": 15,
          "BodyTemp": 98,
          "DiastolicBP": 90,
          "HeartRate": 90,
          "RiskLevel": "high risk",
          "SystolicBP": 140
         },
         {
          "Age": 27,
          "BS": 7.5,
          "BodyTemp": 101,
          "DiastolicBP": 60,
          "HeartRate": 86,
          "RiskLevel": "high risk",
          "SystolicBP": 135
         },
         {
          "Age": 15,
          "BS": 7.5,
          "BodyTemp": 98,
          "DiastolicBP": 49,
          "HeartRate": 77,
          "RiskLevel": "low risk",
          "SystolicBP": 78
         },
         {
          "Age": 59,
          "BS": 7.5,
          "BodyTemp": 98,
          "DiastolicBP": 80,
          "HeartRate": 70,
          "RiskLevel": "low risk",
          "SystolicBP": 120
         },
         {
          "Age": 15,
          "BS": 6,
          "BodyTemp": 98,
          "DiastolicBP": 49,
          "HeartRate": 77,
          "RiskLevel": "low risk",
          "SystolicBP": 90
         },
         {
          "Age": 19,
          "BS": 7.5,
          "BodyTemp": 98,
          "DiastolicBP": 70,
          "HeartRate": 80,
          "RiskLevel": "low risk",
          "SystolicBP": 90
         },
         {
          "Age": 32,
          "BS": 6.9,
          "BodyTemp": 98,
          "DiastolicBP": 100,
          "HeartRate": 78,
          "RiskLevel": "high risk",
          "SystolicBP": 140
         },
         {
          "Age": 50,
          "BS": 15,
          "BodyTemp": 98,
          "DiastolicBP": 90,
          "HeartRate": 77,
          "RiskLevel": "high risk",
          "SystolicBP": 140
         },
         {
          "Age": 31,
          "BS": 6.1,
          "BodyTemp": 98,
          "DiastolicBP": 60,
          "HeartRate": 76,
          "RiskLevel": "mid risk",
          "SystolicBP": 120
         },
         {
          "Age": 50,
          "BS": 6.7,
          "BodyTemp": 98,
          "DiastolicBP": 80,
          "HeartRate": 70,
          "RiskLevel": "mid risk",
          "SystolicBP": 140
         },
         {
          "Age": 22,
          "BS": 6.1,
          "BodyTemp": 98,
          "DiastolicBP": 85,
          "HeartRate": 88,
          "RiskLevel": "low risk",
          "SystolicBP": 120
         },
         {
          "Age": 40,
          "BS": 7.7,
          "BodyTemp": 98,
          "DiastolicBP": 75,
          "HeartRate": 70,
          "RiskLevel": "high risk",
          "SystolicBP": 120
         },
         {
          "Age": 28,
          "BS": 9,
          "BodyTemp": 101,
          "DiastolicBP": 60,
          "HeartRate": 86,
          "RiskLevel": "mid risk",
          "SystolicBP": 85
         },
         {
          "Age": 30,
          "BS": 15,
          "BodyTemp": 98,
          "DiastolicBP": 100,
          "HeartRate": 70,
          "RiskLevel": "high risk",
          "SystolicBP": 140
         },
         {
          "Age": 35,
          "BS": 6.9,
          "BodyTemp": 98,
          "DiastolicBP": 70,
          "HeartRate": 60,
          "RiskLevel": "low risk",
          "SystolicBP": 100
         },
         {
          "Age": 15,
          "BS": 7.5,
          "BodyTemp": 98,
          "DiastolicBP": 80,
          "HeartRate": 70,
          "RiskLevel": "mid risk",
          "SystolicBP": 120
         },
         {
          "Age": 21,
          "BS": 7.5,
          "BodyTemp": 98,
          "DiastolicBP": 80,
          "HeartRate": 77,
          "RiskLevel": "mid risk",
          "SystolicBP": 120
         },
         {
          "Age": 40,
          "BS": 12,
          "BodyTemp": 98,
          "DiastolicBP": 90,
          "HeartRate": 80,
          "RiskLevel": "high risk",
          "SystolicBP": 120
         },
         {
          "Age": 10,
          "BS": 6.9,
          "BodyTemp": 98,
          "DiastolicBP": 65,
          "HeartRate": 70,
          "RiskLevel": "low risk",
          "SystolicBP": 85
         },
         {
          "Age": 32,
          "BS": 18,
          "BodyTemp": 98,
          "DiastolicBP": 90,
          "HeartRate": 88,
          "RiskLevel": "high risk",
          "SystolicBP": 140
         },
         {
          "Age": 19,
          "BS": 7,
          "BodyTemp": 98,
          "DiastolicBP": 80,
          "HeartRate": 70,
          "RiskLevel": "mid risk",
          "SystolicBP": 120
         },
         {
          "Age": 43,
          "BS": 15,
          "BodyTemp": 98,
          "DiastolicBP": 80,
          "HeartRate": 76,
          "RiskLevel": "high risk",
          "SystolicBP": 120
         },
         {
          "Age": 25,
          "BS": 6.9,
          "BodyTemp": 98,
          "DiastolicBP": 90,
          "HeartRate": 80,
          "RiskLevel": "low risk",
          "SystolicBP": 120
         },
         {
          "Age": 15,
          "BS": 7.6,
          "BodyTemp": 98,
          "DiastolicBP": 49,
          "HeartRate": 77,
          "RiskLevel": "low risk",
          "SystolicBP": 100
         },
         {
          "Age": 35,
          "BS": 7.8,
          "BodyTemp": 98,
          "DiastolicBP": 70,
          "HeartRate": 66,
          "RiskLevel": "low risk",
          "SystolicBP": 100
         },
         {
          "Age": 49,
          "BS": 7.2,
          "BodyTemp": 98,
          "DiastolicBP": 90,
          "HeartRate": 77,
          "RiskLevel": "low risk",
          "SystolicBP": 120
         },
         {
          "Age": 12,
          "BS": 7.5,
          "BodyTemp": 102,
          "DiastolicBP": 60,
          "HeartRate": 66,
          "RiskLevel": "low risk",
          "SystolicBP": 90
         },
         {
          "Age": 25,
          "BS": 7.5,
          "BodyTemp": 101,
          "DiastolicBP": 90,
          "HeartRate": 80,
          "RiskLevel": "low risk",
          "SystolicBP": 120
         },
         {
          "Age": 49,
          "BS": 15,
          "BodyTemp": 98,
          "DiastolicBP": 90,
          "HeartRate": 90,
          "RiskLevel": "high risk",
          "SystolicBP": 140
         },
         {
          "Age": 21,
          "BS": 6.1,
          "BodyTemp": 98,
          "DiastolicBP": 50,
          "HeartRate": 70,
          "RiskLevel": "low risk",
          "SystolicBP": 75
         },
         {
          "Age": 35,
          "BS": 11,
          "BodyTemp": 98,
          "DiastolicBP": 70,
          "HeartRate": 60,
          "RiskLevel": "high risk",
          "SystolicBP": 100
         },
         {
          "Age": 60,
          "BS": 6.9,
          "BodyTemp": 98,
          "DiastolicBP": 65,
          "HeartRate": 77,
          "RiskLevel": "low risk",
          "SystolicBP": 90
         },
         {
          "Age": 22,
          "BS": 7.8,
          "BodyTemp": 98,
          "DiastolicBP": 90,
          "HeartRate": 82,
          "RiskLevel": "mid risk",
          "SystolicBP": 120
         },
         {
          "Age": 21,
          "BS": 7.5,
          "BodyTemp": 98,
          "DiastolicBP": 80,
          "HeartRate": 76,
          "RiskLevel": "low risk",
          "SystolicBP": 120
         },
         {
          "Age": 21,
          "BS": 7.8,
          "BodyTemp": 98,
          "DiastolicBP": 50,
          "HeartRate": 60,
          "RiskLevel": "low risk",
          "SystolicBP": 75
         },
         {
          "Age": 25,
          "BS": 7.5,
          "BodyTemp": 98,
          "DiastolicBP": 90,
          "HeartRate": 76,
          "RiskLevel": "low risk",
          "SystolicBP": 100
         },
         {
          "Age": 17,
          "BS": 7.7,
          "BodyTemp": 103,
          "DiastolicBP": 65,
          "HeartRate": 67,
          "RiskLevel": "high risk",
          "SystolicBP": 90
         },
         {
          "Age": 50,
          "BS": 16,
          "BodyTemp": 98,
          "DiastolicBP": 100,
          "HeartRate": 75,
          "RiskLevel": "high risk",
          "SystolicBP": 130
         },
         {
          "Age": 50,
          "BS": 15,
          "BodyTemp": 98,
          "DiastolicBP": 80,
          "HeartRate": 70,
          "RiskLevel": "high risk",
          "SystolicBP": 120
         },
         {
          "Age": 30,
          "BS": 6.8,
          "BodyTemp": 101,
          "DiastolicBP": 80,
          "HeartRate": 76,
          "RiskLevel": "low risk",
          "SystolicBP": 120
         },
         {
          "Age": 29,
          "BS": 7.5,
          "BodyTemp": 98,
          "DiastolicBP": 70,
          "HeartRate": 78,
          "RiskLevel": "mid risk",
          "SystolicBP": 130
         },
         {
          "Age": 50,
          "BS": 6.7,
          "BodyTemp": 98,
          "DiastolicBP": 80,
          "HeartRate": 70,
          "RiskLevel": "mid risk",
          "SystolicBP": 140
         },
         {
          "Age": 29,
          "BS": 6.7,
          "BodyTemp": 98,
          "DiastolicBP": 70,
          "HeartRate": 78,
          "RiskLevel": "mid risk",
          "SystolicBP": 130
         },
         {
          "Age": 29,
          "BS": 7.9,
          "BodyTemp": 98,
          "DiastolicBP": 70,
          "HeartRate": 78,
          "RiskLevel": "mid risk",
          "SystolicBP": 130
         },
         {
          "Age": 35,
          "BS": 7.7,
          "BodyTemp": 98,
          "DiastolicBP": 70,
          "HeartRate": 66,
          "RiskLevel": "low risk",
          "SystolicBP": 100
         },
         {
          "Age": 19,
          "BS": 7,
          "BodyTemp": 98,
          "DiastolicBP": 80,
          "HeartRate": 70,
          "RiskLevel": "mid risk",
          "SystolicBP": 120
         },
         {
          "Age": 28,
          "BS": 9,
          "BodyTemp": 102,
          "DiastolicBP": 80,
          "HeartRate": 76,
          "RiskLevel": "high risk",
          "SystolicBP": 120
         },
         {
          "Age": 30,
          "BS": 6.9,
          "BodyTemp": 101,
          "DiastolicBP": 80,
          "HeartRate": 76,
          "RiskLevel": "mid risk",
          "SystolicBP": 120
         },
         {
          "Age": 40,
          "BS": 19,
          "BodyTemp": 98,
          "DiastolicBP": 100,
          "HeartRate": 77,
          "RiskLevel": "high risk",
          "SystolicBP": 160
         },
         {
          "Age": 35,
          "BS": 7.5,
          "BodyTemp": 98,
          "DiastolicBP": 80,
          "HeartRate": 80,
          "RiskLevel": "low risk",
          "SystolicBP": 120
         },
         {
          "Age": 29,
          "BS": 10,
          "BodyTemp": 98,
          "DiastolicBP": 70,
          "HeartRate": 80,
          "RiskLevel": "high risk",
          "SystolicBP": 90
         },
         {
          "Age": 48,
          "BS": 11,
          "BodyTemp": 98,
          "DiastolicBP": 80,
          "HeartRate": 88,
          "RiskLevel": "high risk",
          "SystolicBP": 120
         },
         {
          "Age": 21,
          "BS": 7.5,
          "BodyTemp": 98,
          "DiastolicBP": 80,
          "HeartRate": 77,
          "RiskLevel": "low risk",
          "SystolicBP": 120
         },
         {
          "Age": 55,
          "BS": 19,
          "BodyTemp": 98,
          "DiastolicBP": 95,
          "HeartRate": 77,
          "RiskLevel": "high risk",
          "SystolicBP": 140
         },
         {
          "Age": 20,
          "BS": 7,
          "BodyTemp": 100,
          "DiastolicBP": 60,
          "HeartRate": 70,
          "RiskLevel": "mid risk",
          "SystolicBP": 110
         },
         {
          "Age": 28,
          "BS": 6.9,
          "BodyTemp": 98,
          "DiastolicBP": 90,
          "HeartRate": 70,
          "RiskLevel": "mid risk",
          "SystolicBP": 120
         },
         {
          "Age": 16,
          "BS": 6.9,
          "BodyTemp": 98,
          "DiastolicBP": 65,
          "HeartRate": 76,
          "RiskLevel": "mid risk",
          "SystolicBP": 90
         },
         {
          "Age": 42,
          "BS": 7.8,
          "BodyTemp": 98,
          "DiastolicBP": 80,
          "HeartRate": 70,
          "RiskLevel": "low risk",
          "SystolicBP": 120
         },
         {
          "Age": 19,
          "BS": 6.8,
          "BodyTemp": 98,
          "DiastolicBP": 90,
          "HeartRate": 60,
          "RiskLevel": "mid risk",
          "SystolicBP": 120
         },
         {
          "Age": 42,
          "BS": 7.5,
          "BodyTemp": 98,
          "DiastolicBP": 80,
          "HeartRate": 70,
          "RiskLevel": "low risk",
          "SystolicBP": 120
         },
         {
          "Age": 36,
          "BS": 7,
          "BodyTemp": 98,
          "DiastolicBP": 90,
          "HeartRate": 82,
          "RiskLevel": "mid risk",
          "SystolicBP": 120
         },
         {
          "Age": 10,
          "BS": 6,
          "BodyTemp": 99,
          "DiastolicBP": 50,
          "HeartRate": 70,
          "RiskLevel": "mid risk",
          "SystolicBP": 100
         },
         {
          "Age": 12,
          "BS": 6.7,
          "BodyTemp": 98,
          "DiastolicBP": 60,
          "HeartRate": 77,
          "RiskLevel": "low risk",
          "SystolicBP": 95
         },
         {
          "Age": 28,
          "BS": 8,
          "BodyTemp": 101,
          "DiastolicBP": 60,
          "HeartRate": 86,
          "RiskLevel": "high risk",
          "SystolicBP": 83
         },
         {
          "Age": 21,
          "BS": 7.5,
          "BodyTemp": 98,
          "DiastolicBP": 65,
          "HeartRate": 76,
          "RiskLevel": "low risk",
          "SystolicBP": 90
         },
         {
          "Age": 60,
          "BS": 15,
          "BodyTemp": 98,
          "DiastolicBP": 85,
          "HeartRate": 60,
          "RiskLevel": "high risk",
          "SystolicBP": 120
         },
         {
          "Age": 49,
          "BS": 7.5,
          "BodyTemp": 98,
          "DiastolicBP": 90,
          "HeartRate": 77,
          "RiskLevel": "low risk",
          "SystolicBP": 120
         },
         {
          "Age": 21,
          "BS": 7.1,
          "BodyTemp": 98,
          "DiastolicBP": 80,
          "HeartRate": 77,
          "RiskLevel": "low risk",
          "SystolicBP": 120
         },
         {
          "Age": 29,
          "BS": 6.7,
          "BodyTemp": 98,
          "DiastolicBP": 70,
          "HeartRate": 80,
          "RiskLevel": "mid risk",
          "SystolicBP": 90
         },
         {
          "Age": 25,
          "BS": 7.5,
          "BodyTemp": 98,
          "DiastolicBP": 100,
          "HeartRate": 80,
          "RiskLevel": "high risk",
          "SystolicBP": 140
         },
         {
          "Age": 29,
          "BS": 6.7,
          "BodyTemp": 98,
          "DiastolicBP": 70,
          "HeartRate": 80,
          "RiskLevel": "mid risk",
          "SystolicBP": 90
         },
         {
          "Age": 35,
          "BS": 8,
          "BodyTemp": 98,
          "DiastolicBP": 100,
          "HeartRate": 66,
          "RiskLevel": "high risk",
          "SystolicBP": 140
         },
         {
          "Age": 12,
          "BS": 8,
          "BodyTemp": 102,
          "DiastolicBP": 60,
          "HeartRate": 66,
          "RiskLevel": "high risk",
          "SystolicBP": 90
         },
         {
          "Age": 16,
          "BS": 7.9,
          "BodyTemp": 98,
          "DiastolicBP": 75,
          "HeartRate": 7,
          "RiskLevel": "low risk",
          "SystolicBP": 120
         },
         {
          "Age": 55,
          "BS": 6.8,
          "BodyTemp": 101,
          "DiastolicBP": 70,
          "HeartRate": 80,
          "RiskLevel": "mid risk",
          "SystolicBP": 100
         },
         {
          "Age": 32,
          "BS": 6,
          "BodyTemp": 101,
          "DiastolicBP": 65,
          "HeartRate": 76,
          "RiskLevel": "mid risk",
          "SystolicBP": 120
         },
         {
          "Age": 19,
          "BS": 7,
          "BodyTemp": 98,
          "DiastolicBP": 85,
          "HeartRate": 60,
          "RiskLevel": "low risk",
          "SystolicBP": 120
         },
         {
          "Age": 17,
          "BS": 9,
          "BodyTemp": 102,
          "DiastolicBP": 60,
          "HeartRate": 86,
          "RiskLevel": "mid risk",
          "SystolicBP": 85
         },
         {
          "Age": 50,
          "BS": 16,
          "BodyTemp": 98,
          "DiastolicBP": 100,
          "HeartRate": 75,
          "RiskLevel": "high risk",
          "SystolicBP": 130
         },
         {
          "Age": 22,
          "BS": 7.7,
          "BodyTemp": 98,
          "DiastolicBP": 85,
          "HeartRate": 88,
          "RiskLevel": "low risk",
          "SystolicBP": 120
         },
         {
          "Age": 23,
          "BS": 6.1,
          "BodyTemp": 98,
          "DiastolicBP": 90,
          "HeartRate": 60,
          "RiskLevel": "low risk",
          "SystolicBP": 120
         },
         {
          "Age": 21,
          "BS": 6.9,
          "BodyTemp": 98,
          "DiastolicBP": 65,
          "HeartRate": 76,
          "RiskLevel": "mid risk",
          "SystolicBP": 90
         },
         {
          "Age": 15,
          "BS": 7,
          "BodyTemp": 98,
          "DiastolicBP": 60,
          "HeartRate": 80,
          "RiskLevel": "low risk",
          "SystolicBP": 80
         },
         {
          "Age": 15,
          "BS": 6,
          "BodyTemp": 98,
          "DiastolicBP": 60,
          "HeartRate": 80,
          "RiskLevel": "low risk",
          "SystolicBP": 90
         },
         {
          "Age": 15,
          "BS": 7.5,
          "BodyTemp": 98,
          "DiastolicBP": 49,
          "HeartRate": 77,
          "RiskLevel": "low risk",
          "SystolicBP": 78
         },
         {
          "Age": 12,
          "BS": 7.5,
          "BodyTemp": 98,
          "DiastolicBP": 60,
          "HeartRate": 65,
          "RiskLevel": "low risk",
          "SystolicBP": 95
         },
         {
          "Age": 44,
          "BS": 16,
          "BodyTemp": 98,
          "DiastolicBP": 90,
          "HeartRate": 80,
          "RiskLevel": "mid risk",
          "SystolicBP": 120
         },
         {
          "Age": 22,
          "BS": 7.9,
          "BodyTemp": 98,
          "DiastolicBP": 65,
          "HeartRate": 80,
          "RiskLevel": "low risk",
          "SystolicBP": 100
         },
         {
          "Age": 27,
          "BS": 6.8,
          "BodyTemp": 98,
          "DiastolicBP": 70,
          "HeartRate": 77,
          "RiskLevel": "low risk",
          "SystolicBP": 120
         },
         {
          "Age": 35,
          "BS": 6.9,
          "BodyTemp": 98,
          "DiastolicBP": 80,
          "HeartRate": 80,
          "RiskLevel": "high risk",
          "SystolicBP": 120
         },
         {
          "Age": 12,
          "BS": 6,
          "BodyTemp": 98,
          "DiastolicBP": 50,
          "HeartRate": 70,
          "RiskLevel": "mid risk",
          "SystolicBP": 100
         },
         {
          "Age": 23,
          "BS": 7.5,
          "BodyTemp": 98,
          "DiastolicBP": 90,
          "HeartRate": 70,
          "RiskLevel": "low risk",
          "SystolicBP": 120
         },
         {
          "Age": 25,
          "BS": 6.8,
          "BodyTemp": 98,
          "DiastolicBP": 80,
          "HeartRate": 66,
          "RiskLevel": "mid risk",
          "SystolicBP": 120
         },
         {
          "Age": 48,
          "BS": 11,
          "BodyTemp": 98,
          "DiastolicBP": 80,
          "HeartRate": 88,
          "RiskLevel": "high risk",
          "SystolicBP": 120
         },
         {
          "Age": 45,
          "BS": 7.7,
          "BodyTemp": 98,
          "DiastolicBP": 95,
          "HeartRate": 66,
          "RiskLevel": "low risk",
          "SystolicBP": 120
         },
         {
          "Age": 59,
          "BS": 7.5,
          "BodyTemp": 98,
          "DiastolicBP": 80,
          "HeartRate": 70,
          "RiskLevel": "low risk",
          "SystolicBP": 120
         },
         {
          "Age": 16,
          "BS": 6.9,
          "BodyTemp": 98,
          "DiastolicBP": 65,
          "HeartRate": 76,
          "RiskLevel": "mid risk",
          "SystolicBP": 90
         },
         {
          "Age": 60,
          "BS": 15,
          "BodyTemp": 98,
          "DiastolicBP": 85,
          "HeartRate": 60,
          "RiskLevel": "high risk",
          "SystolicBP": 120
         },
         {
          "Age": 12,
          "BS": 11,
          "BodyTemp": 102,
          "DiastolicBP": 60,
          "HeartRate": 60,
          "RiskLevel": "high risk",
          "SystolicBP": 90
         },
         {
          "Age": 60,
          "BS": 15,
          "BodyTemp": 98,
          "DiastolicBP": 85,
          "HeartRate": 60,
          "RiskLevel": "mid risk",
          "SystolicBP": 120
         },
         {
          "Age": 28,
          "BS": 7.8,
          "BodyTemp": 101,
          "DiastolicBP": 60,
          "HeartRate": 86,
          "RiskLevel": "mid risk",
          "SystolicBP": 115
         },
         {
          "Age": 25,
          "BS": 6.8,
          "BodyTemp": 98,
          "DiastolicBP": 100,
          "HeartRate": 60,
          "RiskLevel": "low risk",
          "SystolicBP": 120
         },
         {
          "Age": 19,
          "BS": 7,
          "BodyTemp": 98,
          "DiastolicBP": 80,
          "HeartRate": 70,
          "RiskLevel": "mid risk",
          "SystolicBP": 120
         },
         {
          "Age": 55,
          "BS": 19,
          "BodyTemp": 98,
          "DiastolicBP": 95,
          "HeartRate": 77,
          "RiskLevel": "high risk",
          "SystolicBP": 140
         },
         {
          "Age": 16,
          "BS": 7.5,
          "BodyTemp": 98,
          "DiastolicBP": 70,
          "HeartRate": 80,
          "RiskLevel": "low risk",
          "SystolicBP": 100
         },
         {
          "Age": 33,
          "BS": 10,
          "BodyTemp": 98,
          "DiastolicBP": 75,
          "HeartRate": 70,
          "RiskLevel": "high risk",
          "SystolicBP": 120
         },
         {
          "Age": 37,
          "BS": 11,
          "BodyTemp": 98,
          "DiastolicBP": 90,
          "HeartRate": 88,
          "RiskLevel": "high risk",
          "SystolicBP": 120
         },
         {
          "Age": 23,
          "BS": 6.9,
          "BodyTemp": 98,
          "DiastolicBP": 70,
          "HeartRate": 70,
          "RiskLevel": "mid risk",
          "SystolicBP": 130
         },
         {
          "Age": 32,
          "BS": 7.5,
          "BodyTemp": 98,
          "DiastolicBP": 90,
          "HeartRate": 70,
          "RiskLevel": "low risk",
          "SystolicBP": 120
         },
         {
          "Age": 32,
          "BS": 7.5,
          "BodyTemp": 98,
          "DiastolicBP": 90,
          "HeartRate": 70,
          "RiskLevel": "low risk",
          "SystolicBP": 120
         },
         {
          "Age": 23,
          "BS": 7.9,
          "BodyTemp": 98,
          "DiastolicBP": 60,
          "HeartRate": 76,
          "RiskLevel": "low risk",
          "SystolicBP": 90
         },
         {
          "Age": 32,
          "BS": 18,
          "BodyTemp": 98,
          "DiastolicBP": 90,
          "HeartRate": 88,
          "RiskLevel": "high risk",
          "SystolicBP": 140
         },
         {
          "Age": 50,
          "BS": 7.7,
          "BodyTemp": 98,
          "DiastolicBP": 80,
          "HeartRate": 70,
          "RiskLevel": "low risk",
          "SystolicBP": 120
         },
         {
          "Age": 28,
          "BS": 7.5,
          "BodyTemp": 98,
          "DiastolicBP": 60,
          "HeartRate": 82,
          "RiskLevel": "mid risk",
          "SystolicBP": 90
         },
         {
          "Age": 17,
          "BS": 6.9,
          "BodyTemp": 101,
          "DiastolicBP": 63,
          "HeartRate": 70,
          "RiskLevel": "mid risk",
          "SystolicBP": 90
         },
         {
          "Age": 45,
          "BS": 7.5,
          "BodyTemp": 98,
          "DiastolicBP": 95,
          "HeartRate": 66,
          "RiskLevel": "low risk",
          "SystolicBP": 120
         },
         {
          "Age": 15,
          "BS": 7.5,
          "BodyTemp": 98,
          "DiastolicBP": 60,
          "HeartRate": 80,
          "RiskLevel": "low risk",
          "SystolicBP": 80
         },
         {
          "Age": 15,
          "BS": 7.9,
          "BodyTemp": 98,
          "DiastolicBP": 80,
          "HeartRate": 70,
          "RiskLevel": "low risk",
          "SystolicBP": 120
         },
         {
          "Age": 54,
          "BS": 12,
          "BodyTemp": 98,
          "DiastolicBP": 70,
          "HeartRate": 67,
          "RiskLevel": "mid risk",
          "SystolicBP": 130
         },
         {
          "Age": 31,
          "BS": 6.1,
          "BodyTemp": 98,
          "DiastolicBP": 60,
          "HeartRate": 76,
          "RiskLevel": "low risk",
          "SystolicBP": 120
         },
         {
          "Age": 25,
          "BS": 6.8,
          "BodyTemp": 98,
          "DiastolicBP": 100,
          "HeartRate": 80,
          "RiskLevel": "high risk",
          "SystolicBP": 140
         },
         {
          "Age": 32,
          "BS": 7.5,
          "BodyTemp": 98,
          "DiastolicBP": 90,
          "HeartRate": 70,
          "RiskLevel": "low risk",
          "SystolicBP": 120
         },
         {
          "Age": 25,
          "BS": 6.7,
          "BodyTemp": 101,
          "DiastolicBP": 90,
          "HeartRate": 80,
          "RiskLevel": "mid risk",
          "SystolicBP": 120
         },
         {
          "Age": 17,
          "BS": 9,
          "BodyTemp": 102,
          "DiastolicBP": 60,
          "HeartRate": 86,
          "RiskLevel": "high risk",
          "SystolicBP": 85
         },
         {
          "Age": 20,
          "BS": 7.01,
          "BodyTemp": 100,
          "DiastolicBP": 75,
          "HeartRate": 70,
          "RiskLevel": "mid risk",
          "SystolicBP": 120
         },
         {
          "Age": 25,
          "BS": 15,
          "BodyTemp": 98.6,
          "DiastolicBP": 100,
          "HeartRate": 70,
          "RiskLevel": "high risk",
          "SystolicBP": 140
         },
         {
          "Age": 12,
          "BS": 6.4,
          "BodyTemp": 98,
          "DiastolicBP": 50,
          "HeartRate": 70,
          "RiskLevel": "mid risk",
          "SystolicBP": 100
         },
         {
          "Age": 31,
          "BS": 6.1,
          "BodyTemp": 98,
          "DiastolicBP": 60,
          "HeartRate": 76,
          "RiskLevel": "mid risk",
          "SystolicBP": 120
         },
         {
          "Age": 32,
          "BS": 6.8,
          "BodyTemp": 98,
          "DiastolicBP": 90,
          "HeartRate": 70,
          "RiskLevel": "low risk",
          "SystolicBP": 120
         },
         {
          "Age": 23,
          "BS": 7.5,
          "BodyTemp": 98,
          "DiastolicBP": 90,
          "HeartRate": 70,
          "RiskLevel": "low risk",
          "SystolicBP": 120
         },
         {
          "Age": 19,
          "BS": 7.2,
          "BodyTemp": 98,
          "DiastolicBP": 75,
          "HeartRate": 66,
          "RiskLevel": "low risk",
          "SystolicBP": 120
         },
         {
          "Age": 40,
          "BS": 19,
          "BodyTemp": 98,
          "DiastolicBP": 100,
          "HeartRate": 77,
          "RiskLevel": "high risk",
          "SystolicBP": 160
         },
         {
          "Age": 20,
          "BS": 7,
          "BodyTemp": 98,
          "DiastolicBP": 90,
          "HeartRate": 88,
          "RiskLevel": "low risk",
          "SystolicBP": 100
         },
         {
          "Age": 29,
          "BS": 6.7,
          "BodyTemp": 98,
          "DiastolicBP": 70,
          "HeartRate": 80,
          "RiskLevel": "mid risk",
          "SystolicBP": 90
         },
         {
          "Age": 19,
          "BS": 7,
          "BodyTemp": 98,
          "DiastolicBP": 80,
          "HeartRate": 70,
          "RiskLevel": "mid risk",
          "SystolicBP": 120
         },
         {
          "Age": 13,
          "BS": 7.5,
          "BodyTemp": 101,
          "DiastolicBP": 65,
          "HeartRate": 80,
          "RiskLevel": "low risk",
          "SystolicBP": 90
         },
         {
          "Age": 17,
          "BS": 8,
          "BodyTemp": 101,
          "DiastolicBP": 63,
          "HeartRate": 70,
          "RiskLevel": "high risk",
          "SystolicBP": 90
         },
         {
          "Age": 21,
          "BS": 7.1,
          "BodyTemp": 98,
          "DiastolicBP": 80,
          "HeartRate": 77,
          "RiskLevel": "low risk",
          "SystolicBP": 120
         },
         {
          "Age": 55,
          "BS": 19,
          "BodyTemp": 98,
          "DiastolicBP": 95,
          "HeartRate": 77,
          "RiskLevel": "high risk",
          "SystolicBP": 140
         },
         {
          "Age": 30,
          "BS": 9,
          "BodyTemp": 101,
          "DiastolicBP": 80,
          "HeartRate": 76,
          "RiskLevel": "mid risk",
          "SystolicBP": 120
         },
         {
          "Age": 20,
          "BS": 7.5,
          "BodyTemp": 98,
          "DiastolicBP": 76,
          "HeartRate": 70,
          "RiskLevel": "low risk",
          "SystolicBP": 120
         },
         {
          "Age": 32,
          "BS": 7.9,
          "BodyTemp": 98,
          "DiastolicBP": 100,
          "HeartRate": 78,
          "RiskLevel": "high risk",
          "SystolicBP": 140
         },
         {
          "Age": 15,
          "BS": 7.01,
          "BodyTemp": 98,
          "DiastolicBP": 80,
          "HeartRate": 70,
          "RiskLevel": "low risk",
          "SystolicBP": 120
         },
         {
          "Age": 22,
          "BS": 7.5,
          "BodyTemp": 98,
          "DiastolicBP": 90,
          "HeartRate": 82,
          "RiskLevel": "low risk",
          "SystolicBP": 120
         },
         {
          "Age": 25,
          "BS": 6.1,
          "BodyTemp": 98,
          "DiastolicBP": 70,
          "HeartRate": 80,
          "RiskLevel": "low risk",
          "SystolicBP": 90
         },
         {
          "Age": 23,
          "BS": 7.9,
          "BodyTemp": 98,
          "DiastolicBP": 90,
          "HeartRate": 70,
          "RiskLevel": "mid risk",
          "SystolicBP": 120
         },
         {
          "Age": 50,
          "BS": 15,
          "BodyTemp": 98,
          "DiastolicBP": 80,
          "HeartRate": 70,
          "RiskLevel": "high risk",
          "SystolicBP": 120
         },
         {
          "Age": 27,
          "BS": 6.8,
          "BodyTemp": 98,
          "DiastolicBP": 70,
          "HeartRate": 77,
          "RiskLevel": "low risk",
          "SystolicBP": 120
         },
         {
          "Age": 22,
          "BS": 7.1,
          "BodyTemp": 98,
          "DiastolicBP": 90,
          "HeartRate": 82,
          "RiskLevel": "low risk",
          "SystolicBP": 120
         },
         {
          "Age": 55,
          "BS": 7.2,
          "BodyTemp": 101,
          "DiastolicBP": 80,
          "HeartRate": 76,
          "RiskLevel": "high risk",
          "SystolicBP": 140
         },
         {
          "Age": 34,
          "BS": 8,
          "BodyTemp": 98,
          "DiastolicBP": 75,
          "HeartRate": 70,
          "RiskLevel": "low risk",
          "SystolicBP": 120
         },
         {
          "Age": 35,
          "BS": 7.5,
          "BodyTemp": 98,
          "DiastolicBP": 70,
          "HeartRate": 66,
          "RiskLevel": "low risk",
          "SystolicBP": 100
         },
         {
          "Age": 40,
          "BS": 15,
          "BodyTemp": 98,
          "DiastolicBP": 85,
          "HeartRate": 60,
          "RiskLevel": "high risk",
          "SystolicBP": 120
         },
         {
          "Age": 35,
          "BS": 6.1,
          "BodyTemp": 98,
          "DiastolicBP": 60,
          "HeartRate": 76,
          "RiskLevel": "low risk",
          "SystolicBP": 120
         },
         {
          "Age": 25,
          "BS": 7.5,
          "BodyTemp": 101,
          "DiastolicBP": 90,
          "HeartRate": 80,
          "RiskLevel": "low risk",
          "SystolicBP": 120
         },
         {
          "Age": 23,
          "BS": 7.8,
          "BodyTemp": 98,
          "DiastolicBP": 90,
          "HeartRate": 60,
          "RiskLevel": "mid risk",
          "SystolicBP": 120
         },
         {
          "Age": 48,
          "BS": 11,
          "BodyTemp": 98,
          "DiastolicBP": 80,
          "HeartRate": 88,
          "RiskLevel": "mid risk",
          "SystolicBP": 120
         },
         {
          "Age": 23,
          "BS": 7.5,
          "BodyTemp": 98,
          "DiastolicBP": 85,
          "HeartRate": 66,
          "RiskLevel": "low risk",
          "SystolicBP": 100
         },
         {
          "Age": 12,
          "BS": 7.5,
          "BodyTemp": 102,
          "DiastolicBP": 60,
          "HeartRate": 66,
          "RiskLevel": "low risk",
          "SystolicBP": 90
         },
         {
          "Age": 35,
          "BS": 6.9,
          "BodyTemp": 98,
          "DiastolicBP": 65,
          "HeartRate": 75,
          "RiskLevel": "low risk",
          "SystolicBP": 90
         },
         {
          "Age": 50,
          "BS": 7.9,
          "BodyTemp": 98,
          "DiastolicBP": 80,
          "HeartRate": 70,
          "RiskLevel": "low risk",
          "SystolicBP": 120
         },
         {
          "Age": 31,
          "BS": 6.8,
          "BodyTemp": 100,
          "DiastolicBP": 90,
          "HeartRate": 70,
          "RiskLevel": "mid risk",
          "SystolicBP": 110
         },
         {
          "Age": 22,
          "BS": 15,
          "BodyTemp": 98,
          "DiastolicBP": 60,
          "HeartRate": 80,
          "RiskLevel": "high risk",
          "SystolicBP": 120
         },
         {
          "Age": 48,
          "BS": 11,
          "BodyTemp": 98,
          "DiastolicBP": 80,
          "HeartRate": 88,
          "RiskLevel": "low risk",
          "SystolicBP": 120
         },
         {
          "Age": 25,
          "BS": 7.5,
          "BodyTemp": 98,
          "DiastolicBP": 90,
          "HeartRate": 80,
          "RiskLevel": "low risk",
          "SystolicBP": 120
         },
         {
          "Age": 30,
          "BS": 7.9,
          "BodyTemp": 101,
          "DiastolicBP": 80,
          "HeartRate": 76,
          "RiskLevel": "high risk",
          "SystolicBP": 120
         },
         {
          "Age": 23,
          "BS": 7.01,
          "BodyTemp": 98,
          "DiastolicBP": 80,
          "HeartRate": 70,
          "RiskLevel": "high risk",
          "SystolicBP": 140
         },
         {
          "Age": 12,
          "BS": 6.8,
          "BodyTemp": 98,
          "DiastolicBP": 95,
          "HeartRate": 60,
          "RiskLevel": "mid risk",
          "SystolicBP": 120
         },
         {
          "Age": 25,
          "BS": 6.8,
          "BodyTemp": 98,
          "DiastolicBP": 100,
          "HeartRate": 80,
          "RiskLevel": "high risk",
          "SystolicBP": 140
         },
         {
          "Age": 32,
          "BS": 6.8,
          "BodyTemp": 98,
          "DiastolicBP": 90,
          "HeartRate": 70,
          "RiskLevel": "low risk",
          "SystolicBP": 120
         },
         {
          "Age": 41,
          "BS": 7.5,
          "BodyTemp": 98,
          "DiastolicBP": 80,
          "HeartRate": 75,
          "RiskLevel": "low risk",
          "SystolicBP": 120
         },
         {
          "Age": 17,
          "BS": 6.9,
          "BodyTemp": 101,
          "DiastolicBP": 60,
          "HeartRate": 76,
          "RiskLevel": "mid risk",
          "SystolicBP": 90
         },
         {
          "Age": 18,
          "BS": 7.5,
          "BodyTemp": 98,
          "DiastolicBP": 60,
          "HeartRate": 70,
          "RiskLevel": "low risk",
          "SystolicBP": 90
         },
         {
          "Age": 20,
          "BS": 7.1,
          "BodyTemp": 98,
          "DiastolicBP": 90,
          "HeartRate": 88,
          "RiskLevel": "low risk",
          "SystolicBP": 100
         },
         {
          "Age": 25,
          "BS": 6.7,
          "BodyTemp": 101,
          "DiastolicBP": 90,
          "HeartRate": 80,
          "RiskLevel": "mid risk",
          "SystolicBP": 120
         },
         {
          "Age": 25,
          "BS": 15,
          "BodyTemp": 98,
          "DiastolicBP": 80,
          "HeartRate": 86,
          "RiskLevel": "high risk",
          "SystolicBP": 130
         },
         {
          "Age": 65,
          "BS": 15,
          "BodyTemp": 98,
          "DiastolicBP": 80,
          "HeartRate": 86,
          "RiskLevel": "high risk",
          "SystolicBP": 130
         },
         {
          "Age": 29,
          "BS": 6.7,
          "BodyTemp": 98,
          "DiastolicBP": 70,
          "HeartRate": 80,
          "RiskLevel": "mid risk",
          "SystolicBP": 90
         },
         {
          "Age": 23,
          "BS": 6.9,
          "BodyTemp": 98,
          "DiastolicBP": 70,
          "HeartRate": 70,
          "RiskLevel": "mid risk",
          "SystolicBP": 130
         },
         {
          "Age": 25,
          "BS": 7.9,
          "BodyTemp": 98,
          "DiastolicBP": 100,
          "HeartRate": 80,
          "RiskLevel": "high risk",
          "SystolicBP": 140
         },
         {
          "Age": 32,
          "BS": 7.9,
          "BodyTemp": 98,
          "DiastolicBP": 100,
          "HeartRate": 78,
          "RiskLevel": "high risk",
          "SystolicBP": 140
         },
         {
          "Age": 22,
          "BS": 7.1,
          "BodyTemp": 98,
          "DiastolicBP": 90,
          "HeartRate": 82,
          "RiskLevel": "low risk",
          "SystolicBP": 120
         },
         {
          "Age": 30,
          "BS": 6.9,
          "BodyTemp": 101,
          "DiastolicBP": 80,
          "HeartRate": 76,
          "RiskLevel": "mid risk",
          "SystolicBP": 120
         },
         {
          "Age": 17,
          "BS": 12,
          "BodyTemp": 101,
          "DiastolicBP": 75,
          "HeartRate": 76,
          "RiskLevel": "high risk",
          "SystolicBP": 110
         },
         {
          "Age": 45,
          "BS": 6.1,
          "BodyTemp": 98,
          "DiastolicBP": 95,
          "HeartRate": 66,
          "RiskLevel": "low risk",
          "SystolicBP": 120
         },
         {
          "Age": 21,
          "BS": 7.5,
          "BodyTemp": 98,
          "DiastolicBP": 80,
          "HeartRate": 76,
          "RiskLevel": "low risk",
          "SystolicBP": 120
         },
         {
          "Age": 17,
          "BS": 6.9,
          "BodyTemp": 101,
          "DiastolicBP": 63,
          "HeartRate": 70,
          "RiskLevel": "mid risk",
          "SystolicBP": 90
         },
         {
          "Age": 17,
          "BS": 9,
          "BodyTemp": 102,
          "DiastolicBP": 60,
          "HeartRate": 86,
          "RiskLevel": "high risk",
          "SystolicBP": 85
         },
         {
          "Age": 33,
          "BS": 10,
          "BodyTemp": 98,
          "DiastolicBP": 75,
          "HeartRate": 70,
          "RiskLevel": "high risk",
          "SystolicBP": 120
         },
         {
          "Age": 27,
          "BS": 6.8,
          "BodyTemp": 102,
          "DiastolicBP": 90,
          "HeartRate": 68,
          "RiskLevel": "mid risk",
          "SystolicBP": 120
         },
         {
          "Age": 19,
          "BS": 7,
          "BodyTemp": 98,
          "DiastolicBP": 80,
          "HeartRate": 70,
          "RiskLevel": "mid risk",
          "SystolicBP": 120
         },
         {
          "Age": 21,
          "BS": 7.5,
          "BodyTemp": 98,
          "DiastolicBP": 50,
          "HeartRate": 60,
          "RiskLevel": "low risk",
          "SystolicBP": 75
         },
         {
          "Age": 18,
          "BS": 6.9,
          "BodyTemp": 98,
          "DiastolicBP": 60,
          "HeartRate": 70,
          "RiskLevel": "low risk",
          "SystolicBP": 90
         },
         {
          "Age": 60,
          "BS": 6.8,
          "BodyTemp": 98,
          "DiastolicBP": 80,
          "HeartRate": 77,
          "RiskLevel": "mid risk",
          "SystolicBP": 120
         },
         {
          "Age": 22,
          "BS": 6.9,
          "BodyTemp": 98,
          "DiastolicBP": 65,
          "HeartRate": 70,
          "RiskLevel": "low risk",
          "SystolicBP": 100
         },
         {
          "Age": 23,
          "BS": 7.5,
          "BodyTemp": 98,
          "DiastolicBP": 60,
          "HeartRate": 76,
          "RiskLevel": "low risk",
          "SystolicBP": 90
         },
         {
          "Age": 49,
          "BS": 7.5,
          "BodyTemp": 98,
          "DiastolicBP": 90,
          "HeartRate": 77,
          "RiskLevel": "low risk",
          "SystolicBP": 120
         },
         {
          "Age": 17,
          "BS": 6.3,
          "BodyTemp": 102,
          "DiastolicBP": 60,
          "HeartRate": 86,
          "RiskLevel": "high risk",
          "SystolicBP": 85
         },
         {
          "Age": 21,
          "BS": 6.9,
          "BodyTemp": 98,
          "DiastolicBP": 80,
          "HeartRate": 76,
          "RiskLevel": "mid risk",
          "SystolicBP": 120
         },
         {
          "Age": 43,
          "BS": 18,
          "BodyTemp": 98,
          "DiastolicBP": 80,
          "HeartRate": 70,
          "RiskLevel": "mid risk",
          "SystolicBP": 130
         },
         {
          "Age": 34,
          "BS": 11,
          "BodyTemp": 102,
          "DiastolicBP": 60,
          "HeartRate": 86,
          "RiskLevel": "high risk",
          "SystolicBP": 85
         },
         {
          "Age": 29,
          "BS": 7.7,
          "BodyTemp": 98,
          "DiastolicBP": 70,
          "HeartRate": 78,
          "RiskLevel": "mid risk",
          "SystolicBP": 130
         },
         {
          "Age": 40,
          "BS": 18,
          "BodyTemp": 98,
          "DiastolicBP": 100,
          "HeartRate": 77,
          "RiskLevel": "high risk",
          "SystolicBP": 140
         },
         {
          "Age": 21,
          "BS": 6.9,
          "BodyTemp": 98,
          "DiastolicBP": 85,
          "HeartRate": 70,
          "RiskLevel": "low risk",
          "SystolicBP": 100
         },
         {
          "Age": 31,
          "BS": 6.1,
          "BodyTemp": 98,
          "DiastolicBP": 60,
          "HeartRate": 76,
          "RiskLevel": "low risk",
          "SystolicBP": 120
         },
         {
          "Age": 35,
          "BS": 7.8,
          "BodyTemp": 98,
          "DiastolicBP": 70,
          "HeartRate": 60,
          "RiskLevel": "low risk",
          "SystolicBP": 100
         },
         {
          "Age": 42,
          "BS": 9,
          "BodyTemp": 98,
          "DiastolicBP": 90,
          "HeartRate": 70,
          "RiskLevel": "mid risk",
          "SystolicBP": 120
         },
         {
          "Age": 31,
          "BS": 6.1,
          "BodyTemp": 98,
          "DiastolicBP": 60,
          "HeartRate": 76,
          "RiskLevel": "low risk",
          "SystolicBP": 120
         },
         {
          "Age": 17,
          "BS": 7.5,
          "BodyTemp": 101,
          "DiastolicBP": 60,
          "HeartRate": 76,
          "RiskLevel": "low risk",
          "SystolicBP": 90
         },
         {
          "Age": 60,
          "BS": 15,
          "BodyTemp": 98,
          "DiastolicBP": 85,
          "HeartRate": 60,
          "RiskLevel": "mid risk",
          "SystolicBP": 120
         },
         {
          "Age": 15,
          "BS": 7,
          "BodyTemp": 98,
          "DiastolicBP": 80,
          "HeartRate": 70,
          "RiskLevel": "low risk",
          "SystolicBP": 120
         },
         {
          "Age": 30,
          "BS": 7.8,
          "BodyTemp": 98,
          "DiastolicBP": 80,
          "HeartRate": 70,
          "RiskLevel": "low risk",
          "SystolicBP": 120
         },
         {
          "Age": 48,
          "BS": 11,
          "BodyTemp": 98,
          "DiastolicBP": 80,
          "HeartRate": 88,
          "RiskLevel": "high risk",
          "SystolicBP": 120
         },
         {
          "Age": 21,
          "BS": 6.1,
          "BodyTemp": 98,
          "DiastolicBP": 50,
          "HeartRate": 70,
          "RiskLevel": "low risk",
          "SystolicBP": 75
         },
         {
          "Age": 42,
          "BS": 7.5,
          "BodyTemp": 98,
          "DiastolicBP": 80,
          "HeartRate": 70,
          "RiskLevel": "low risk",
          "SystolicBP": 120
         },
         {
          "Age": 20,
          "BS": 7,
          "BodyTemp": 100,
          "DiastolicBP": 60,
          "HeartRate": 70,
          "RiskLevel": "mid risk",
          "SystolicBP": 110
         },
         {
          "Age": 48,
          "BS": 11,
          "BodyTemp": 98,
          "DiastolicBP": 80,
          "HeartRate": 88,
          "RiskLevel": "high risk",
          "SystolicBP": 120
         },
         {
          "Age": 25,
          "BS": 7.2,
          "BodyTemp": 98,
          "DiastolicBP": 100,
          "HeartRate": 80,
          "RiskLevel": "high risk",
          "SystolicBP": 140
         },
         {
          "Age": 15,
          "BS": 6.8,
          "BodyTemp": 98,
          "DiastolicBP": 80,
          "HeartRate": 70,
          "RiskLevel": "low risk",
          "SystolicBP": 120
         },
         {
          "Age": 17,
          "BS": 7.5,
          "BodyTemp": 102,
          "DiastolicBP": 60,
          "HeartRate": 86,
          "RiskLevel": "low risk",
          "SystolicBP": 85
         },
         {
          "Age": 20,
          "BS": 6.8,
          "BodyTemp": 98,
          "DiastolicBP": 75,
          "HeartRate": 70,
          "RiskLevel": "low risk",
          "SystolicBP": 120
         },
         {
          "Age": 18,
          "BS": 7.9,
          "BodyTemp": 102,
          "DiastolicBP": 80,
          "HeartRate": 76,
          "RiskLevel": "mid risk",
          "SystolicBP": 120
         },
         {
          "Age": 23,
          "BS": 7.5,
          "BodyTemp": 98,
          "DiastolicBP": 85,
          "HeartRate": 66,
          "RiskLevel": "mid risk",
          "SystolicBP": 100
         },
         {
          "Age": 10,
          "BS": 6,
          "BodyTemp": 99,
          "DiastolicBP": 50,
          "HeartRate": 70,
          "RiskLevel": "mid risk",
          "SystolicBP": 100
         },
         {
          "Age": 42,
          "BS": 7.7,
          "BodyTemp": 98,
          "DiastolicBP": 80,
          "HeartRate": 70,
          "RiskLevel": "low risk",
          "SystolicBP": 120
         },
         {
          "Age": 15,
          "BS": 6,
          "BodyTemp": 98,
          "DiastolicBP": 60,
          "HeartRate": 80,
          "RiskLevel": "low risk",
          "SystolicBP": 90
         },
         {
          "Age": 21,
          "BS": 6.8,
          "BodyTemp": 98,
          "DiastolicBP": 50,
          "HeartRate": 60,
          "RiskLevel": "low risk",
          "SystolicBP": 100
         },
         {
          "Age": 35,
          "BS": 7.5,
          "BodyTemp": 98,
          "DiastolicBP": 100,
          "HeartRate": 66,
          "RiskLevel": "high risk",
          "SystolicBP": 140
         },
         {
          "Age": 50,
          "BS": 6.7,
          "BodyTemp": 98,
          "DiastolicBP": 80,
          "HeartRate": 70,
          "RiskLevel": "mid risk",
          "SystolicBP": 140
         },
         {
          "Age": 21,
          "BS": 7.5,
          "BodyTemp": 98,
          "DiastolicBP": 50,
          "HeartRate": 60,
          "RiskLevel": "low risk",
          "SystolicBP": 75
         },
         {
          "Age": 17,
          "BS": 7.9,
          "BodyTemp": 101,
          "DiastolicBP": 60,
          "HeartRate": 76,
          "RiskLevel": "low risk",
          "SystolicBP": 90
         },
         {
          "Age": 40,
          "BS": 18,
          "BodyTemp": 98,
          "DiastolicBP": 100,
          "HeartRate": 90,
          "RiskLevel": "high risk",
          "SystolicBP": 140
         },
         {
          "Age": 40,
          "BS": 12,
          "BodyTemp": 98,
          "DiastolicBP": 90,
          "HeartRate": 80,
          "RiskLevel": "high risk",
          "SystolicBP": 120
         },
         {
          "Age": 60,
          "BS": 15,
          "BodyTemp": 98,
          "DiastolicBP": 85,
          "HeartRate": 60,
          "RiskLevel": "mid risk",
          "SystolicBP": 120
         },
         {
          "Age": 60,
          "BS": 15,
          "BodyTemp": 98,
          "DiastolicBP": 85,
          "HeartRate": 60,
          "RiskLevel": "high risk",
          "SystolicBP": 120
         },
         {
          "Age": 20,
          "BS": 7.5,
          "BodyTemp": 98,
          "DiastolicBP": 75,
          "HeartRate": 70,
          "RiskLevel": "low risk",
          "SystolicBP": 120
         },
         {
          "Age": 49,
          "BS": 7.5,
          "BodyTemp": 98,
          "DiastolicBP": 90,
          "HeartRate": 77,
          "RiskLevel": "mid risk",
          "SystolicBP": 120
         },
         {
          "Age": 35,
          "BS": 6.9,
          "BodyTemp": 98,
          "DiastolicBP": 80,
          "HeartRate": 80,
          "RiskLevel": "low risk",
          "SystolicBP": 120
         },
         {
          "Age": 15,
          "BS": 7.8,
          "BodyTemp": 98,
          "DiastolicBP": 80,
          "HeartRate": 70,
          "RiskLevel": "low risk",
          "SystolicBP": 120
         },
         {
          "Age": 54,
          "BS": 15,
          "BodyTemp": 98,
          "DiastolicBP": 100,
          "HeartRate": 66,
          "RiskLevel": "high risk",
          "SystolicBP": 140
         },
         {
          "Age": 35,
          "BS": 7,
          "BodyTemp": 98,
          "DiastolicBP": 70,
          "HeartRate": 60,
          "RiskLevel": "low risk",
          "SystolicBP": 100
         },
         {
          "Age": 19,
          "BS": 7,
          "BodyTemp": 98,
          "DiastolicBP": 80,
          "HeartRate": 70,
          "RiskLevel": "low risk",
          "SystolicBP": 120
         },
         {
          "Age": 23,
          "BS": 6.9,
          "BodyTemp": 98,
          "DiastolicBP": 85,
          "HeartRate": 66,
          "RiskLevel": "mid risk",
          "SystolicBP": 100
         },
         {
          "Age": 60,
          "BS": 6.8,
          "BodyTemp": 98,
          "DiastolicBP": 65,
          "HeartRate": 77,
          "RiskLevel": "mid risk",
          "SystolicBP": 90
         },
         {
          "Age": 17,
          "BS": 6.1,
          "BodyTemp": 103,
          "DiastolicBP": 65,
          "HeartRate": 67,
          "RiskLevel": "high risk",
          "SystolicBP": 90
         },
         {
          "Age": 19,
          "BS": 9,
          "BodyTemp": 98,
          "DiastolicBP": 85,
          "HeartRate": 60,
          "RiskLevel": "mid risk",
          "SystolicBP": 120
         },
         {
          "Age": 30,
          "BS": 7,
          "BodyTemp": 98,
          "DiastolicBP": 85,
          "HeartRate": 70,
          "RiskLevel": "high risk",
          "SystolicBP": 140
         },
         {
          "Age": 25,
          "BS": 7.2,
          "BodyTemp": 98,
          "DiastolicBP": 100,
          "HeartRate": 80,
          "RiskLevel": "high risk",
          "SystolicBP": 140
         },
         {
          "Age": 17,
          "BS": 7.9,
          "BodyTemp": 101,
          "DiastolicBP": 60,
          "HeartRate": 76,
          "RiskLevel": "low risk",
          "SystolicBP": 90
         },
         {
          "Age": 27,
          "BS": 6.8,
          "BodyTemp": 98,
          "DiastolicBP": 70,
          "HeartRate": 77,
          "RiskLevel": "low risk",
          "SystolicBP": 120
         },
         {
          "Age": 31,
          "BS": 6.1,
          "BodyTemp": 98,
          "DiastolicBP": 60,
          "HeartRate": 76,
          "RiskLevel": "mid risk",
          "SystolicBP": 120
         },
         {
          "Age": 22,
          "BS": 7.2,
          "BodyTemp": 98,
          "DiastolicBP": 65,
          "HeartRate": 70,
          "RiskLevel": "low risk",
          "SystolicBP": 100
         },
         {
          "Age": 42,
          "BS": 6.4,
          "BodyTemp": 98,
          "DiastolicBP": 80,
          "HeartRate": 70,
          "RiskLevel": "low risk",
          "SystolicBP": 120
         },
         {
          "Age": 29,
          "BS": 6.7,
          "BodyTemp": 98,
          "DiastolicBP": 70,
          "HeartRate": 80,
          "RiskLevel": "mid risk",
          "SystolicBP": 90
         },
         {
          "Age": 17,
          "BS": 13,
          "BodyTemp": 101,
          "DiastolicBP": 75,
          "HeartRate": 76,
          "RiskLevel": "high risk",
          "SystolicBP": 110
         },
         {
          "Age": 13,
          "BS": 7.9,
          "BodyTemp": 101,
          "DiastolicBP": 65,
          "HeartRate": 80,
          "RiskLevel": "mid risk",
          "SystolicBP": 90
         },
         {
          "Age": 15,
          "BS": 6,
          "BodyTemp": 99,
          "DiastolicBP": 49,
          "HeartRate": 77,
          "RiskLevel": "low risk",
          "SystolicBP": 100
         },
         {
          "Age": 32,
          "BS": 7.8,
          "BodyTemp": 98,
          "DiastolicBP": 90,
          "HeartRate": 70,
          "RiskLevel": "low risk",
          "SystolicBP": 120
         },
         {
          "Age": 26,
          "BS": 6,
          "BodyTemp": 101,
          "DiastolicBP": 60,
          "HeartRate": 86,
          "RiskLevel": "mid risk",
          "SystolicBP": 85
         },
         {
          "Age": 23,
          "BS": 6.8,
          "BodyTemp": 98,
          "DiastolicBP": 70,
          "HeartRate": 78,
          "RiskLevel": "mid risk",
          "SystolicBP": 130
         },
         {
          "Age": 25,
          "BS": 7.5,
          "BodyTemp": 98,
          "DiastolicBP": 100,
          "HeartRate": 80,
          "RiskLevel": "high risk",
          "SystolicBP": 140
         },
         {
          "Age": 37,
          "BS": 11,
          "BodyTemp": 98,
          "DiastolicBP": 90,
          "HeartRate": 88,
          "RiskLevel": "high risk",
          "SystolicBP": 120
         },
         {
          "Age": 15,
          "BS": 7,
          "BodyTemp": 98,
          "DiastolicBP": 68,
          "HeartRate": 77,
          "RiskLevel": "low risk",
          "SystolicBP": 76
         },
         {
          "Age": 13,
          "BS": 7.5,
          "BodyTemp": 101,
          "DiastolicBP": 65,
          "HeartRate": 80,
          "RiskLevel": "low risk",
          "SystolicBP": 90
         },
         {
          "Age": 23,
          "BS": 6.7,
          "BodyTemp": 98,
          "DiastolicBP": 90,
          "HeartRate": 70,
          "RiskLevel": "low risk",
          "SystolicBP": 120
         },
         {
          "Age": 20,
          "BS": 7,
          "BodyTemp": 100,
          "DiastolicBP": 60,
          "HeartRate": 70,
          "RiskLevel": "mid risk",
          "SystolicBP": 110
         },
         {
          "Age": 27,
          "BS": 6.8,
          "BodyTemp": 102,
          "DiastolicBP": 90,
          "HeartRate": 68,
          "RiskLevel": "mid risk",
          "SystolicBP": 120
         },
         {
          "Age": 26,
          "BS": 6,
          "BodyTemp": 101,
          "DiastolicBP": 60,
          "HeartRate": 86,
          "RiskLevel": "mid risk",
          "SystolicBP": 85
         },
         {
          "Age": 17,
          "BS": 7.5,
          "BodyTemp": 102,
          "DiastolicBP": 60,
          "HeartRate": 86,
          "RiskLevel": "low risk",
          "SystolicBP": 85
         },
         {
          "Age": 18,
          "BS": 6.9,
          "BodyTemp": 102,
          "DiastolicBP": 80,
          "HeartRate": 76,
          "RiskLevel": "mid risk",
          "SystolicBP": 120
         },
         {
          "Age": 21,
          "BS": 7.8,
          "BodyTemp": 98,
          "DiastolicBP": 80,
          "HeartRate": 77,
          "RiskLevel": "low risk",
          "SystolicBP": 120
         },
         {
          "Age": 15,
          "BS": 7.5,
          "BodyTemp": 98,
          "DiastolicBP": 60,
          "HeartRate": 80,
          "RiskLevel": "low risk",
          "SystolicBP": 80
         },
         {
          "Age": 22,
          "BS": 6.8,
          "BodyTemp": 98,
          "DiastolicBP": 60,
          "HeartRate": 77,
          "RiskLevel": "mid risk",
          "SystolicBP": 90
         },
         {
          "Age": 29,
          "BS": 6.8,
          "BodyTemp": 98,
          "DiastolicBP": 70,
          "HeartRate": 80,
          "RiskLevel": "low risk",
          "SystolicBP": 100
         },
         {
          "Age": 30,
          "BS": 8,
          "BodyTemp": 98,
          "DiastolicBP": 65,
          "HeartRate": 77,
          "RiskLevel": "mid risk",
          "SystolicBP": 90
         },
         {
          "Age": 28,
          "BS": 7.5,
          "BodyTemp": 101,
          "DiastolicBP": 60,
          "HeartRate": 86,
          "RiskLevel": "mid risk",
          "SystolicBP": 115
         },
         {
          "Age": 17,
          "BS": 9,
          "BodyTemp": 102,
          "DiastolicBP": 60,
          "HeartRate": 86,
          "RiskLevel": "mid risk",
          "SystolicBP": 90
         },
         {
          "Age": 55,
          "BS": 7.5,
          "BodyTemp": 98,
          "DiastolicBP": 65,
          "HeartRate": 66,
          "RiskLevel": "low risk",
          "SystolicBP": 100
         },
         {
          "Age": 22,
          "BS": 6.9,
          "BodyTemp": 98,
          "DiastolicBP": 60,
          "HeartRate": 76,
          "RiskLevel": "mid risk",
          "SystolicBP": 85
         },
         {
          "Age": 48,
          "BS": 11,
          "BodyTemp": 98,
          "DiastolicBP": 80,
          "HeartRate": 88,
          "RiskLevel": "mid risk",
          "SystolicBP": 120
         },
         {
          "Age": 23,
          "BS": 6.8,
          "BodyTemp": 98,
          "DiastolicBP": 90,
          "HeartRate": 70,
          "RiskLevel": "high risk",
          "SystolicBP": 140
         },
         {
          "Age": 29,
          "BS": 9,
          "BodyTemp": 98,
          "DiastolicBP": 70,
          "HeartRate": 80,
          "RiskLevel": "high risk",
          "SystolicBP": 120
         },
         {
          "Age": 19,
          "BS": 7.8,
          "BodyTemp": 98,
          "DiastolicBP": 85,
          "HeartRate": 60,
          "RiskLevel": "mid risk",
          "SystolicBP": 120
         },
         {
          "Age": 17,
          "BS": 7.5,
          "BodyTemp": 103,
          "DiastolicBP": 65,
          "HeartRate": 67,
          "RiskLevel": "low risk",
          "SystolicBP": 90
         },
         {
          "Age": 17,
          "BS": 13,
          "BodyTemp": 101,
          "DiastolicBP": 75,
          "HeartRate": 76,
          "RiskLevel": "high risk",
          "SystolicBP": 110
         },
         {
          "Age": 19,
          "BS": 11,
          "BodyTemp": 101,
          "DiastolicBP": 65,
          "HeartRate": 70,
          "RiskLevel": "high risk",
          "SystolicBP": 90
         },
         {
          "Age": 40,
          "BS": 18,
          "BodyTemp": 98,
          "DiastolicBP": 100,
          "HeartRate": 90,
          "RiskLevel": "high risk",
          "SystolicBP": 140
         },
         {
          "Age": 23,
          "BS": 7.01,
          "BodyTemp": 98,
          "DiastolicBP": 70,
          "HeartRate": 78,
          "RiskLevel": "mid risk",
          "SystolicBP": 130
         },
         {
          "Age": 21,
          "BS": 6.5,
          "BodyTemp": 98,
          "DiastolicBP": 50,
          "HeartRate": 60,
          "RiskLevel": "low risk",
          "SystolicBP": 90
         },
         {
          "Age": 19,
          "BS": 7.8,
          "BodyTemp": 98,
          "DiastolicBP": 85,
          "HeartRate": 60,
          "RiskLevel": "mid risk",
          "SystolicBP": 120
         },
         {
          "Age": 60,
          "BS": 7.5,
          "BodyTemp": 98,
          "DiastolicBP": 80,
          "HeartRate": 75,
          "RiskLevel": "mid risk",
          "SystolicBP": 120
         },
         {
          "Age": 54,
          "BS": 15,
          "BodyTemp": 98,
          "DiastolicBP": 100,
          "HeartRate": 66,
          "RiskLevel": "high risk",
          "SystolicBP": 140
         },
         {
          "Age": 60,
          "BS": 7.5,
          "BodyTemp": 98,
          "DiastolicBP": 80,
          "HeartRate": 75,
          "RiskLevel": "low risk",
          "SystolicBP": 120
         },
         {
          "Age": 15,
          "BS": 6,
          "BodyTemp": 98,
          "DiastolicBP": 60,
          "HeartRate": 80,
          "RiskLevel": "low risk",
          "SystolicBP": 100
         },
         {
          "Age": 15,
          "BS": 7,
          "BodyTemp": 98,
          "DiastolicBP": 60,
          "HeartRate": 80,
          "RiskLevel": "low risk",
          "SystolicBP": 80
         },
         {
          "Age": 42,
          "BS": 7.5,
          "BodyTemp": 98,
          "DiastolicBP": 60,
          "HeartRate": 76,
          "RiskLevel": "low risk",
          "SystolicBP": 90
         },
         {
          "Age": 23,
          "BS": 6.8,
          "BodyTemp": 98,
          "DiastolicBP": 60,
          "HeartRate": 76,
          "RiskLevel": "low risk",
          "SystolicBP": 99
         },
         {
          "Age": 12,
          "BS": 7.2,
          "BodyTemp": 98,
          "DiastolicBP": 60,
          "HeartRate": 77,
          "RiskLevel": "low risk",
          "SystolicBP": 95
         },
         {
          "Age": 55,
          "BS": 6.1,
          "BodyTemp": 98,
          "DiastolicBP": 65,
          "HeartRate": 66,
          "RiskLevel": "low risk",
          "SystolicBP": 100
         },
         {
          "Age": 50,
          "BS": 7,
          "BodyTemp": 98,
          "DiastolicBP": 80,
          "HeartRate": 70,
          "RiskLevel": "mid risk",
          "SystolicBP": 120
         },
         {
          "Age": 32,
          "BS": 7,
          "BodyTemp": 100,
          "DiastolicBP": 90,
          "HeartRate": 70,
          "RiskLevel": "mid risk",
          "SystolicBP": 120
         },
         {
          "Age": 46,
          "BS": 12,
          "BodyTemp": 99,
          "DiastolicBP": 100,
          "HeartRate": 90,
          "RiskLevel": "high risk",
          "SystolicBP": 140
         },
         {
          "Age": 15,
          "BS": 7.5,
          "BodyTemp": 98,
          "DiastolicBP": 49,
          "HeartRate": 77,
          "RiskLevel": "low risk",
          "SystolicBP": 76
         },
         {
          "Age": 17,
          "BS": 6.7,
          "BodyTemp": 102,
          "DiastolicBP": 80,
          "HeartRate": 76,
          "RiskLevel": "mid risk",
          "SystolicBP": 120
         },
         {
          "Age": 19,
          "BS": 7.2,
          "BodyTemp": 98,
          "DiastolicBP": 75,
          "HeartRate": 66,
          "RiskLevel": "low risk",
          "SystolicBP": 120
         },
         {
          "Age": 23,
          "BS": 7.5,
          "BodyTemp": 98,
          "DiastolicBP": 90,
          "HeartRate": 70,
          "RiskLevel": "low risk",
          "SystolicBP": 120
         },
         {
          "Age": 13,
          "BS": 7.9,
          "BodyTemp": 101,
          "DiastolicBP": 65,
          "HeartRate": 80,
          "RiskLevel": "mid risk",
          "SystolicBP": 90
         },
         {
          "Age": 17,
          "BS": 7.9,
          "BodyTemp": 102,
          "DiastolicBP": 60,
          "HeartRate": 86,
          "RiskLevel": "low risk",
          "SystolicBP": 85
         },
         {
          "Age": 40,
          "BS": 11,
          "BodyTemp": 98,
          "DiastolicBP": 95,
          "HeartRate": 80,
          "RiskLevel": "mid risk",
          "SystolicBP": 120
         },
         {
          "Age": 23,
          "BS": 7.5,
          "BodyTemp": 98,
          "DiastolicBP": 90,
          "HeartRate": 60,
          "RiskLevel": "low risk",
          "SystolicBP": 120
         },
         {
          "Age": 22,
          "BS": 7.8,
          "BodyTemp": 98,
          "DiastolicBP": 65,
          "HeartRate": 80,
          "RiskLevel": "low risk",
          "SystolicBP": 100
         },
         {
          "Age": 15,
          "BS": 7.9,
          "BodyTemp": 98,
          "DiastolicBP": 49,
          "HeartRate": 77,
          "RiskLevel": "low risk",
          "SystolicBP": 76
         },
         {
          "Age": 40,
          "BS": 15,
          "BodyTemp": 98,
          "DiastolicBP": 85,
          "HeartRate": 60,
          "RiskLevel": "high risk",
          "SystolicBP": 120
         },
         {
          "Age": 25,
          "BS": 7.01,
          "BodyTemp": 98,
          "DiastolicBP": 89,
          "HeartRate": 77,
          "RiskLevel": "low risk",
          "SystolicBP": 110
         },
         {
          "Age": 12,
          "BS": 7.5,
          "BodyTemp": 102,
          "DiastolicBP": 60,
          "HeartRate": 60,
          "RiskLevel": "low risk",
          "SystolicBP": 90
         },
         {
          "Age": 19,
          "BS": 7,
          "BodyTemp": 98,
          "DiastolicBP": 80,
          "HeartRate": 70,
          "RiskLevel": "mid risk",
          "SystolicBP": 120
         },
         {
          "Age": 35,
          "BS": 6.1,
          "BodyTemp": 98,
          "DiastolicBP": 60,
          "HeartRate": 76,
          "RiskLevel": "mid risk",
          "SystolicBP": 120
         },
         {
          "Age": 23,
          "BS": 7.7,
          "BodyTemp": 98,
          "DiastolicBP": 90,
          "HeartRate": 60,
          "RiskLevel": "low risk",
          "SystolicBP": 120
         },
         {
          "Age": 17,
          "BS": 6.7,
          "BodyTemp": 102,
          "DiastolicBP": 80,
          "HeartRate": 76,
          "RiskLevel": "mid risk",
          "SystolicBP": 120
         },
         {
          "Age": 17,
          "BS": 9,
          "BodyTemp": 102,
          "DiastolicBP": 60,
          "HeartRate": 86,
          "RiskLevel": "mid risk",
          "SystolicBP": 85
         },
         {
          "Age": 35,
          "BS": 7.5,
          "BodyTemp": 98,
          "DiastolicBP": 100,
          "HeartRate": 66,
          "RiskLevel": "high risk",
          "SystolicBP": 140
         },
         {
          "Age": 50,
          "BS": 16,
          "BodyTemp": 102,
          "DiastolicBP": 80,
          "HeartRate": 76,
          "RiskLevel": "mid risk",
          "SystolicBP": 130
         },
         {
          "Age": 60,
          "BS": 6.8,
          "BodyTemp": 98,
          "DiastolicBP": 65,
          "HeartRate": 77,
          "RiskLevel": "mid risk",
          "SystolicBP": 90
         },
         {
          "Age": 12,
          "BS": 11,
          "BodyTemp": 102,
          "DiastolicBP": 60,
          "HeartRate": 60,
          "RiskLevel": "high risk",
          "SystolicBP": 90
         },
         {
          "Age": 19,
          "BS": 7.9,
          "BodyTemp": 98,
          "DiastolicBP": 75,
          "HeartRate": 70,
          "RiskLevel": "low risk",
          "SystolicBP": 120
         },
         {
          "Age": 17,
          "BS": 6.9,
          "BodyTemp": 101,
          "DiastolicBP": 63,
          "HeartRate": 70,
          "RiskLevel": "mid risk",
          "SystolicBP": 90
         },
         {
          "Age": 19,
          "BS": 7,
          "BodyTemp": 98,
          "DiastolicBP": 80,
          "HeartRate": 70,
          "RiskLevel": "mid risk",
          "SystolicBP": 120
         },
         {
          "Age": 16,
          "BS": 7.2,
          "BodyTemp": 98,
          "DiastolicBP": 70,
          "HeartRate": 80,
          "RiskLevel": "low risk",
          "SystolicBP": 100
         },
         {
          "Age": 20,
          "BS": 7.5,
          "BodyTemp": 98,
          "DiastolicBP": 90,
          "HeartRate": 88,
          "RiskLevel": "mid risk",
          "SystolicBP": 100
         },
         {
          "Age": 33,
          "BS": 7,
          "BodyTemp": 98,
          "DiastolicBP": 65,
          "HeartRate": 70,
          "RiskLevel": "mid risk",
          "SystolicBP": 115
         },
         {
          "Age": 19,
          "BS": 6.9,
          "BodyTemp": 98,
          "DiastolicBP": 75,
          "HeartRate": 66,
          "RiskLevel": "mid risk",
          "SystolicBP": 120
         },
         {
          "Age": 54,
          "BS": 15,
          "BodyTemp": 98,
          "DiastolicBP": 100,
          "HeartRate": 66,
          "RiskLevel": "high risk",
          "SystolicBP": 140
         },
         {
          "Age": 35,
          "BS": 13,
          "BodyTemp": 98,
          "DiastolicBP": 90,
          "HeartRate": 70,
          "RiskLevel": "high risk",
          "SystolicBP": 140
         },
         {
          "Age": 29,
          "BS": 7.7,
          "BodyTemp": 98,
          "DiastolicBP": 70,
          "HeartRate": 78,
          "RiskLevel": "mid risk",
          "SystolicBP": 130
         },
         {
          "Age": 10,
          "BS": 6.9,
          "BodyTemp": 98,
          "DiastolicBP": 50,
          "HeartRate": 70,
          "RiskLevel": "low risk",
          "SystolicBP": 70
         },
         {
          "Age": 28,
          "BS": 7.2,
          "BodyTemp": 98,
          "DiastolicBP": 60,
          "HeartRate": 82,
          "RiskLevel": "low risk",
          "SystolicBP": 90
         },
         {
          "Age": 55,
          "BS": 12,
          "BodyTemp": 98,
          "DiastolicBP": 90,
          "HeartRate": 70,
          "RiskLevel": "mid risk",
          "SystolicBP": 120
         },
         {
          "Age": 15,
          "BS": 7.9,
          "BodyTemp": 98,
          "DiastolicBP": 80,
          "HeartRate": 70,
          "RiskLevel": "low risk",
          "SystolicBP": 120
         },
         {
          "Age": 30,
          "BS": 15,
          "BodyTemp": 98,
          "DiastolicBP": 100,
          "HeartRate": 70,
          "RiskLevel": "high risk",
          "SystolicBP": 140
         },
         {
          "Age": 40,
          "BS": 19,
          "BodyTemp": 98,
          "DiastolicBP": 100,
          "HeartRate": 77,
          "RiskLevel": "high risk",
          "SystolicBP": 160
         },
         {
          "Age": 33,
          "BS": 7,
          "BodyTemp": 98,
          "DiastolicBP": 65,
          "HeartRate": 70,
          "RiskLevel": "mid risk",
          "SystolicBP": 115
         },
         {
          "Age": 28,
          "BS": 6.9,
          "BodyTemp": 98,
          "DiastolicBP": 90,
          "HeartRate": 70,
          "RiskLevel": "mid risk",
          "SystolicBP": 120
         },
         {
          "Age": 42,
          "BS": 7.9,
          "BodyTemp": 98,
          "DiastolicBP": 80,
          "HeartRate": 70,
          "RiskLevel": "low risk",
          "SystolicBP": 120
         },
         {
          "Age": 35,
          "BS": 6.9,
          "BodyTemp": 98,
          "DiastolicBP": 60,
          "HeartRate": 70,
          "RiskLevel": "low risk",
          "SystolicBP": 120
         },
         {
          "Age": 19,
          "BS": 7,
          "BodyTemp": 98,
          "DiastolicBP": 85,
          "HeartRate": 60,
          "RiskLevel": "low risk",
          "SystolicBP": 120
         },
         {
          "Age": 32,
          "BS": 6,
          "BodyTemp": 101,
          "DiastolicBP": 65,
          "HeartRate": 76,
          "RiskLevel": "mid risk",
          "SystolicBP": 120
         },
         {
          "Age": 23,
          "BS": 7.1,
          "BodyTemp": 98,
          "DiastolicBP": 85,
          "HeartRate": 66,
          "RiskLevel": "low risk",
          "SystolicBP": 100
         },
         {
          "Age": 35,
          "BS": 13,
          "BodyTemp": 98,
          "DiastolicBP": 80,
          "HeartRate": 70,
          "RiskLevel": "high risk",
          "SystolicBP": 140
         },
         {
          "Age": 39,
          "BS": 9,
          "BodyTemp": 98,
          "DiastolicBP": 70,
          "HeartRate": 80,
          "RiskLevel": "high risk",
          "SystolicBP": 90
         },
         {
          "Age": 29,
          "BS": 7.5,
          "BodyTemp": 98,
          "DiastolicBP": 70,
          "HeartRate": 78,
          "RiskLevel": "mid risk",
          "SystolicBP": 130
         },
         {
          "Age": 31,
          "BS": 6.1,
          "BodyTemp": 98,
          "DiastolicBP": 60,
          "HeartRate": 76,
          "RiskLevel": "mid risk",
          "SystolicBP": 120
         },
         {
          "Age": 16,
          "BS": 7.5,
          "BodyTemp": 98,
          "DiastolicBP": 70,
          "HeartRate": 80,
          "RiskLevel": "low risk",
          "SystolicBP": 100
         },
         {
          "Age": 42,
          "BS": 7.9,
          "BodyTemp": 98,
          "DiastolicBP": 80,
          "HeartRate": 70,
          "RiskLevel": "low risk",
          "SystolicBP": 120
         },
         {
          "Age": 15,
          "BS": 6.8,
          "BodyTemp": 98,
          "DiastolicBP": 80,
          "HeartRate": 70,
          "RiskLevel": "low risk",
          "SystolicBP": 120
         },
         {
          "Age": 25,
          "BS": 7.01,
          "BodyTemp": 98,
          "DiastolicBP": 100,
          "HeartRate": 80,
          "RiskLevel": "high risk",
          "SystolicBP": 140
         },
         {
          "Age": 13,
          "BS": 7.9,
          "BodyTemp": 101,
          "DiastolicBP": 65,
          "HeartRate": 80,
          "RiskLevel": "mid risk",
          "SystolicBP": 90
         },
         {
          "Age": 22,
          "BS": 6.8,
          "BodyTemp": 98,
          "DiastolicBP": 60,
          "HeartRate": 77,
          "RiskLevel": "low risk",
          "SystolicBP": 90
         },
         {
          "Age": 40,
          "BS": 19,
          "BodyTemp": 98,
          "DiastolicBP": 100,
          "HeartRate": 77,
          "RiskLevel": "high risk",
          "SystolicBP": 160
         },
         {
          "Age": 37,
          "BS": 11,
          "BodyTemp": 98,
          "DiastolicBP": 90,
          "HeartRate": 88,
          "RiskLevel": "high risk",
          "SystolicBP": 120
         },
         {
          "Age": 18,
          "BS": 7.5,
          "BodyTemp": 101,
          "DiastolicBP": 60,
          "HeartRate": 86,
          "RiskLevel": "mid risk",
          "SystolicBP": 85
         },
         {
          "Age": 31,
          "BS": 6.1,
          "BodyTemp": 98,
          "DiastolicBP": 60,
          "HeartRate": 76,
          "RiskLevel": "mid risk",
          "SystolicBP": 120
         },
         {
          "Age": 48,
          "BS": 11,
          "BodyTemp": 98,
          "DiastolicBP": 80,
          "HeartRate": 88,
          "RiskLevel": "high risk",
          "SystolicBP": 120
         },
         {
          "Age": 32,
          "BS": 7.9,
          "BodyTemp": 98,
          "DiastolicBP": 90,
          "HeartRate": 70,
          "RiskLevel": "low risk",
          "SystolicBP": 120
         },
         {
          "Age": 19,
          "BS": 7,
          "BodyTemp": 98.4,
          "DiastolicBP": 60,
          "HeartRate": 70,
          "RiskLevel": "low risk",
          "SystolicBP": 120
         },
         {
          "Age": 20,
          "BS": 6.8,
          "BodyTemp": 98,
          "DiastolicBP": 75,
          "HeartRate": 70,
          "RiskLevel": "low risk",
          "SystolicBP": 120
         },
         {
          "Age": 25,
          "BS": 6.7,
          "BodyTemp": 101,
          "DiastolicBP": 90,
          "HeartRate": 80,
          "RiskLevel": "mid risk",
          "SystolicBP": 120
         },
         {
          "Age": 54,
          "BS": 15,
          "BodyTemp": 98,
          "DiastolicBP": 100,
          "HeartRate": 66,
          "RiskLevel": "high risk",
          "SystolicBP": 140
         },
         {
          "Age": 17,
          "BS": 12,
          "BodyTemp": 101,
          "DiastolicBP": 75,
          "HeartRate": 76,
          "RiskLevel": "high risk",
          "SystolicBP": 110
         },
         {
          "Age": 17,
          "BS": 8,
          "BodyTemp": 101,
          "DiastolicBP": 63,
          "HeartRate": 70,
          "RiskLevel": "high risk",
          "SystolicBP": 90
         },
         {
          "Age": 21,
          "BS": 7.5,
          "BodyTemp": 98,
          "DiastolicBP": 80,
          "HeartRate": 77,
          "RiskLevel": "mid risk",
          "SystolicBP": 120
         },
         {
          "Age": 24,
          "BS": 7.5,
          "BodyTemp": 98,
          "DiastolicBP": 80,
          "HeartRate": 66,
          "RiskLevel": "low risk",
          "SystolicBP": 120
         },
         {
          "Age": 16,
          "BS": 7.5,
          "BodyTemp": 100,
          "DiastolicBP": 50,
          "HeartRate": 70,
          "RiskLevel": "low risk",
          "SystolicBP": 70
         },
         {
          "Age": 19,
          "BS": 7.9,
          "BodyTemp": 98,
          "DiastolicBP": 75,
          "HeartRate": 70,
          "RiskLevel": "low risk",
          "SystolicBP": 120
         },
         {
          "Age": 21,
          "BS": 6.9,
          "BodyTemp": 98,
          "DiastolicBP": 85,
          "HeartRate": 70,
          "RiskLevel": "low risk",
          "SystolicBP": 100
         },
         {
          "Age": 42,
          "BS": 7.5,
          "BodyTemp": 98,
          "DiastolicBP": 80,
          "HeartRate": 70,
          "RiskLevel": "low risk",
          "SystolicBP": 120
         },
         {
          "Age": 42,
          "BS": 18,
          "BodyTemp": 98,
          "DiastolicBP": 100,
          "HeartRate": 90,
          "RiskLevel": "high risk",
          "SystolicBP": 140
         },
         {
          "Age": 28,
          "BS": 7.8,
          "BodyTemp": 101,
          "DiastolicBP": 60,
          "HeartRate": 86,
          "RiskLevel": "mid risk",
          "SystolicBP": 115
         },
         {
          "Age": 45,
          "BS": 6.9,
          "BodyTemp": 103,
          "DiastolicBP": 80,
          "HeartRate": 70,
          "RiskLevel": "low risk",
          "SystolicBP": 120
         },
         {
          "Age": 17,
          "BS": 7,
          "BodyTemp": 102,
          "DiastolicBP": 80,
          "HeartRate": 76,
          "RiskLevel": "high risk",
          "SystolicBP": 120
         },
         {
          "Age": 50,
          "BS": 16,
          "BodyTemp": 98,
          "DiastolicBP": 100,
          "HeartRate": 75,
          "RiskLevel": "mid risk",
          "SystolicBP": 130
         },
         {
          "Age": 23,
          "BS": 6.1,
          "BodyTemp": 98,
          "DiastolicBP": 90,
          "HeartRate": 70,
          "RiskLevel": "low risk",
          "SystolicBP": 120
         },
         {
          "Age": 60,
          "BS": 7.5,
          "BodyTemp": 98,
          "DiastolicBP": 80,
          "HeartRate": 75,
          "RiskLevel": "mid risk",
          "SystolicBP": 120
         },
         {
          "Age": 55,
          "BS": 6.8,
          "BodyTemp": 98,
          "DiastolicBP": 90,
          "HeartRate": 66,
          "RiskLevel": "mid risk",
          "SystolicBP": 120
         },
         {
          "Age": 31,
          "BS": 6.1,
          "BodyTemp": 98,
          "DiastolicBP": 60,
          "HeartRate": 76,
          "RiskLevel": "mid risk",
          "SystolicBP": 120
         },
         {
          "Age": 55,
          "BS": 18,
          "BodyTemp": 98,
          "DiastolicBP": 100,
          "HeartRate": 90,
          "RiskLevel": "high risk",
          "SystolicBP": 140
         },
         {
          "Age": 25,
          "BS": 6.9,
          "BodyTemp": 98,
          "DiastolicBP": 90,
          "HeartRate": 70,
          "RiskLevel": "low risk",
          "SystolicBP": 120
         },
         {
          "Age": 32,
          "BS": 7.9,
          "BodyTemp": 98,
          "DiastolicBP": 90,
          "HeartRate": 70,
          "RiskLevel": "low risk",
          "SystolicBP": 120
         },
         {
          "Age": 22,
          "BS": 7.2,
          "BodyTemp": 98,
          "DiastolicBP": 65,
          "HeartRate": 70,
          "RiskLevel": "low risk",
          "SystolicBP": 100
         },
         {
          "Age": 55,
          "BS": 19,
          "BodyTemp": 98,
          "DiastolicBP": 95,
          "HeartRate": 77,
          "RiskLevel": "high risk",
          "SystolicBP": 140
         },
         {
          "Age": 36,
          "BS": 6.8,
          "BodyTemp": 102,
          "DiastolicBP": 100,
          "HeartRate": 76,
          "RiskLevel": "high risk",
          "SystolicBP": 140
         },
         {
          "Age": 29,
          "BS": 6.7,
          "BodyTemp": 98,
          "DiastolicBP": 70,
          "HeartRate": 78,
          "RiskLevel": "mid risk",
          "SystolicBP": 130
         },
         {
          "Age": 35,
          "BS": 11,
          "BodyTemp": 102,
          "DiastolicBP": 60,
          "HeartRate": 86,
          "RiskLevel": "high risk",
          "SystolicBP": 85
         },
         {
          "Age": 19,
          "BS": 7,
          "BodyTemp": 98,
          "DiastolicBP": 80,
          "HeartRate": 70,
          "RiskLevel": "mid risk",
          "SystolicBP": 120
         },
         {
          "Age": 32,
          "BS": 6.8,
          "BodyTemp": 98,
          "DiastolicBP": 80,
          "HeartRate": 70,
          "RiskLevel": "mid risk",
          "SystolicBP": 120
         },
         {
          "Age": 30,
          "BS": 15,
          "BodyTemp": 98,
          "DiastolicBP": 100,
          "HeartRate": 70,
          "RiskLevel": "high risk",
          "SystolicBP": 140
         },
         {
          "Age": 18,
          "BS": 6.9,
          "BodyTemp": 102,
          "DiastolicBP": 80,
          "HeartRate": 76,
          "RiskLevel": "mid risk",
          "SystolicBP": 120
         },
         {
          "Age": 48,
          "BS": 11,
          "BodyTemp": 98,
          "DiastolicBP": 80,
          "HeartRate": 88,
          "RiskLevel": "high risk",
          "SystolicBP": 120
         },
         {
          "Age": 15,
          "BS": 7.5,
          "BodyTemp": 98,
          "DiastolicBP": 80,
          "HeartRate": 70,
          "RiskLevel": "low risk",
          "SystolicBP": 120
         },
         {
          "Age": 25,
          "BS": 6.9,
          "BodyTemp": 98,
          "DiastolicBP": 90,
          "HeartRate": 76,
          "RiskLevel": "high risk",
          "SystolicBP": 100
         },
         {
          "Age": 12,
          "BS": 6.8,
          "BodyTemp": 98,
          "DiastolicBP": 95,
          "HeartRate": 60,
          "RiskLevel": "mid risk",
          "SystolicBP": 120
         },
         {
          "Age": 40,
          "BS": 15,
          "BodyTemp": 98,
          "DiastolicBP": 85,
          "HeartRate": 60,
          "RiskLevel": "high risk",
          "SystolicBP": 120
         },
         {
          "Age": 22,
          "BS": 6.9,
          "BodyTemp": 98,
          "DiastolicBP": 60,
          "HeartRate": 76,
          "RiskLevel": "mid risk",
          "SystolicBP": 85
         },
         {
          "Age": 35,
          "BS": 6.1,
          "BodyTemp": 98,
          "DiastolicBP": 60,
          "HeartRate": 76,
          "RiskLevel": "low risk",
          "SystolicBP": 120
         },
         {
          "Age": 30,
          "BS": 6.9,
          "BodyTemp": 101,
          "DiastolicBP": 80,
          "HeartRate": 76,
          "RiskLevel": "mid risk",
          "SystolicBP": 120
         },
         {
          "Age": 19,
          "BS": 7,
          "BodyTemp": 98,
          "DiastolicBP": 80,
          "HeartRate": 70,
          "RiskLevel": "low risk",
          "SystolicBP": 120
         },
         {
          "Age": 15,
          "BS": 6.8,
          "BodyTemp": 98,
          "DiastolicBP": 49,
          "HeartRate": 77,
          "RiskLevel": "low risk",
          "SystolicBP": 76
         },
         {
          "Age": 12,
          "BS": 7.5,
          "BodyTemp": 102,
          "DiastolicBP": 60,
          "HeartRate": 66,
          "RiskLevel": "mid risk",
          "SystolicBP": 90
         },
         {
          "Age": 31,
          "BS": 6.1,
          "BodyTemp": 98,
          "DiastolicBP": 60,
          "HeartRate": 76,
          "RiskLevel": "low risk",
          "SystolicBP": 120
         },
         {
          "Age": 23,
          "BS": 7.7,
          "BodyTemp": 98,
          "DiastolicBP": 80,
          "HeartRate": 70,
          "RiskLevel": "low risk",
          "SystolicBP": 120
         },
         {
          "Age": 37,
          "BS": 11,
          "BodyTemp": 98,
          "DiastolicBP": 90,
          "HeartRate": 88,
          "RiskLevel": "high risk",
          "SystolicBP": 120
         },
         {
          "Age": 42,
          "BS": 7.5,
          "BodyTemp": 98,
          "DiastolicBP": 80,
          "HeartRate": 70,
          "RiskLevel": "low risk",
          "SystolicBP": 120
         },
         {
          "Age": 48,
          "BS": 11,
          "BodyTemp": 98,
          "DiastolicBP": 80,
          "HeartRate": 88,
          "RiskLevel": "mid risk",
          "SystolicBP": 120
         },
         {
          "Age": 29,
          "BS": 6.1,
          "BodyTemp": 98,
          "DiastolicBP": 70,
          "HeartRate": 78,
          "RiskLevel": "mid risk",
          "SystolicBP": 130
         },
         {
          "Age": 23,
          "BS": 7.01,
          "BodyTemp": 98,
          "DiastolicBP": 60,
          "HeartRate": 76,
          "RiskLevel": "low risk",
          "SystolicBP": 90
         },
         {
          "Age": 50,
          "BS": 17,
          "BodyTemp": 98,
          "DiastolicBP": 95,
          "HeartRate": 60,
          "RiskLevel": "high risk",
          "SystolicBP": 140
         },
         {
          "Age": 22,
          "BS": 7.5,
          "BodyTemp": 98,
          "DiastolicBP": 65,
          "HeartRate": 70,
          "RiskLevel": "low risk",
          "SystolicBP": 100
         },
         {
          "Age": 12,
          "BS": 6.9,
          "BodyTemp": 98,
          "DiastolicBP": 60,
          "HeartRate": 65,
          "RiskLevel": "low risk",
          "SystolicBP": 95
         },
         {
          "Age": 15,
          "BS": 7,
          "BodyTemp": 98,
          "DiastolicBP": 80,
          "HeartRate": 70,
          "RiskLevel": "low risk",
          "SystolicBP": 120
         },
         {
          "Age": 23,
          "BS": 7.8,
          "BodyTemp": 98,
          "DiastolicBP": 60,
          "HeartRate": 76,
          "RiskLevel": "low risk",
          "SystolicBP": 90
         },
         {
          "Age": 50,
          "BS": 15,
          "BodyTemp": 98,
          "DiastolicBP": 80,
          "HeartRate": 86,
          "RiskLevel": "high risk",
          "SystolicBP": 130
         },
         {
          "Age": 32,
          "BS": 6,
          "BodyTemp": 101,
          "DiastolicBP": 65,
          "HeartRate": 76,
          "RiskLevel": "mid risk",
          "SystolicBP": 120
         },
         {
          "Age": 12,
          "BS": 6.4,
          "BodyTemp": 98,
          "DiastolicBP": 50,
          "HeartRate": 70,
          "RiskLevel": "mid risk",
          "SystolicBP": 100
         },
         {
          "Age": 25,
          "BS": 6.1,
          "BodyTemp": 98,
          "DiastolicBP": 70,
          "HeartRate": 80,
          "RiskLevel": "low risk",
          "SystolicBP": 90
         },
         {
          "Age": 32,
          "BS": 7,
          "BodyTemp": 100,
          "DiastolicBP": 90,
          "HeartRate": 70,
          "RiskLevel": "mid risk",
          "SystolicBP": 120
         },
         {
          "Age": 32,
          "BS": 7.5,
          "BodyTemp": 98,
          "DiastolicBP": 90,
          "HeartRate": 70,
          "RiskLevel": "low risk",
          "SystolicBP": 120
         },
         {
          "Age": 13,
          "BS": 7.8,
          "BodyTemp": 101,
          "DiastolicBP": 65,
          "HeartRate": 80,
          "RiskLevel": "mid risk",
          "SystolicBP": 90
         },
         {
          "Age": 39,
          "BS": 9,
          "BodyTemp": 98,
          "DiastolicBP": 70,
          "HeartRate": 80,
          "RiskLevel": "high risk",
          "SystolicBP": 90
         },
         {
          "Age": 22,
          "BS": 6.9,
          "BodyTemp": 98,
          "DiastolicBP": 65,
          "HeartRate": 78,
          "RiskLevel": "low risk",
          "SystolicBP": 90
         },
         {
          "Age": 17,
          "BS": 7.5,
          "BodyTemp": 103,
          "DiastolicBP": 65,
          "HeartRate": 67,
          "RiskLevel": "mid risk",
          "SystolicBP": 90
         },
         {
          "Age": 51,
          "BS": 6.9,
          "BodyTemp": 98,
          "DiastolicBP": 60,
          "HeartRate": 66,
          "RiskLevel": "low risk",
          "SystolicBP": 85
         },
         {
          "Age": 40,
          "BS": 13,
          "BodyTemp": 101,
          "DiastolicBP": 100,
          "HeartRate": 66,
          "RiskLevel": "high risk",
          "SystolicBP": 140
         },
         {
          "Age": 63,
          "BS": 15,
          "BodyTemp": 98,
          "DiastolicBP": 90,
          "HeartRate": 90,
          "RiskLevel": "high risk",
          "SystolicBP": 140
         },
         {
          "Age": 45,
          "BS": 18,
          "BodyTemp": 101,
          "DiastolicBP": 60,
          "HeartRate": 70,
          "RiskLevel": "high risk",
          "SystolicBP": 90
         },
         {
          "Age": 31,
          "BS": 6.1,
          "BodyTemp": 98,
          "DiastolicBP": 60,
          "HeartRate": 76,
          "RiskLevel": "mid risk",
          "SystolicBP": 120
         },
         {
          "Age": 23,
          "BS": 7.5,
          "BodyTemp": 98,
          "DiastolicBP": 90,
          "HeartRate": 60,
          "RiskLevel": "low risk",
          "SystolicBP": 120
         },
         {
          "Age": 60,
          "BS": 7.9,
          "BodyTemp": 98,
          "DiastolicBP": 65,
          "HeartRate": 77,
          "RiskLevel": "low risk",
          "SystolicBP": 90
         },
         {
          "Age": 18,
          "BS": 7.9,
          "BodyTemp": 102,
          "DiastolicBP": 80,
          "HeartRate": 76,
          "RiskLevel": "mid risk",
          "SystolicBP": 120
         },
         {
          "Age": 42,
          "BS": 7.5,
          "BodyTemp": 98,
          "DiastolicBP": 80,
          "HeartRate": 70,
          "RiskLevel": "low risk",
          "SystolicBP": 120
         },
         {
          "Age": 23,
          "BS": 6.8,
          "BodyTemp": 98,
          "DiastolicBP": 70,
          "HeartRate": 78,
          "RiskLevel": "mid risk",
          "SystolicBP": 130
         },
         {
          "Age": 55,
          "BS": 7.7,
          "BodyTemp": 98,
          "DiastolicBP": 65,
          "HeartRate": 66,
          "RiskLevel": "low risk",
          "SystolicBP": 100
         },
         {
          "Age": 22,
          "BS": 6.8,
          "BodyTemp": 98,
          "DiastolicBP": 65,
          "HeartRate": 88,
          "RiskLevel": "low risk",
          "SystolicBP": 100
         },
         {
          "Age": 35,
          "BS": 6.1,
          "BodyTemp": 98,
          "DiastolicBP": 70,
          "HeartRate": 66,
          "RiskLevel": "low risk",
          "SystolicBP": 100
         },
         {
          "Age": 35,
          "BS": 11,
          "BodyTemp": 102,
          "DiastolicBP": 60,
          "HeartRate": 86,
          "RiskLevel": "high risk",
          "SystolicBP": 85
         },
         {
          "Age": 30,
          "BS": 8,
          "BodyTemp": 98,
          "DiastolicBP": 65,
          "HeartRate": 77,
          "RiskLevel": "mid risk",
          "SystolicBP": 90
         },
         {
          "Age": 32,
          "BS": 6.8,
          "BodyTemp": 98,
          "DiastolicBP": 80,
          "HeartRate": 70,
          "RiskLevel": "mid risk",
          "SystolicBP": 120
         },
         {
          "Age": 32,
          "BS": 6.8,
          "BodyTemp": 98,
          "DiastolicBP": 90,
          "HeartRate": 70,
          "RiskLevel": "low risk",
          "SystolicBP": 120
         },
         {
          "Age": 13,
          "BS": 7.8,
          "BodyTemp": 101,
          "DiastolicBP": 65,
          "HeartRate": 80,
          "RiskLevel": "mid risk",
          "SystolicBP": 90
         },
         {
          "Age": 19,
          "BS": 6.8,
          "BodyTemp": 98,
          "DiastolicBP": 90,
          "HeartRate": 60,
          "RiskLevel": "mid risk",
          "SystolicBP": 120
         },
         {
          "Age": 23,
          "BS": 6.7,
          "BodyTemp": 98,
          "DiastolicBP": 60,
          "HeartRate": 76,
          "RiskLevel": "low risk",
          "SystolicBP": 90
         },
         {
          "Age": 32,
          "BS": 6.9,
          "BodyTemp": 98,
          "DiastolicBP": 90,
          "HeartRate": 70,
          "RiskLevel": "mid risk",
          "SystolicBP": 120
         },
         {
          "Age": 23,
          "BS": 7.5,
          "BodyTemp": 98,
          "DiastolicBP": 60,
          "HeartRate": 76,
          "RiskLevel": "low risk",
          "SystolicBP": 90
         },
         {
          "Age": 32,
          "BS": 18,
          "BodyTemp": 98,
          "DiastolicBP": 90,
          "HeartRate": 88,
          "RiskLevel": "high risk",
          "SystolicBP": 140
         },
         {
          "Age": 25,
          "BS": 7.9,
          "BodyTemp": 98,
          "DiastolicBP": 100,
          "HeartRate": 80,
          "RiskLevel": "high risk",
          "SystolicBP": 140
         },
         {
          "Age": 37,
          "BS": 11,
          "BodyTemp": 98,
          "DiastolicBP": 90,
          "HeartRate": 88,
          "RiskLevel": "high risk",
          "SystolicBP": 120
         },
         {
          "Age": 19,
          "BS": 7,
          "BodyTemp": 98,
          "DiastolicBP": 80,
          "HeartRate": 70,
          "RiskLevel": "mid risk",
          "SystolicBP": 120
         },
         {
          "Age": 50,
          "BS": 7.5,
          "BodyTemp": 98,
          "DiastolicBP": 80,
          "HeartRate": 70,
          "RiskLevel": "low risk",
          "SystolicBP": 120
         },
         {
          "Age": 55,
          "BS": 7.5,
          "BodyTemp": 98,
          "DiastolicBP": 65,
          "HeartRate": 66,
          "RiskLevel": "low risk",
          "SystolicBP": 100
         },
         {
          "Age": 25,
          "BS": 12,
          "BodyTemp": 99,
          "DiastolicBP": 100,
          "HeartRate": 80,
          "RiskLevel": "high risk",
          "SystolicBP": 140
         },
         {
          "Age": 40,
          "BS": 19,
          "BodyTemp": 98,
          "DiastolicBP": 100,
          "HeartRate": 77,
          "RiskLevel": "high risk",
          "SystolicBP": 160
         },
         {
          "Age": 42,
          "BS": 7.5,
          "BodyTemp": 98,
          "DiastolicBP": 60,
          "HeartRate": 76,
          "RiskLevel": "low risk",
          "SystolicBP": 90
         },
         {
          "Age": 23,
          "BS": 7.5,
          "BodyTemp": 98,
          "DiastolicBP": 90,
          "HeartRate": 60,
          "RiskLevel": "low risk",
          "SystolicBP": 120
         },
         {
          "Age": 22,
          "BS": 7.5,
          "BodyTemp": 98,
          "DiastolicBP": 85,
          "HeartRate": 88,
          "RiskLevel": "low risk",
          "SystolicBP": 120
         },
         {
          "Age": 23,
          "BS": 6.1,
          "BodyTemp": 98,
          "DiastolicBP": 90,
          "HeartRate": 70,
          "RiskLevel": "low risk",
          "SystolicBP": 120
         },
         {
          "Age": 50,
          "BS": 6.7,
          "BodyTemp": 98,
          "DiastolicBP": 80,
          "HeartRate": 70,
          "RiskLevel": "mid risk",
          "SystolicBP": 140
         },
         {
          "Age": 32,
          "BS": 6,
          "BodyTemp": 101,
          "DiastolicBP": 65,
          "HeartRate": 76,
          "RiskLevel": "mid risk",
          "SystolicBP": 120
         },
         {
          "Age": 23,
          "BS": 7.01,
          "BodyTemp": 98,
          "DiastolicBP": 70,
          "HeartRate": 78,
          "RiskLevel": "mid risk",
          "SystolicBP": 130
         },
         {
          "Age": 17,
          "BS": 6.3,
          "BodyTemp": 102,
          "DiastolicBP": 60,
          "HeartRate": 86,
          "RiskLevel": "high risk",
          "SystolicBP": 85
         },
         {
          "Age": 15,
          "BS": 7.9,
          "BodyTemp": 98,
          "DiastolicBP": 80,
          "HeartRate": 70,
          "RiskLevel": "low risk",
          "SystolicBP": 120
         },
         {
          "Age": 22,
          "BS": 7.9,
          "BodyTemp": 98,
          "DiastolicBP": 65,
          "HeartRate": 80,
          "RiskLevel": "low risk",
          "SystolicBP": 100
         },
         {
          "Age": 19,
          "BS": 7,
          "BodyTemp": 98,
          "DiastolicBP": 80,
          "HeartRate": 70,
          "RiskLevel": "low risk",
          "SystolicBP": 120
         },
         {
          "Age": 42,
          "BS": 18,
          "BodyTemp": 98,
          "DiastolicBP": 100,
          "HeartRate": 90,
          "RiskLevel": "high risk",
          "SystolicBP": 140
         },
         {
          "Age": 23,
          "BS": 6.8,
          "BodyTemp": 98,
          "DiastolicBP": 90,
          "HeartRate": 70,
          "RiskLevel": "high risk",
          "SystolicBP": 140
         },
         {
          "Age": 29,
          "BS": 7.5,
          "BodyTemp": 98,
          "DiastolicBP": 70,
          "HeartRate": 78,
          "RiskLevel": "mid risk",
          "SystolicBP": 130
         },
         {
          "Age": 50,
          "BS": 15,
          "BodyTemp": 98,
          "DiastolicBP": 90,
          "HeartRate": 90,
          "RiskLevel": "high risk",
          "SystolicBP": 140
         },
         {
          "Age": 35,
          "BS": 6.9,
          "BodyTemp": 98,
          "DiastolicBP": 80,
          "HeartRate": 78,
          "RiskLevel": "mid risk",
          "SystolicBP": 120
         },
         {
          "Age": 21,
          "BS": 6.9,
          "BodyTemp": 98,
          "DiastolicBP": 65,
          "HeartRate": 76,
          "RiskLevel": "low risk",
          "SystolicBP": 90
         },
         {
          "Age": 12,
          "BS": 6.9,
          "BodyTemp": 98,
          "DiastolicBP": 60,
          "HeartRate": 65,
          "RiskLevel": "mid risk",
          "SystolicBP": 95
         },
         {
          "Age": 36,
          "BS": 6.8,
          "BodyTemp": 102,
          "DiastolicBP": 100,
          "HeartRate": 76,
          "RiskLevel": "high risk",
          "SystolicBP": 140
         },
         {
          "Age": 55,
          "BS": 6.8,
          "BodyTemp": 98,
          "DiastolicBP": 90,
          "HeartRate": 66,
          "RiskLevel": "mid risk",
          "SystolicBP": 120
         },
         {
          "Age": 17,
          "BS": 6.1,
          "BodyTemp": 103,
          "DiastolicBP": 65,
          "HeartRate": 67,
          "RiskLevel": "high risk",
          "SystolicBP": 90
         },
         {
          "Age": 19,
          "BS": 7,
          "BodyTemp": 98,
          "DiastolicBP": 80,
          "HeartRate": 70,
          "RiskLevel": "low risk",
          "SystolicBP": 120
         },
         {
          "Age": 28,
          "BS": 9,
          "BodyTemp": 101,
          "DiastolicBP": 60,
          "HeartRate": 86,
          "RiskLevel": "mid risk",
          "SystolicBP": 85
         },
         {
          "Age": 31,
          "BS": 6.1,
          "BodyTemp": 98,
          "DiastolicBP": 60,
          "HeartRate": 76,
          "RiskLevel": "mid risk",
          "SystolicBP": 120
         },
         {
          "Age": 15,
          "BS": 6,
          "BodyTemp": 98,
          "DiastolicBP": 49,
          "HeartRate": 77,
          "RiskLevel": "low risk",
          "SystolicBP": 90
         },
         {
          "Age": 42,
          "BS": 18,
          "BodyTemp": 98,
          "DiastolicBP": 80,
          "HeartRate": 70,
          "RiskLevel": "mid risk",
          "SystolicBP": 130
         },
         {
          "Age": 22,
          "BS": 6.9,
          "BodyTemp": 98,
          "DiastolicBP": 60,
          "HeartRate": 76,
          "RiskLevel": "mid risk",
          "SystolicBP": 85
         },
         {
          "Age": 12,
          "BS": 7.5,
          "BodyTemp": 102,
          "DiastolicBP": 60,
          "HeartRate": 60,
          "RiskLevel": "low risk",
          "SystolicBP": 90
         },
         {
          "Age": 18,
          "BS": 6.8,
          "BodyTemp": 102,
          "DiastolicBP": 80,
          "HeartRate": 76,
          "RiskLevel": "low risk",
          "SystolicBP": 120
         },
         {
          "Age": 35,
          "BS": 7.9,
          "BodyTemp": 98,
          "DiastolicBP": 70,
          "HeartRate": 60,
          "RiskLevel": "low risk",
          "SystolicBP": 100
         },
         {
          "Age": 29,
          "BS": 6.7,
          "BodyTemp": 98,
          "DiastolicBP": 70,
          "HeartRate": 78,
          "RiskLevel": "mid risk",
          "SystolicBP": 130
         },
         {
          "Age": 28,
          "BS": 7.5,
          "BodyTemp": 98,
          "DiastolicBP": 60,
          "HeartRate": 82,
          "RiskLevel": "low risk",
          "SystolicBP": 90
         },
         {
          "Age": 48,
          "BS": 11,
          "BodyTemp": 98,
          "DiastolicBP": 80,
          "HeartRate": 88,
          "RiskLevel": "high risk",
          "SystolicBP": 120
         },
         {
          "Age": 32,
          "BS": 6.9,
          "BodyTemp": 98,
          "DiastolicBP": 90,
          "HeartRate": 70,
          "RiskLevel": "mid risk",
          "SystolicBP": 120
         },
         {
          "Age": 55,
          "BS": 12,
          "BodyTemp": 98,
          "DiastolicBP": 90,
          "HeartRate": 70,
          "RiskLevel": "mid risk",
          "SystolicBP": 120
         },
         {
          "Age": 17,
          "BS": 7.5,
          "BodyTemp": 102,
          "DiastolicBP": 80,
          "HeartRate": 76,
          "RiskLevel": "low risk",
          "SystolicBP": 120
         },
         {
          "Age": 23,
          "BS": 6.4,
          "BodyTemp": 98,
          "DiastolicBP": 60,
          "HeartRate": 76,
          "RiskLevel": "low risk",
          "SystolicBP": 90
         },
         {
          "Age": 33,
          "BS": 7,
          "BodyTemp": 98,
          "DiastolicBP": 65,
          "HeartRate": 70,
          "RiskLevel": "mid risk",
          "SystolicBP": 115
         },
         {
          "Age": 18,
          "BS": 6.8,
          "BodyTemp": 102,
          "DiastolicBP": 80,
          "HeartRate": 76,
          "RiskLevel": "low risk",
          "SystolicBP": 120
         },
         {
          "Age": 25,
          "BS": 6.8,
          "BodyTemp": 98,
          "DiastolicBP": 100,
          "HeartRate": 60,
          "RiskLevel": "mid risk",
          "SystolicBP": 120
         },
         {
          "Age": 45,
          "BS": 7.8,
          "BodyTemp": 98,
          "DiastolicBP": 95,
          "HeartRate": 66,
          "RiskLevel": "low risk",
          "SystolicBP": 120
         },
         {
          "Age": 25,
          "BS": 7.9,
          "BodyTemp": 98,
          "DiastolicBP": 80,
          "HeartRate": 66,
          "RiskLevel": "mid risk",
          "SystolicBP": 120
         },
         {
          "Age": 23,
          "BS": 7.9,
          "BodyTemp": 98,
          "DiastolicBP": 60,
          "HeartRate": 76,
          "RiskLevel": "low risk",
          "SystolicBP": 90
         },
         {
          "Age": 50,
          "BS": 17,
          "BodyTemp": 98,
          "DiastolicBP": 95,
          "HeartRate": 60,
          "RiskLevel": "high risk",
          "SystolicBP": 140
         },
         {
          "Age": 29,
          "BS": 7.2,
          "BodyTemp": 100,
          "DiastolicBP": 75,
          "HeartRate": 70,
          "RiskLevel": "high risk",
          "SystolicBP": 120
         },
         {
          "Age": 35,
          "BS": 19,
          "BodyTemp": 98,
          "DiastolicBP": 60,
          "HeartRate": 86,
          "RiskLevel": "high risk",
          "SystolicBP": 85
         },
         {
          "Age": 23,
          "BS": 6.9,
          "BodyTemp": 98,
          "DiastolicBP": 85,
          "HeartRate": 66,
          "RiskLevel": "mid risk",
          "SystolicBP": 100
         },
         {
          "Age": 55,
          "BS": 6.8,
          "BodyTemp": 98,
          "DiastolicBP": 90,
          "HeartRate": 78,
          "RiskLevel": "low risk",
          "SystolicBP": 120
         },
         {
          "Age": 17,
          "BS": 6.9,
          "BodyTemp": 101,
          "DiastolicBP": 60,
          "HeartRate": 76,
          "RiskLevel": "mid risk",
          "SystolicBP": 90
         },
         {
          "Age": 19,
          "BS": 6.9,
          "BodyTemp": 98,
          "DiastolicBP": 75,
          "HeartRate": 66,
          "RiskLevel": "mid risk",
          "SystolicBP": 120
         },
         {
          "Age": 29,
          "BS": 8,
          "BodyTemp": 98,
          "DiastolicBP": 70,
          "HeartRate": 78,
          "RiskLevel": "mid risk",
          "SystolicBP": 130
         },
         {
          "Age": 50,
          "BS": 16,
          "BodyTemp": 98,
          "DiastolicBP": 100,
          "HeartRate": 75,
          "RiskLevel": "mid risk",
          "SystolicBP": 130
         },
         {
          "Age": 18,
          "BS": 7.5,
          "BodyTemp": 101,
          "DiastolicBP": 60,
          "HeartRate": 86,
          "RiskLevel": "mid risk",
          "SystolicBP": 85
         },
         {
          "Age": 60,
          "BS": 6.9,
          "BodyTemp": 98,
          "DiastolicBP": 80,
          "HeartRate": 76,
          "RiskLevel": "low risk",
          "SystolicBP": 120
         },
         {
          "Age": 18,
          "BS": 6.9,
          "BodyTemp": 98,
          "DiastolicBP": 60,
          "HeartRate": 70,
          "RiskLevel": "mid risk",
          "SystolicBP": 90
         },
         {
          "Age": 12,
          "BS": 6.9,
          "BodyTemp": 98,
          "DiastolicBP": 80,
          "HeartRate": 80,
          "RiskLevel": "low risk",
          "SystolicBP": 120
         },
         {
          "Age": 15,
          "BS": 7.2,
          "BodyTemp": 98,
          "DiastolicBP": 80,
          "HeartRate": 70,
          "RiskLevel": "low risk",
          "SystolicBP": 120
         },
         {
          "Age": 38,
          "BS": 7.9,
          "BodyTemp": 101,
          "DiastolicBP": 60,
          "HeartRate": 86,
          "RiskLevel": "high risk",
          "SystolicBP": 135
         },
         {
          "Age": 25,
          "BS": 6.7,
          "BodyTemp": 101,
          "DiastolicBP": 90,
          "HeartRate": 80,
          "RiskLevel": "mid risk",
          "SystolicBP": 120
         },
         {
          "Age": 19,
          "BS": 7,
          "BodyTemp": 98,
          "DiastolicBP": 80,
          "HeartRate": 70,
          "RiskLevel": "mid risk",
          "SystolicBP": 120
         },
         {
          "Age": 19,
          "BS": 7.8,
          "BodyTemp": 98,
          "DiastolicBP": 70,
          "HeartRate": 80,
          "RiskLevel": "low risk",
          "SystolicBP": 90
         },
         {
          "Age": 17,
          "BS": 6.8,
          "BodyTemp": 103,
          "DiastolicBP": 100,
          "HeartRate": 80,
          "RiskLevel": "high risk",
          "SystolicBP": 140
         },
         {
          "Age": 16,
          "BS": 6.9,
          "BodyTemp": 98,
          "DiastolicBP": 70,
          "HeartRate": 80,
          "RiskLevel": "mid risk",
          "SystolicBP": 100
         },
         {
          "Age": 27,
          "BS": 6.8,
          "BodyTemp": 98,
          "DiastolicBP": 70,
          "HeartRate": 77,
          "RiskLevel": "low risk",
          "SystolicBP": 120
         },
         {
          "Age": 40,
          "BS": 7.7,
          "BodyTemp": 98,
          "DiastolicBP": 75,
          "HeartRate": 70,
          "RiskLevel": "high risk",
          "SystolicBP": 120
         },
         {
          "Age": 19,
          "BS": 11,
          "BodyTemp": 101,
          "DiastolicBP": 65,
          "HeartRate": 70,
          "RiskLevel": "high risk",
          "SystolicBP": 90
         },
         {
          "Age": 32,
          "BS": 7.7,
          "BodyTemp": 98,
          "DiastolicBP": 90,
          "HeartRate": 70,
          "RiskLevel": "low risk",
          "SystolicBP": 120
         },
         {
          "Age": 21,
          "BS": 6.9,
          "BodyTemp": 98,
          "DiastolicBP": 80,
          "HeartRate": 88,
          "RiskLevel": "low risk",
          "SystolicBP": 120
         },
         {
          "Age": 45,
          "BS": 7.5,
          "BodyTemp": 98,
          "DiastolicBP": 95,
          "HeartRate": 66,
          "RiskLevel": "low risk",
          "SystolicBP": 120
         },
         {
          "Age": 42,
          "BS": 7.5,
          "BodyTemp": 98,
          "DiastolicBP": 80,
          "HeartRate": 70,
          "RiskLevel": "low risk",
          "SystolicBP": 120
         },
         {
          "Age": 21,
          "BS": 6.9,
          "BodyTemp": 98,
          "DiastolicBP": 80,
          "HeartRate": 76,
          "RiskLevel": "mid risk",
          "SystolicBP": 120
         },
         {
          "Age": 32,
          "BS": 7.9,
          "BodyTemp": 98,
          "DiastolicBP": 100,
          "HeartRate": 78,
          "RiskLevel": "high risk",
          "SystolicBP": 140
         },
         {
          "Age": 16,
          "BS": 6.9,
          "BodyTemp": 98,
          "DiastolicBP": 70,
          "HeartRate": 80,
          "RiskLevel": "mid risk",
          "SystolicBP": 100
         },
         {
          "Age": 31,
          "BS": 6.1,
          "BodyTemp": 98,
          "DiastolicBP": 60,
          "HeartRate": 76,
          "RiskLevel": "low risk",
          "SystolicBP": 120
         },
         {
          "Age": 50,
          "BS": 15,
          "BodyTemp": 98,
          "DiastolicBP": 90,
          "HeartRate": 90,
          "RiskLevel": "high risk",
          "SystolicBP": 140
         },
         {
          "Age": 17,
          "BS": 7.9,
          "BodyTemp": 102,
          "DiastolicBP": 60,
          "HeartRate": 86,
          "RiskLevel": "low risk",
          "SystolicBP": 85
         },
         {
          "Age": 15,
          "BS": 7.5,
          "BodyTemp": 98,
          "DiastolicBP": 80,
          "HeartRate": 70,
          "RiskLevel": "mid risk",
          "SystolicBP": 120
         },
         {
          "Age": 50,
          "BS": 15,
          "BodyTemp": 98,
          "DiastolicBP": 80,
          "HeartRate": 70,
          "RiskLevel": "high risk",
          "SystolicBP": 120
         },
         {
          "Age": 55,
          "BS": 19,
          "BodyTemp": 98,
          "DiastolicBP": 95,
          "HeartRate": 77,
          "RiskLevel": "high risk",
          "SystolicBP": 140
         },
         {
          "Age": 15,
          "BS": 7.5,
          "BodyTemp": 98,
          "DiastolicBP": 80,
          "HeartRate": 70,
          "RiskLevel": "low risk",
          "SystolicBP": 120
         },
         {
          "Age": 28,
          "BS": 9,
          "BodyTemp": 101,
          "DiastolicBP": 60,
          "HeartRate": 86,
          "RiskLevel": "mid risk",
          "SystolicBP": 85
         },
         {
          "Age": 29,
          "BS": 8,
          "BodyTemp": 98,
          "DiastolicBP": 70,
          "HeartRate": 78,
          "RiskLevel": "mid risk",
          "SystolicBP": 130
         },
         {
          "Age": 32,
          "BS": 6.8,
          "BodyTemp": 98,
          "DiastolicBP": 90,
          "HeartRate": 70,
          "RiskLevel": "low risk",
          "SystolicBP": 120
         },
         {
          "Age": 12,
          "BS": 7.8,
          "BodyTemp": 98,
          "DiastolicBP": 95,
          "HeartRate": 60,
          "RiskLevel": "low risk",
          "SystolicBP": 120
         },
         {
          "Age": 25,
          "BS": 7.9,
          "BodyTemp": 98,
          "DiastolicBP": 80,
          "HeartRate": 66,
          "RiskLevel": "mid risk",
          "SystolicBP": 120
         },
         {
          "Age": 32,
          "BS": 18,
          "BodyTemp": 98,
          "DiastolicBP": 90,
          "HeartRate": 88,
          "RiskLevel": "high risk",
          "SystolicBP": 140
         },
         {
          "Age": 30,
          "BS": 6.8,
          "BodyTemp": 98,
          "DiastolicBP": 80,
          "HeartRate": 70,
          "RiskLevel": "mid risk",
          "SystolicBP": 120
         },
         {
          "Age": 32,
          "BS": 6.9,
          "BodyTemp": 98,
          "DiastolicBP": 100,
          "HeartRate": 78,
          "RiskLevel": "high risk",
          "SystolicBP": 140
         },
         {
          "Age": 29,
          "BS": 6.1,
          "BodyTemp": 98,
          "DiastolicBP": 70,
          "HeartRate": 78,
          "RiskLevel": "mid risk",
          "SystolicBP": 130
         },
         {
          "Age": 15,
          "BS": 6.8,
          "BodyTemp": 98,
          "DiastolicBP": 80,
          "HeartRate": 70,
          "RiskLevel": "low risk",
          "SystolicBP": 120
         },
         {
          "Age": 50,
          "BS": 15,
          "BodyTemp": 98,
          "DiastolicBP": 90,
          "HeartRate": 90,
          "RiskLevel": "high risk",
          "SystolicBP": 140
         },
         {
          "Age": 48,
          "BS": 11,
          "BodyTemp": 98,
          "DiastolicBP": 80,
          "HeartRate": 88,
          "RiskLevel": "mid risk",
          "SystolicBP": 120
         },
         {
          "Age": 16,
          "BS": 6.9,
          "BodyTemp": 98,
          "DiastolicBP": 70,
          "HeartRate": 80,
          "RiskLevel": "mid risk",
          "SystolicBP": 100
         },
         {
          "Age": 49,
          "BS": 6.9,
          "BodyTemp": 98,
          "DiastolicBP": 90,
          "HeartRate": 77,
          "RiskLevel": "low risk",
          "SystolicBP": 120
         },
         {
          "Age": 40,
          "BS": 19,
          "BodyTemp": 98,
          "DiastolicBP": 100,
          "HeartRate": 77,
          "RiskLevel": "high risk",
          "SystolicBP": 160
         },
         {
          "Age": 32,
          "BS": 6.4,
          "BodyTemp": 98,
          "DiastolicBP": 90,
          "HeartRate": 70,
          "RiskLevel": "low risk",
          "SystolicBP": 120
         },
         {
          "Age": 44,
          "BS": 16,
          "BodyTemp": 98,
          "DiastolicBP": 90,
          "HeartRate": 80,
          "RiskLevel": "mid risk",
          "SystolicBP": 120
         },
         {
          "Age": 21,
          "BS": 6.9,
          "BodyTemp": 98,
          "DiastolicBP": 80,
          "HeartRate": 76,
          "RiskLevel": "low risk",
          "SystolicBP": 120
         },
         {
          "Age": 30,
          "BS": 7,
          "BodyTemp": 98,
          "DiastolicBP": 85,
          "HeartRate": 70,
          "RiskLevel": "high risk",
          "SystolicBP": 140
         },
         {
          "Age": 55,
          "BS": 6.9,
          "BodyTemp": 98,
          "DiastolicBP": 85,
          "HeartRate": 88,
          "RiskLevel": "high risk",
          "SystolicBP": 110
         },
         {
          "Age": 30,
          "BS": 15,
          "BodyTemp": 98,
          "DiastolicBP": 100,
          "HeartRate": 70,
          "RiskLevel": "high risk",
          "SystolicBP": 140
         },
         {
          "Age": 34,
          "BS": 7,
          "BodyTemp": 98,
          "DiastolicBP": 70,
          "HeartRate": 80,
          "RiskLevel": "high risk",
          "SystolicBP": 110
         },
         {
          "Age": 32,
          "BS": 7.9,
          "BodyTemp": 98,
          "DiastolicBP": 100,
          "HeartRate": 78,
          "RiskLevel": "high risk",
          "SystolicBP": 140
         },
         {
          "Age": 15,
          "BS": 6,
          "BodyTemp": 98,
          "DiastolicBP": 50,
          "HeartRate": 70,
          "RiskLevel": "mid risk",
          "SystolicBP": 70
         },
         {
          "Age": 18,
          "BS": 6.9,
          "BodyTemp": 102,
          "DiastolicBP": 80,
          "HeartRate": 76,
          "RiskLevel": "mid risk",
          "SystolicBP": 120
         },
         {
          "Age": 19,
          "BS": 7,
          "BodyTemp": 98,
          "DiastolicBP": 80,
          "HeartRate": 70,
          "RiskLevel": "mid risk",
          "SystolicBP": 120
         },
         {
          "Age": 60,
          "BS": 7.5,
          "BodyTemp": 98,
          "DiastolicBP": 65,
          "HeartRate": 77,
          "RiskLevel": "low risk",
          "SystolicBP": 90
         },
         {
          "Age": 22,
          "BS": 6.9,
          "BodyTemp": 103,
          "DiastolicBP": 80,
          "HeartRate": 76,
          "RiskLevel": "low risk",
          "SystolicBP": 120
         },
         {
          "Age": 32,
          "BS": 6.4,
          "BodyTemp": 98,
          "DiastolicBP": 90,
          "HeartRate": 70,
          "RiskLevel": "low risk",
          "SystolicBP": 120
         },
         {
          "Age": 25,
          "BS": 7.7,
          "BodyTemp": 98,
          "DiastolicBP": 80,
          "HeartRate": 66,
          "RiskLevel": "low risk",
          "SystolicBP": 120
         },
         {
          "Age": 31,
          "BS": 6.1,
          "BodyTemp": 98,
          "DiastolicBP": 60,
          "HeartRate": 76,
          "RiskLevel": "mid risk",
          "SystolicBP": 120
         },
         {
          "Age": 23,
          "BS": 6.8,
          "BodyTemp": 98,
          "DiastolicBP": 60,
          "HeartRate": 76,
          "RiskLevel": "low risk",
          "SystolicBP": 90
         },
         {
          "Age": 22,
          "BS": 7,
          "BodyTemp": 98,
          "DiastolicBP": 65,
          "HeartRate": 80,
          "RiskLevel": "low risk",
          "SystolicBP": 100
         },
         {
          "Age": 19,
          "BS": 7.5,
          "BodyTemp": 101,
          "DiastolicBP": 65,
          "HeartRate": 70,
          "RiskLevel": "low risk",
          "SystolicBP": 90
         },
         {
          "Age": 48,
          "BS": 11,
          "BodyTemp": 98,
          "DiastolicBP": 80,
          "HeartRate": 88,
          "RiskLevel": "low risk",
          "SystolicBP": 120
         },
         {
          "Age": 48,
          "BS": 11,
          "BodyTemp": 98,
          "DiastolicBP": 80,
          "HeartRate": 88,
          "RiskLevel": "high risk",
          "SystolicBP": 120
         },
         {
          "Age": 60,
          "BS": 6.8,
          "BodyTemp": 98,
          "DiastolicBP": 65,
          "HeartRate": 77,
          "RiskLevel": "mid risk",
          "SystolicBP": 90
         },
         {
          "Age": 22,
          "BS": 6.9,
          "BodyTemp": 98,
          "DiastolicBP": 65,
          "HeartRate": 80,
          "RiskLevel": "low risk",
          "SystolicBP": 100
         },
         {
          "Age": 22,
          "BS": 7.5,
          "BodyTemp": 98,
          "DiastolicBP": 65,
          "HeartRate": 70,
          "RiskLevel": "mid risk",
          "SystolicBP": 100
         },
         {
          "Age": 27,
          "BS": 6.8,
          "BodyTemp": 98,
          "DiastolicBP": 70,
          "HeartRate": 77,
          "RiskLevel": "low risk",
          "SystolicBP": 120
         },
         {
          "Age": 19,
          "BS": 7.5,
          "BodyTemp": 98,
          "DiastolicBP": 75,
          "HeartRate": 66,
          "RiskLevel": "low risk",
          "SystolicBP": 120
         },
         {
          "Age": 23,
          "BS": 8,
          "BodyTemp": 98,
          "DiastolicBP": 85,
          "HeartRate": 70,
          "RiskLevel": "low risk",
          "SystolicBP": 120
         },
         {
          "Age": 21,
          "BS": 6.9,
          "BodyTemp": 98,
          "DiastolicBP": 65,
          "HeartRate": 76,
          "RiskLevel": "mid risk",
          "SystolicBP": 90
         },
         {
          "Age": 45,
          "BS": 6.1,
          "BodyTemp": 98,
          "DiastolicBP": 95,
          "HeartRate": 66,
          "RiskLevel": "low risk",
          "SystolicBP": 120
         },
         {
          "Age": 50,
          "BS": 16,
          "BodyTemp": 98,
          "DiastolicBP": 100,
          "HeartRate": 75,
          "RiskLevel": "mid risk",
          "SystolicBP": 130
         },
         {
          "Age": 48,
          "BS": 11,
          "BodyTemp": 98,
          "DiastolicBP": 80,
          "HeartRate": 88,
          "RiskLevel": "high risk",
          "SystolicBP": 120
         },
         {
          "Age": 21,
          "BS": 6.9,
          "BodyTemp": 98,
          "DiastolicBP": 80,
          "HeartRate": 76,
          "RiskLevel": "mid risk",
          "SystolicBP": 120
         },
         {
          "Age": 12,
          "BS": 7.2,
          "BodyTemp": 98,
          "DiastolicBP": 60,
          "HeartRate": 77,
          "RiskLevel": "low risk",
          "SystolicBP": 95
         },
         {
          "Age": 25,
          "BS": 6.9,
          "BodyTemp": 98,
          "DiastolicBP": 90,
          "HeartRate": 76,
          "RiskLevel": "low risk",
          "SystolicBP": 100
         },
         {
          "Age": 25,
          "BS": 6.8,
          "BodyTemp": 98,
          "DiastolicBP": 80,
          "HeartRate": 66,
          "RiskLevel": "mid risk",
          "SystolicBP": 120
         },
         {
          "Age": 17,
          "BS": 7.8,
          "BodyTemp": 102,
          "DiastolicBP": 69,
          "HeartRate": 86,
          "RiskLevel": "high risk",
          "SystolicBP": 85
         },
         {
          "Age": 19,
          "BS": 7,
          "BodyTemp": 98,
          "DiastolicBP": 80,
          "HeartRate": 70,
          "RiskLevel": "mid risk",
          "SystolicBP": 120
         },
         {
          "Age": 23,
          "BS": 7.5,
          "BodyTemp": 98,
          "DiastolicBP": 65,
          "HeartRate": 70,
          "RiskLevel": "low risk",
          "SystolicBP": 85
         },
         {
          "Age": 12,
          "BS": 7.8,
          "BodyTemp": 102,
          "DiastolicBP": 60,
          "HeartRate": 60,
          "RiskLevel": "high risk",
          "SystolicBP": 90
         },
         {
          "Age": 43,
          "BS": 18,
          "BodyTemp": 98,
          "DiastolicBP": 90,
          "HeartRate": 70,
          "RiskLevel": "high risk",
          "SystolicBP": 120
         },
         {
          "Age": 19,
          "BS": 7.5,
          "BodyTemp": 98,
          "DiastolicBP": 76,
          "HeartRate": 66,
          "RiskLevel": "low risk",
          "SystolicBP": 120
         },
         {
          "Age": 54,
          "BS": 15,
          "BodyTemp": 98,
          "DiastolicBP": 100,
          "HeartRate": 66,
          "RiskLevel": "high risk",
          "SystolicBP": 140
         },
         {
          "Age": 55,
          "BS": 7.5,
          "BodyTemp": 98,
          "DiastolicBP": 85,
          "HeartRate": 88,
          "RiskLevel": "low risk",
          "SystolicBP": 129
         },
         {
          "Age": 21,
          "BS": 6.9,
          "BodyTemp": 98,
          "DiastolicBP": 65,
          "HeartRate": 76,
          "RiskLevel": "mid risk",
          "SystolicBP": 90
         },
         {
          "Age": 17,
          "BS": 12,
          "BodyTemp": 101,
          "DiastolicBP": 75,
          "HeartRate": 76,
          "RiskLevel": "high risk",
          "SystolicBP": 110
         },
         {
          "Age": 21,
          "BS": 7,
          "BodyTemp": 98,
          "DiastolicBP": 80,
          "HeartRate": 77,
          "RiskLevel": "low risk",
          "SystolicBP": 120
         },
         {
          "Age": 19,
          "BS": 7.9,
          "BodyTemp": 98,
          "DiastolicBP": 85,
          "HeartRate": 60,
          "RiskLevel": "low risk",
          "SystolicBP": 120
         },
         {
          "Age": 15,
          "BS": 6.7,
          "BodyTemp": 98,
          "DiastolicBP": 60,
          "HeartRate": 80,
          "RiskLevel": "low risk",
          "SystolicBP": 80
         },
         {
          "Age": 13,
          "BS": 7.9,
          "BodyTemp": 101,
          "DiastolicBP": 65,
          "HeartRate": 80,
          "RiskLevel": "mid risk",
          "SystolicBP": 90
         },
         {
          "Age": 12,
          "BS": 6.8,
          "BodyTemp": 98,
          "DiastolicBP": 90,
          "HeartRate": 80,
          "RiskLevel": "mid risk",
          "SystolicBP": 120
         },
         {
          "Age": 19,
          "BS": 7,
          "BodyTemp": 98,
          "DiastolicBP": 80,
          "HeartRate": 70,
          "RiskLevel": "mid risk",
          "SystolicBP": 120
         },
         {
          "Age": 28,
          "BS": 7.5,
          "BodyTemp": 98,
          "DiastolicBP": 60,
          "HeartRate": 82,
          "RiskLevel": "mid risk",
          "SystolicBP": 90
         },
         {
          "Age": 12,
          "BS": 6.8,
          "BodyTemp": 98,
          "DiastolicBP": 90,
          "HeartRate": 80,
          "RiskLevel": "mid risk",
          "SystolicBP": 120
         },
         {
          "Age": 17,
          "BS": 9,
          "BodyTemp": 102,
          "DiastolicBP": 60,
          "HeartRate": 86,
          "RiskLevel": "mid risk",
          "SystolicBP": 90
         },
         {
          "Age": 15,
          "BS": 7.5,
          "BodyTemp": 98,
          "DiastolicBP": 49,
          "HeartRate": 77,
          "RiskLevel": "low risk",
          "SystolicBP": 78
         },
         {
          "Age": 19,
          "BS": 9,
          "BodyTemp": 98,
          "DiastolicBP": 85,
          "HeartRate": 60,
          "RiskLevel": "mid risk",
          "SystolicBP": 120
         },
         {
          "Age": 13,
          "BS": 9,
          "BodyTemp": 101,
          "DiastolicBP": 65,
          "HeartRate": 80,
          "RiskLevel": "high risk",
          "SystolicBP": 90
         },
         {
          "Age": 19,
          "BS": 7.9,
          "BodyTemp": 98,
          "DiastolicBP": 85,
          "HeartRate": 60,
          "RiskLevel": "low risk",
          "SystolicBP": 120
         },
         {
          "Age": 42,
          "BS": 18,
          "BodyTemp": 98,
          "DiastolicBP": 80,
          "HeartRate": 70,
          "RiskLevel": "high risk",
          "SystolicBP": 130
         },
         {
          "Age": 12,
          "BS": 7.5,
          "BodyTemp": 102,
          "DiastolicBP": 60,
          "HeartRate": 66,
          "RiskLevel": "mid risk",
          "SystolicBP": 90
         },
         {
          "Age": 19,
          "BS": 7.7,
          "BodyTemp": 98,
          "DiastolicBP": 70,
          "HeartRate": 80,
          "RiskLevel": "low risk",
          "SystolicBP": 90
         },
         {
          "Age": 60,
          "BS": 6.8,
          "BodyTemp": 98,
          "DiastolicBP": 65,
          "HeartRate": 77,
          "RiskLevel": "mid risk",
          "SystolicBP": 90
         },
         {
          "Age": 17,
          "BS": 6.7,
          "BodyTemp": 102,
          "DiastolicBP": 80,
          "HeartRate": 76,
          "RiskLevel": "mid risk",
          "SystolicBP": 120
         },
         {
          "Age": 22,
          "BS": 12,
          "BodyTemp": 98,
          "DiastolicBP": 65,
          "HeartRate": 80,
          "RiskLevel": "high risk",
          "SystolicBP": 100
         },
         {
          "Age": 60,
          "BS": 7,
          "BodyTemp": 98,
          "DiastolicBP": 65,
          "HeartRate": 77,
          "RiskLevel": "low risk",
          "SystolicBP": 90
         },
         {
          "Age": 29,
          "BS": 6.1,
          "BodyTemp": 98,
          "DiastolicBP": 70,
          "HeartRate": 78,
          "RiskLevel": "mid risk",
          "SystolicBP": 130
         },
         {
          "Age": 18,
          "BS": 6.9,
          "BodyTemp": 98,
          "DiastolicBP": 60,
          "HeartRate": 70,
          "RiskLevel": "mid risk",
          "SystolicBP": 90
         },
         {
          "Age": 12,
          "BS": 6.1,
          "BodyTemp": 102,
          "DiastolicBP": 60,
          "HeartRate": 60,
          "RiskLevel": "low risk",
          "SystolicBP": 95
         },
         {
          "Age": 17,
          "BS": 6.9,
          "BodyTemp": 101,
          "DiastolicBP": 63,
          "HeartRate": 70,
          "RiskLevel": "mid risk",
          "SystolicBP": 90
         },
         {
          "Age": 13,
          "BS": 7.8,
          "BodyTemp": 101,
          "DiastolicBP": 65,
          "HeartRate": 80,
          "RiskLevel": "mid risk",
          "SystolicBP": 90
         },
         {
          "Age": 60,
          "BS": 6.8,
          "BodyTemp": 98,
          "DiastolicBP": 65,
          "HeartRate": 77,
          "RiskLevel": "mid risk",
          "SystolicBP": 90
         },
         {
          "Age": 19,
          "BS": 7,
          "BodyTemp": 98,
          "DiastolicBP": 80,
          "HeartRate": 70,
          "RiskLevel": "mid risk",
          "SystolicBP": 120
         },
         {
          "Age": 22,
          "BS": 7.5,
          "BodyTemp": 102,
          "DiastolicBP": 60,
          "HeartRate": 60,
          "RiskLevel": "high risk",
          "SystolicBP": 90
         },
         {
          "Age": 35,
          "BS": 8,
          "BodyTemp": 98,
          "DiastolicBP": 100,
          "HeartRate": 66,
          "RiskLevel": "high risk",
          "SystolicBP": 140
         },
         {
          "Age": 14,
          "BS": 7,
          "BodyTemp": 101,
          "DiastolicBP": 65,
          "HeartRate": 70,
          "RiskLevel": "high risk",
          "SystolicBP": 90
         },
         {
          "Age": 30,
          "BS": 7.9,
          "BodyTemp": 101,
          "DiastolicBP": 80,
          "HeartRate": 76,
          "RiskLevel": "high risk",
          "SystolicBP": 120
         },
         {
          "Age": 35,
          "BS": 7.5,
          "BodyTemp": 98,
          "DiastolicBP": 70,
          "HeartRate": 66,
          "RiskLevel": "low risk",
          "SystolicBP": 100
         },
         {
          "Age": 21,
          "BS": 7.5,
          "BodyTemp": 98,
          "DiastolicBP": 50,
          "HeartRate": 60,
          "RiskLevel": "low risk",
          "SystolicBP": 75
         },
         {
          "Age": 55,
          "BS": 18,
          "BodyTemp": 98,
          "DiastolicBP": 90,
          "HeartRate": 60,
          "RiskLevel": "high risk",
          "SystolicBP": 120
         },
         {
          "Age": 35,
          "BS": 6.1,
          "BodyTemp": 98,
          "DiastolicBP": 70,
          "HeartRate": 66,
          "RiskLevel": "low risk",
          "SystolicBP": 100
         },
         {
          "Age": 55,
          "BS": 6.9,
          "BodyTemp": 102,
          "DiastolicBP": 80,
          "HeartRate": 80,
          "RiskLevel": "low risk",
          "SystolicBP": 120
         },
         {
          "Age": 29,
          "BS": 8,
          "BodyTemp": 100,
          "DiastolicBP": 70,
          "HeartRate": 80,
          "RiskLevel": "high risk",
          "SystolicBP": 90
         },
         {
          "Age": 48,
          "BS": 15,
          "BodyTemp": 98,
          "DiastolicBP": 90,
          "HeartRate": 90,
          "RiskLevel": "high risk",
          "SystolicBP": 140
         },
         {
          "Age": 29,
          "BS": 7.5,
          "BodyTemp": 98,
          "DiastolicBP": 70,
          "HeartRate": 78,
          "RiskLevel": "mid risk",
          "SystolicBP": 130
         },
         {
          "Age": 40,
          "BS": 11,
          "BodyTemp": 98,
          "DiastolicBP": 95,
          "HeartRate": 80,
          "RiskLevel": "mid risk",
          "SystolicBP": 120
         },
         {
          "Age": 20,
          "BS": 7,
          "BodyTemp": 100,
          "DiastolicBP": 60,
          "HeartRate": 70,
          "RiskLevel": "mid risk",
          "SystolicBP": 110
         },
         {
          "Age": 25,
          "BS": 7,
          "BodyTemp": 98,
          "DiastolicBP": 80,
          "HeartRate": 66,
          "RiskLevel": "low risk",
          "SystolicBP": 120
         },
         {
          "Age": 35,
          "BS": 7.5,
          "BodyTemp": 98,
          "DiastolicBP": 70,
          "HeartRate": 66,
          "RiskLevel": "low risk",
          "SystolicBP": 100
         },
         {
          "Age": 60,
          "BS": 6.8,
          "BodyTemp": 98,
          "DiastolicBP": 80,
          "HeartRate": 77,
          "RiskLevel": "mid risk",
          "SystolicBP": 120
         },
         {
          "Age": 40,
          "BS": 6.9,
          "BodyTemp": 98,
          "DiastolicBP": 90,
          "HeartRate": 80,
          "RiskLevel": "low risk",
          "SystolicBP": 120
         },
         {
          "Age": 36,
          "BS": 7,
          "BodyTemp": 98,
          "DiastolicBP": 90,
          "HeartRate": 82,
          "RiskLevel": "mid risk",
          "SystolicBP": 120
         },
         {
          "Age": 65,
          "BS": 6.9,
          "BodyTemp": 103,
          "DiastolicBP": 90,
          "HeartRate": 76,
          "RiskLevel": "low risk",
          "SystolicBP": 120
         },
         {
          "Age": 35,
          "BS": 6.8,
          "BodyTemp": 98,
          "DiastolicBP": 70,
          "HeartRate": 60,
          "RiskLevel": "mid risk",
          "SystolicBP": 100
         },
         {
          "Age": 38,
          "BS": 7.9,
          "BodyTemp": 101,
          "DiastolicBP": 60,
          "HeartRate": 86,
          "RiskLevel": "high risk",
          "SystolicBP": 135
         },
         {
          "Age": 23,
          "BS": 6.4,
          "BodyTemp": 98,
          "DiastolicBP": 60,
          "HeartRate": 76,
          "RiskLevel": "low risk",
          "SystolicBP": 90
         },
         {
          "Age": 55,
          "BS": 7.5,
          "BodyTemp": 98,
          "DiastolicBP": 65,
          "HeartRate": 66,
          "RiskLevel": "low risk",
          "SystolicBP": 100
         },
         {
          "Age": 20,
          "BS": 7.5,
          "BodyTemp": 98,
          "DiastolicBP": 90,
          "HeartRate": 88,
          "RiskLevel": "low risk",
          "SystolicBP": 100
         },
         {
          "Age": 54,
          "BS": 12,
          "BodyTemp": 98,
          "DiastolicBP": 70,
          "HeartRate": 67,
          "RiskLevel": "mid risk",
          "SystolicBP": 130
         },
         {
          "Age": 23,
          "BS": 7.5,
          "BodyTemp": 98,
          "DiastolicBP": 60,
          "HeartRate": 76,
          "RiskLevel": "low risk",
          "SystolicBP": 90
         },
         {
          "Age": 29,
          "BS": 11,
          "BodyTemp": 100,
          "DiastolicBP": 70,
          "HeartRate": 80,
          "RiskLevel": "high risk",
          "SystolicBP": 90
         },
         {
          "Age": 30,
          "BS": 15,
          "BodyTemp": 98,
          "DiastolicBP": 100,
          "HeartRate": 70,
          "RiskLevel": "high risk",
          "SystolicBP": 140
         },
         {
          "Age": 29,
          "BS": 7.8,
          "BodyTemp": 98,
          "DiastolicBP": 70,
          "HeartRate": 78,
          "RiskLevel": "mid risk",
          "SystolicBP": 130
         },
         {
          "Age": 17,
          "BS": 6.7,
          "BodyTemp": 102,
          "DiastolicBP": 80,
          "HeartRate": 76,
          "RiskLevel": "mid risk",
          "SystolicBP": 120
         },
         {
          "Age": 28,
          "BS": 9,
          "BodyTemp": 101,
          "DiastolicBP": 60,
          "HeartRate": 86,
          "RiskLevel": "mid risk",
          "SystolicBP": 85
         },
         {
          "Age": 23,
          "BS": 7.5,
          "BodyTemp": 98,
          "DiastolicBP": 80,
          "HeartRate": 70,
          "RiskLevel": "mid risk",
          "SystolicBP": 120
         },
         {
          "Age": 40,
          "BS": 19,
          "BodyTemp": 98,
          "DiastolicBP": 100,
          "HeartRate": 77,
          "RiskLevel": "high risk",
          "SystolicBP": 160
         },
         {
          "Age": 50,
          "BS": 15,
          "BodyTemp": 98,
          "DiastolicBP": 90,
          "HeartRate": 90,
          "RiskLevel": "high risk",
          "SystolicBP": 140
         },
         {
          "Age": 40,
          "BS": 11,
          "BodyTemp": 98,
          "DiastolicBP": 95,
          "HeartRate": 80,
          "RiskLevel": "high risk",
          "SystolicBP": 120
         },
         {
          "Age": 25,
          "BS": 7.01,
          "BodyTemp": 98,
          "DiastolicBP": 100,
          "HeartRate": 80,
          "RiskLevel": "high risk",
          "SystolicBP": 140
         },
         {
          "Age": 28,
          "BS": 9,
          "BodyTemp": 101,
          "DiastolicBP": 60,
          "HeartRate": 86,
          "RiskLevel": "mid risk",
          "SystolicBP": 85
         },
         {
          "Age": 19,
          "BS": 7.8,
          "BodyTemp": 98,
          "DiastolicBP": 85,
          "HeartRate": 60,
          "RiskLevel": "mid risk",
          "SystolicBP": 120
         },
         {
          "Age": 25,
          "BS": 12,
          "BodyTemp": 101,
          "DiastolicBP": 90,
          "HeartRate": 80,
          "RiskLevel": "high risk",
          "SystolicBP": 120
         },
         {
          "Age": 65,
          "BS": 6.9,
          "BodyTemp": 98,
          "DiastolicBP": 60,
          "HeartRate": 70,
          "RiskLevel": "low risk",
          "SystolicBP": 90
         },
         {
          "Age": 17,
          "BS": 7.8,
          "BodyTemp": 103,
          "DiastolicBP": 65,
          "HeartRate": 67,
          "RiskLevel": "high risk",
          "SystolicBP": 90
         },
         {
          "Age": 22,
          "BS": 7.8,
          "BodyTemp": 98,
          "DiastolicBP": 90,
          "HeartRate": 82,
          "RiskLevel": "mid risk",
          "SystolicBP": 120
         },
         {
          "Age": 17,
          "BS": 7.5,
          "BodyTemp": 101,
          "DiastolicBP": 63,
          "HeartRate": 70,
          "RiskLevel": "low risk",
          "SystolicBP": 90
         }
        ]
       },
       "repeat": {
        "column": [
         "Age",
         "SystolicBP",
         "DiastolicBP",
         "BS",
         "BodyTemp",
         "HeartRate"
        ],
        "row": [
         "Age",
         "SystolicBP",
         "DiastolicBP",
         "BS",
         "BodyTemp",
         "HeartRate"
        ]
       },
       "spec": {
        "data": {
         "name": "data-7e8bbd2fbc54621a767bfe5b6ae44e13"
        },
        "encoding": {
         "x": {
          "field": {
           "repeat": "row"
          },
          "type": "quantitative"
         },
         "y": {
          "field": {
           "repeat": "column"
          },
          "type": "quantitative"
         }
        },
        "height": 100,
        "mark": {
         "opacity": 0.3,
         "size": 10,
         "type": "point"
        },
        "width": 100
       }
      },
      "image/png": "[encoded data removed]",
      "text/plain": [
       "<VegaLite 4 object>\n",
       "\n",
       "If you see this message, it means the renderer has not been properly enabled\n",
       "for the frontend that you are using. For more information, see\n",
       "https://altair-viz.github.io/user_guide/troubleshooting.html\n"
      ]
     },
     "execution_count": 14,
     "metadata": {},
     "output_type": "execute_result"
    }
   ],
   "source": [
    "alt.Chart(train_df).mark_point(opacity=0.3, size=10).encode(\n",
    "     alt.X(alt.repeat('row'), type='quantitative'),\n",
    "     alt.Y(alt.repeat('column'), type='quantitative')\n",
    ").properties(\n",
    "    width=100,\n",
    "    height=100\n",
    ").repeat(\n",
    "    column=['Age', 'SystolicBP', 'DiastolicBP', 'BS', 'BodyTemp', 'HeartRate'],\n",
    "    row=['Age', 'SystolicBP', 'DiastolicBP', 'BS', 'BodyTemp', 'HeartRate']\n",
    ")"
   ]
  },
  {
   "cell_type": "markdown",
   "id": "0542b722-cea0-4063-9712-b1183893474c",
   "metadata": {},
   "source": [
    "Figure 3. Pairwise relationship between predictors."
   ]
  },
  {
   "cell_type": "markdown",
   "id": "d389c638-7de8-4963-925b-3aae7a94d6e4",
   "metadata": {},
   "source": [
    "From the above table and figure, we can see that the features SystolicBP and DiastolicBP have high correlation compared to other pairs of predictors, followed by the correlation between the two blood pressure levels and age. For other pairs of predictors, there are no significant correlations found."
   ]
  },
  {
   "cell_type": "markdown",
   "id": "2b4534b4-cc18-42a8-91b4-00e8602e5e5d",
   "metadata": {},
   "source": [
    "# References"
   ]
  },
  {
   "cell_type": "markdown",
   "id": "12d16e4b-59c0-4021-b8f1-c89374caccf0",
   "metadata": {},
   "source": [
    "Dua, Dheeru, and Casey Graff. 2017. “UCI Machine Learning Repository.” University of California, Irvine, School of Information; Computer Sciences. http://archive.ics.uci.edu/ml."
   ]
  }
 ],
 "metadata": {
  "kernelspec": {
   "display_name": "Python 3 (ipykernel)",
   "language": "python",
   "name": "python3"
  },
  "language_info": {
   "codemirror_mode": {
    "name": "ipython",
    "version": 3
   },
   "file_extension": ".py",
   "mimetype": "text/x-python",
   "name": "python",
   "nbconvert_exporter": "python",
   "pygments_lexer": "ipython3",
   "version": "3.10.6"
  }
 },
 "nbformat": 4,
 "nbformat_minor": 5
}
