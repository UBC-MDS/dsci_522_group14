{
 "cells": [
  {
   "cell_type": "markdown",
   "id": "95afc41a-372e-448b-9807-2ba6af47624d",
   "metadata": {
    "tags": []
   },
   "source": [
    "# Exploratory data analysis of the Maternal Health Risk Data Set"
   ]
  },
  {
   "cell_type": "code",
   "execution_count": 2,
   "id": "af201ed2-d6c7-4ca3-962c-414f69c73337",
   "metadata": {},
   "outputs": [],
   "source": [
    "#import the required packages\n",
    "import pandas as pd"
   ]
  },
  {
   "cell_type": "code",
   "execution_count": null,
   "id": "91321065-3aca-459a-af9c-4fc63c38b52f",
   "metadata": {},
   "outputs": [],
   "source": []
  }
 ],
 "metadata": {
  "kernelspec": {
   "display_name": "Python 3 (ipykernel)",
   "language": "python",
   "name": "python3"
  },
  "language_info": {
   "codemirror_mode": {
    "name": "ipython",
    "version": 3
   },
   "file_extension": ".py",
   "mimetype": "text/x-python",
   "name": "python",
   "nbconvert_exporter": "python",
   "pygments_lexer": "ipython3",
   "version": "3.10.6"
  }
 },
 "nbformat": 4,
 "nbformat_minor": 5
}
